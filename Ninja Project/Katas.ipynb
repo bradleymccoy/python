{
 "cells": [
  {
   "cell_type": "code",
   "execution_count": null,
   "metadata": {},
   "outputs": [],
   "source": [
    "import time\n",
    "def timeit(method):\n",
    "    def timed(*args, **kw):\n",
    "        ts = time.time()\n",
    "        result = method(*args,**kw)\n",
    "        te=time.time()\n",
    "        print('--------%s seconds' % (te - ts))\n",
    "        return result\n",
    "    return timed"
   ]
  },
  {
   "cell_type": "code",
   "execution_count": null,
   "metadata": {},
   "outputs": [],
   "source": [
    "import math\n",
    "def test(a,n):\n",
    "    if n>1000:\n",
    "        b=int(n/1000)\n",
    "        return pow(a,b)\n",
    "    else:\n",
    "        return pow(a,n)\n",
    "@timeit\n",
    "def compare(n1, n2):  \n",
    "    val1 = test(n1[0],n1[1])\n",
    "    val2 = test(n2[0],n2[1])\n",
    "    return n1 if val1>val2 else n2\n",
    "    #return val1,val2"
   ]
  },
  {
   "cell_type": "code",
   "execution_count": null,
   "metadata": {},
   "outputs": [],
   "source": [
    "#highest rated\n",
    "from math import log\n",
    "@timeit\n",
    "def compare(*numbers):\n",
    "    return max(numbers, key=lambda n: n[1]*log(n[0]))"
   ]
  },
  {
   "cell_type": "code",
   "execution_count": null,
   "metadata": {},
   "outputs": [],
   "source": [
    "#2nd highest rated\n",
    "from math import log\n",
    "compare=lambda a,b:[a,b][log(a[0])*a[1]<log(b[0])*b[1]]"
   ]
  },
  {
   "cell_type": "code",
   "execution_count": null,
   "metadata": {},
   "outputs": [],
   "source": [
    "#3rd highest rated\n",
    "from math import log\n",
    "@timeit\n",
    "def compare(number1, number2):\n",
    "    base1, exp1 = number1\n",
    "    base2, exp2 = number2\n",
    "    return number1 if base1 > 1 and exp1 > exp2 * log(base2, base1) else number2"
   ]
  },
  {
   "cell_type": "code",
   "execution_count": null,
   "metadata": {
    "scrolled": true
   },
   "outputs": [],
   "source": [
    "pow(960290,int(math.sqrt(502358)))"
   ]
  },
  {
   "cell_type": "code",
   "execution_count": null,
   "metadata": {},
   "outputs": [],
   "source": [
    "#my time\n",
    "compare((7600018, 5110029),(1668000, 5750487))\n"
   ]
  },
  {
   "cell_type": "code",
   "execution_count": null,
   "metadata": {},
   "outputs": [],
   "source": [
    "#highest rated time\n",
    "compare((7600018, 5110029),(1668000, 5750487))"
   ]
  },
  {
   "cell_type": "code",
   "execution_count": null,
   "metadata": {},
   "outputs": [],
   "source": [
    "math.exp(6.9141387939453125e-06)"
   ]
  },
  {
   "cell_type": "code",
   "execution_count": null,
   "metadata": {},
   "outputs": [],
   "source": [
    "math.exp(5.0067901611328125e-06)"
   ]
  },
  {
   "cell_type": "code",
   "execution_count": null,
   "metadata": {
    "scrolled": true
   },
   "outputs": [],
   "source": [
    "#3rds time\n",
    "compare((7600018, 5110029),(1668000, 5750487))"
   ]
  },
  {
   "cell_type": "code",
   "execution_count": null,
   "metadata": {},
   "outputs": [],
   "source": [
    "compare((1,10),(2,3)), (2,3)\n",
    "compare((4,7),(3,8)), (4,7)\n",
    "#compare((5, 1000), (6, 900)), (6, 900)\n",
    "#compare((15991,714883), (960290,502358)), (960290,502358)"
   ]
  },
  {
   "cell_type": "code",
   "execution_count": null,
   "metadata": {
    "scrolled": true
   },
   "outputs": [],
   "source": [
    "compare((5, 1000), (6, 900))"
   ]
  },
  {
   "cell_type": "code",
   "execution_count": null,
   "metadata": {},
   "outputs": [],
   "source": [
    "compare((15991,714883), (960290,502358))"
   ]
  },
  {
   "cell_type": "code",
   "execution_count": null,
   "metadata": {},
   "outputs": [],
   "source": [
    "compare((5, 1000), (6, 900))"
   ]
  },
  {
   "cell_type": "code",
   "execution_count": null,
   "metadata": {},
   "outputs": [],
   "source": [
    "@timeit\n",
    "def test(a,b):\n",
    "    x=pow(a,b/2)\n",
    "    x=x*x\n",
    "    return x"
   ]
  },
  {
   "cell_type": "code",
   "execution_count": null,
   "metadata": {},
   "outputs": [],
   "source": [
    "@timeit\n",
    "def t2(a,b):\n",
    "    return pow(a,b)"
   ]
  },
  {
   "cell_type": "markdown",
   "metadata": {},
   "source": [
    "## Last Digit of a huge number\n",
    "For a given list [x1, x2, x3, ..., xn] compute the last (decimal) digit of x1 ^ (x2 ^ (x3 ^ (... ^ xn))).\n",
    "\n",
    "E. g.,\n",
    "\n",
    "last_digit([3, 4, 2]) == 1\n",
    "because 3 ^ (4 ^ 2) = 3 ^ 16 = 43046721.\n",
    "\n",
    "Beware: powers grow incredibly fast. For example, 9 ^ (9 ^ 9) has more than 369 millions of digits. lastDigit has to deal with such numbers efficiently.\n",
    "\n",
    "Corner cases: we assume that 0 ^ 0 = 1 and that lastDigit of an empty list equals to 1.\n",
    "\n",
    "This kata generalizes Last digit of a large number; you may find useful to solve it beforehand."
   ]
  },
  {
   "cell_type": "code",
   "execution_count": 343,
   "metadata": {},
   "outputs": [],
   "source": [
    "#lst=[3,4,2]\n",
    "#lst=[0,0,0,0,1]\n",
    "#lst=[1, 2]\n",
    "#lst=[3,4,5]\n",
    "lst=[4,3,6]\n",
    "#lst=[7, 6, 21]\n",
    "#lst=[2,2,2,0]\n",
    "#lst=[123232, 694022, 140249]\n",
    "#lst=[937640, 767456, 981242]\n",
    "#lst=[499942, 898102, 846073]"
   ]
  },
  {
   "cell_type": "code",
   "execution_count": 347,
   "metadata": {},
   "outputs": [],
   "source": [
    "#my solution that still had 40 errors out of 650.....\n",
    "def is_even(num):\n",
    "    return num%2==0\n",
    "\n",
    "def last_digit(lst):\n",
    "    if len(lst)==0:\n",
    "        return 1\n",
    "    elif max(lst)==0:\n",
    "        if is_even(len(lst)):\n",
    "            return 1\n",
    "        else:\n",
    "            return 0\n",
    "    elif max(lst)<5:\n",
    "        i=len(lst)-1\n",
    "        y=0\n",
    "        while i>0:\n",
    "            y=pow(lst[i-1],lst[i])\n",
    "            i-=1\n",
    "        return int(str(y)[-1])\n",
    "    else:\n",
    "        i=len(lst)-1\n",
    "        y=1\n",
    "        while i>0:\n",
    "            if is_even(lst[i]):\n",
    "                y = pow(lst[i-1],4)\n",
    "            else:\n",
    "                y = pow(lst[i-1],5)\n",
    "            i-=1\n",
    "\n",
    "    return int(str(y)[-1])"
   ]
  },
  {
   "cell_type": "code",
   "execution_count": null,
   "metadata": {},
   "outputs": [],
   "source": [
    "#this is what I found on github to solve it\n",
    "from functools import reduce\n",
    "def get_expo(n):\n",
    "    if n <= 4: return n\n",
    "    tail = n % 100 if n % 100 > 1 else n % 1000\n",
    "    expo = 4 if tail % 4 == 0 else tail % 4\n",
    "    result = expo if expo > 1 else tail\n",
    "    return result\n",
    "\n",
    "\n",
    "def last_digit(numbers):\n",
    "    if not numbers: return 1\n",
    "    if len(numbers) == 1: return numbers[0] % 10\n",
    "    expo = numbers[1] if len(numbers) == 2 else reduce(lambda y, x: x ** get_expo(y), numbers[1:][::-1])\n",
    "    return ((numbers[0] % 10) ** get_expo(expo)) % 10"
   ]
  },
  {
   "cell_type": "code",
   "execution_count": null,
   "metadata": {},
   "outputs": [],
   "source": [
    "#highest rated best practice and highest rated clever\n",
    "def last_digit(lst):\n",
    "    n = 1\n",
    "    for x in reversed(lst):\n",
    "        n = x ** (n if n < 4 else n % 4 + 4)\n",
    "    return n % 10"
   ]
  },
  {
   "cell_type": "code",
   "execution_count": 345,
   "metadata": {},
   "outputs": [],
   "source": [
    "lst=[12, 30,21]"
   ]
  },
  {
   "cell_type": "code",
   "execution_count": 159,
   "metadata": {},
   "outputs": [],
   "source": [
    "test_data = [\n",
    "    ([], 1),\n",
    "    ([0, 0], 1),\n",
    "    ([0, 0, 0], 0),\n",
    "    ([1, 2], 1),\n",
    "    ([3, 4, 5], 1),\n",
    "    ([4, 3, 6], 4),\n",
    "    ([7, 6, 21], 1),\n",
    "    ([12, 30, 21], 6),\n",
    "    ([2, 2, 2, 0], 4),\n",
    "    ([937640, 767456, 981242], 0),\n",
    "    ([123232, 694022, 140249], 6),\n",
    "    ([499942, 898102, 846073], 6)\n",
    "]"
   ]
  },
  {
   "cell_type": "markdown",
   "metadata": {},
   "source": [
    "## Prime Streaming (PG-13)\n",
    "Create an endless stream of prime numbers - a bit like IntStream.of(2, 3, 5, 7, 11, 13, 17), but infinite. The stream must be able to produce a million primes in a few seconds.\n",
    "\n"
   ]
  },
  {
   "cell_type": "code",
   "execution_count": 349,
   "metadata": {},
   "outputs": [],
   "source": [
    "#where I left off\n",
    "#this passes all small test. Timesout when running random larger number test\n",
    "import math\n",
    "def is_prime(n):\n",
    "    if n % 2 == 0 and n > 2: \n",
    "        return False\n",
    "    return all(n % i for i in range(3, int(math.sqrt(n)) + 1, 2))\n",
    "    \n",
    "class Primes:\n",
    "    @staticmethod       \n",
    "    def stream():\n",
    "        i = 2\n",
    "        while True:\n",
    "            if is_prime(i) ==True:\n",
    "                yield i\n",
    "            i+=1\n",
    "    \n",
    "        "
   ]
  },
  {
   "cell_type": "code",
   "execution_count": 414,
   "metadata": {},
   "outputs": [],
   "source": [
    "def primes():\n",
    "    Max = 16000000\n",
    "    Sqrt = int(math.sqrt(Max))\n",
    "    arr = [False]+[True]*Max\n",
    "    for i in range(3,Sqrt,2):\n",
    "        if arr[i]:\n",
    "            arr[i*i::2*i]=[False]*(((Max-(i*i))//(2*i))+1)     \n",
    "    return [2] + [i for i in range(3,Max,2) if arr[i]]\n",
    "#doing it this way you don't have to generate numbers more than once\n",
    "class Primes:\n",
    "    lst=primes()\n",
    "    @staticmethod\n",
    "    def stream():\n",
    "        yield from Primes.lst"
   ]
  },
  {
   "cell_type": "code",
   "execution_count": 350,
   "metadata": {},
   "outputs": [],
   "source": [
    "def verify(from_n, *vals):\n",
    "  stream = Primes.stream()\n",
    "  for _ in range(from_n): next(stream)\n",
    "  for v in vals: Test.assert_equals(next(stream), v)"
   ]
  },
  {
   "cell_type": "code",
   "execution_count": 417,
   "metadata": {},
   "outputs": [
    {
     "data": {
      "text/plain": [
       "True"
      ]
     },
     "execution_count": 417,
     "metadata": {},
     "output_type": "execute_result"
    }
   ],
   "source": [
    "phoneNumber = '(123) 456-7891'\n",
    "phoneNumber[:5]=='(123)'\n"
   ]
  },
  {
   "cell_type": "code",
   "execution_count": 420,
   "metadata": {},
   "outputs": [
    {
     "data": {
      "text/plain": [
       "' '"
      ]
     },
     "execution_count": 420,
     "metadata": {},
     "output_type": "execute_result"
    }
   ],
   "source": [
    "phoneNumber[5]"
   ]
  },
  {
   "cell_type": "code",
   "execution_count": 421,
   "metadata": {},
   "outputs": [
    {
     "data": {
      "text/plain": [
       "'-'"
      ]
     },
     "execution_count": 421,
     "metadata": {},
     "output_type": "execute_result"
    }
   ],
   "source": [
    "phoneNumber[9]"
   ]
  },
  {
   "cell_type": "code",
   "execution_count": 422,
   "metadata": {},
   "outputs": [
    {
     "data": {
      "text/plain": [
       "14"
      ]
     },
     "execution_count": 422,
     "metadata": {},
     "output_type": "execute_result"
    }
   ],
   "source": [
    "len(phoneNumber)"
   ]
  },
  {
   "cell_type": "markdown",
   "metadata": {},
   "source": [
    "# Seventh JSON of a seventh JSON\n",
    "Context\n",
    "According to Wikipedia : \"The seventh son of a seventh son is a concept from folklore regarding special powers given to, or held by, such a son. The seventh son must come from an unbroken line with no female siblings born between, and be, in turn, born to such a seventh son.\"\n",
    "\n",
    "Your task\n",
    "You will be given a string of JSON, consisting of a family tree containing people's names, genders and children. Your task will be to find the seventh sons of seventh sons in the family tree, and return a set of their names. If there are none, return an empty set.\n",
    "\n",
    "Tips\n",
    "Have a good look at the sample test cases.\n",
    "\n",
    "For a seventh son to be a seventh son, there must not be any daughters in the line leading to him. There may be daughters after him, though.\n",
    "\n",
    "You may want to use the json module for this one.\n",
    "\n"
   ]
  },
  {
   "cell_type": "code",
   "execution_count": 4,
   "metadata": {},
   "outputs": [],
   "source": [
    "import json\n",
    "def sevSon(data):\n",
    "    lst = [x['gender'] for x in list(data['children']) ]\n",
    "    #write loop to walk through each child to check for women. Break if women is found. else count number of males.\n",
    "    #if 7 grab 7th son and start again. \n",
    "    if 'female' not in lst[:7]:\n",
    "        final = [i['gender'] for i in data['children'][6]['children']]\n",
    "        names = [i['name'] for i in data['children'][6]['children']]\n",
    "        nex = data['children'][6]\n",
    "    else:\n",
    "        final = set()\n",
    "    return final,names,nex\n",
    "def find_seventh_sons_of_seventh_sons(jstring):\n",
    "    #the list of seventh sons of seventh sons\n",
    "    \n",
    "    data=json.loads(jstring)\n",
    "    final=[]\n",
    "    try:\n",
    "        while True:\n",
    "            result = sevSon(data)\n",
    "            if 'female' not in result[0]:\n",
    "                if len(result[1])>6:\n",
    "                    final.append(result[1][6])\n",
    "                    data=result[2]\n",
    "                else:\n",
    "                    break\n",
    "            else:\n",
    "                break\n",
    "    except:\n",
    "        final = []\n",
    "    return set(final)"
   ]
  },
  {
   "cell_type": "code",
   "execution_count": 28,
   "metadata": {},
   "outputs": [],
   "source": [
    "lst = [x['gender'] for x in list(data['children']) ]"
   ]
  },
  {
   "cell_type": "code",
   "execution_count": 33,
   "metadata": {},
   "outputs": [
    {
     "data": {
      "text/plain": [
       "[{'name': 'B', 'gender': 'male', 'children': []},\n",
       " {'name': 'C', 'gender': 'male', 'children': []},\n",
       " {'name': 'D', 'gender': 'male', 'children': []},\n",
       " {'name': 'E', 'gender': 'male', 'children': []},\n",
       " {'name': 'F', 'gender': 'male', 'children': []},\n",
       " {'name': 'G', 'gender': 'male', 'children': []},\n",
       " {'name': 'H',\n",
       "  'gender': 'male',\n",
       "  'children': [{'name': 'I', 'gender': 'male', 'children': []},\n",
       "   {'name': 'J', 'gender': 'male', 'children': []},\n",
       "   {'name': 'K', 'gender': 'male', 'children': []},\n",
       "   {'name': 'L', 'gender': 'male', 'children': []},\n",
       "   {'name': 'M', 'gender': 'male', 'children': []},\n",
       "   {'name': 'N', 'gender': 'male', 'children': []},\n",
       "   {'name': 'O', 'gender': 'male', 'children': []}]}]"
      ]
     },
     "execution_count": 33,
     "metadata": {},
     "output_type": "execute_result"
    }
   ],
   "source": [
    "[i for i in data['children']]"
   ]
  },
  {
   "cell_type": "code",
   "execution_count": 27,
   "metadata": {},
   "outputs": [],
   "source": [
    "data= {\n",
    "    'name': 'A',\n",
    "    'gender': 'male',\n",
    "    'children': [\n",
    "        {'name': 'B',\n",
    "         'gender': 'male',\n",
    "         'children': []},\n",
    "        {'name': 'C',\n",
    "         'gender': 'male',\n",
    "         'children': []},\n",
    "        {'name': 'D',\n",
    "         'gender': 'male',\n",
    "         'children': []},\n",
    "        {'name': 'E',\n",
    "         'gender': 'male',\n",
    "         'children': []},\n",
    "        {'name': 'F',\n",
    "         'gender': 'male',\n",
    "         'children': []},\n",
    "        {'name': 'G',\n",
    "         'gender': 'male',\n",
    "         'children': []},\n",
    "        {'name': 'H', # This is the seventh son\n",
    "         'gender': 'male',\n",
    "         'children':[\n",
    "            {'name': 'I',\n",
    "             'gender': 'male',\n",
    "             'children': []},\n",
    "            {'name': 'J',\n",
    "             'gender': 'male',\n",
    "             'children': []},\n",
    "            {'name': 'K',\n",
    "             'gender': 'male',\n",
    "             'children': []},\n",
    "            {'name': 'L',\n",
    "             'gender': 'male',\n",
    "             'children': []},\n",
    "            {'name': 'M',\n",
    "             'gender': 'male',\n",
    "             'children': []},\n",
    "            {'name': 'N',\n",
    "             'gender': 'male',\n",
    "             'children': []},\n",
    "            {'name': 'O', # This is the sventh son of the seventh son\n",
    "             'gender': 'male',\n",
    "             'children': []}\n",
    "         ]}\n",
    "    ]\n",
    "}"
   ]
  },
  {
   "cell_type": "code",
   "execution_count": 26,
   "metadata": {},
   "outputs": [
    {
     "data": {
      "text/plain": [
       "{'name': 'H',\n",
       " 'gender': 'male',\n",
       " 'children': [{'name': 'I', 'gender': 'male', 'children': []},\n",
       "  {'name': 'J', 'gender': 'male', 'children': []},\n",
       "  {'name': 'K', 'gender': 'male', 'children': []},\n",
       "  {'name': 'L', 'gender': 'male', 'children': []},\n",
       "  {'name': 'M', 'gender': 'male', 'children': []},\n",
       "  {'name': 'N', 'gender': 'male', 'children': []},\n",
       "  {'name': 'O', 'gender': 'male', 'children': []}]}"
      ]
     },
     "execution_count": 26,
     "metadata": {},
     "output_type": "execute_result"
    }
   ],
   "source": [
    "sevSon(test_json)[2]"
   ]
  },
  {
   "cell_type": "code",
   "execution_count": 23,
   "metadata": {},
   "outputs": [
    {
     "data": {
      "text/plain": [
       "[{'name': 'I', 'gender': 'male', 'children': []},\n",
       " {'name': 'J', 'gender': 'male', 'children': []},\n",
       " {'name': 'K', 'gender': 'male', 'children': []},\n",
       " {'name': 'L', 'gender': 'male', 'children': []},\n",
       " {'name': 'M', 'gender': 'male', 'children': []},\n",
       " {'name': 'N', 'gender': 'male', 'children': []},\n",
       " {'name': 'O', 'gender': 'male', 'children': []}]"
      ]
     },
     "execution_count": 23,
     "metadata": {},
     "output_type": "execute_result"
    }
   ],
   "source": [
    "test_json['children'][:7][-1]['children'][:7]"
   ]
  }
 ],
 "metadata": {
  "kernelspec": {
   "display_name": "Python 3",
   "language": "python",
   "name": "python3"
  },
  "language_info": {
   "codemirror_mode": {
    "name": "ipython",
    "version": 3
   },
   "file_extension": ".py",
   "mimetype": "text/x-python",
   "name": "python",
   "nbconvert_exporter": "python",
   "pygments_lexer": "ipython3",
   "version": "3.7.4"
  }
 },
 "nbformat": 4,
 "nbformat_minor": 2
}
