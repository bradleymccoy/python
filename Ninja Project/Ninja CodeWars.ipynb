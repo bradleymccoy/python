{
 "cells": [
  {
   "cell_type": "markdown",
   "metadata": {},
   "source": [
    "# Lambda Expressions and CodeWars"
   ]
  },
  {
   "cell_type": "markdown",
   "metadata": {},
   "source": [
    "One of Pythons most useful (and for beginners, confusing) tools is the lambda expression. lambda expressions allow us to create \"anonymous\" functions. This basically means we can quickly make ad-hoc functions without needing to properly define a function using def.\n",
    "\n",
    "Function objects returned by running lambda expressions work exactly the same as those created and assigned by defs. There is key difference that makes lambda useful in specialized roles:\n",
    "\n",
    "lambda's body is a single expression, not a block of statements.\n",
    "\n",
    "    The lambda's body is similar to what we would put in a def body's return statement. We simply type the result as an expression instead of explicitly returning it. Because it is limited to an expression, a lambda is less general that a def. We can only squeeze design, to limit program nesting. lambda is designed for coding simple functions, and def handles the larger tasks.\n"
   ]
  },
  {
   "cell_type": "code",
   "execution_count": 3,
   "metadata": {
    "collapsed": true
   },
   "outputs": [],
   "source": [
    "import time\n",
    "def timeit(method):\n",
    "    def timed(*args, **kw):\n",
    "        ts = time.time()\n",
    "        result = method(*args, **kw)\n",
    "        te = time.time()\n",
    "        print(\"------%s seconds\" % (te - ts))\n",
    "        return result\n",
    "    return timed"
   ]
  },
  {
   "cell_type": "code",
   "execution_count": 65,
   "metadata": {},
   "outputs": [
    {
     "name": "stdout",
     "output_type": "stream",
     "text": [
      "------5000.0 seconds\n"
     ]
    }
   ],
   "source": [
    "ts = time.time()\n",
    "te = time.time()+5000\n",
    "print('------%s seconds' %(te-ts))"
   ]
  },
  {
   "cell_type": "code",
   "execution_count": 82,
   "metadata": {
    "collapsed": true
   },
   "outputs": [],
   "source": [
    "\n",
    "@timeit\n",
    "def test_timeit():\n",
    "    ts=time.time()\n",
    "    final= False\n",
    "    while final == False:\n",
    "        if time.time()< ts+.00000015:\n",
    "             final= False\n",
    "        else:\n",
    "            final= True\n",
    "    print final"
   ]
  },
  {
   "cell_type": "code",
   "execution_count": 83,
   "metadata": {},
   "outputs": [
    {
     "name": "stdout",
     "output_type": "stream",
     "text": [
      "True\n",
      "------0.0159997940063 seconds\n"
     ]
    }
   ],
   "source": [
    "test_timeit()"
   ]
  },
  {
   "cell_type": "code",
   "execution_count": null,
   "metadata": {
    "collapsed": true
   },
   "outputs": [],
   "source": [
    "def square(num):\n",
    "    result = num**2\n",
    "    return result"
   ]
  },
  {
   "cell_type": "code",
   "execution_count": null,
   "metadata": {
    "collapsed": true
   },
   "outputs": [],
   "source": [
    "sum([10,11,12])"
   ]
  },
  {
   "cell_type": "code",
   "execution_count": null,
   "metadata": {
    "collapsed": true
   },
   "outputs": [],
   "source": [
    "def tribonacci(signature, n):\n",
    "    def fib(signature):\n",
    "        \n",
    "        a,b,c = signature\n",
    "        while True:\n",
    "            yield a\n",
    "            a, b ,c = b, c , a + b + c\n",
    "    \n",
    "    \n",
    "    i = 0\n",
    "    while i<n:\n",
    "        signature.append(next(fib))\n",
    "        i+=1\n",
    "    return signature"
   ]
  },
  {
   "cell_type": "code",
   "execution_count": null,
   "metadata": {
    "collapsed": true
   },
   "outputs": [],
   "source": [
    "def fib(signature):\n",
    "\n",
    "    a,b,c = signature\n",
    "    while True:\n",
    "        yield a\n",
    "        a, b ,c = b, c , a + b + c"
   ]
  },
  {
   "cell_type": "code",
   "execution_count": null,
   "metadata": {
    "collapsed": true
   },
   "outputs": [],
   "source": [
    "next(fib([4,2,4]))"
   ]
  },
  {
   "cell_type": "markdown",
   "metadata": {},
   "source": [
    "\n",
    "## Problem Context\n",
    "### The Fibonacci sequence is traditionally used to explain tree recursion.\n",
    "\n",
    "def fibonacci(n):\n",
    "    if n in [0, 1]:\n",
    "        return n\n",
    "    return fibonacci(n - 1) + fibonacci(n - 2)\n",
    "This algorithm serves welll its educative purpose but it's tremendously inefficient, not only because of recursion, but because we invoke the fibonacci function twice, and the right branch of recursion (i.e. fibonacci(n-2)) recalculates all the Fibonacci numbers already calculated by the left branch (i.e. fibonacci(n-1)).\n",
    "\n",
    "This algorithm is so inefficient that the time to calculate any Fibonacci number over 50 is simply too much. You may go for a cup of coffee or go take a nap while you wait for the answer. But if you try it here in Code Wars you will most likely get a code timeout before any answers.\n",
    "\n",
    "For this particular Kata we want to implement the memoization solution. This will be cool because it will let us keep using the tree recursion algorithm while still keeping it sufficiently optimized to get an answer very rapidly.\n",
    "\n",
    "The trick of the memoized version is that we will keep a cache data structure (most likely an associative array) where we will store the Fibonacci numbers as we calculate them. When a Fibonacci number is calculated, we first look it up in the cache, if it's not there, we calculate it and put it in the cache, otherwise we returned the cached number.\n",
    "\n",
    "Refactor the function into a recursive Fibonacci function that using a memoized data structure avoids the deficiencies of tree recursion Can you make it so the memoization cache is private to this function?"
   ]
  },
  {
   "cell_type": "code",
   "execution_count": 12,
   "metadata": {
    "collapsed": true
   },
   "outputs": [],
   "source": [
    "from math import sqrt\n",
    "#fast way to calculate huge fibonnaci numbers\n",
    "#found on stackoverflow\n",
    "#passed the test because the speed that this processes huge calculations\n",
    "#however I did not follow the instructions of caching the data \n",
    "@timeit\n",
    "def F(n):\n",
    "    return ((1+sqrt(5))**n-(1-sqrt(5))**n)/(2**n*sqrt(5))"
   ]
  },
  {
   "cell_type": "code",
   "execution_count": 10,
   "metadata": {
    "collapsed": true
   },
   "outputs": [],
   "source": [
    "#this is the best practices shown in codewars following the instructions\n",
    "\n",
    "def memoized(f):\n",
    "    cache = {}\n",
    "    def wrapped(k):\n",
    "        v = cache.get(k)\n",
    "        if v is None:\n",
    "            v = cache[k] = f(k)\n",
    "        return v\n",
    "    return wrapped\n",
    "\n",
    "@memoized\n",
    "def fibonacci(n):\n",
    "    if n in [0, 1]:\n",
    "        return n\n",
    "    return fibonacci(n - 1) + fibonacci(n - 2)"
   ]
  },
  {
   "cell_type": "code",
   "execution_count": 11,
   "metadata": {},
   "outputs": [
    {
     "data": {
      "text/plain": [
       "2111485077978050L"
      ]
     },
     "execution_count": 11,
     "metadata": {},
     "output_type": "execute_result"
    }
   ],
   "source": [
    "fibonacci(75)"
   ]
  },
  {
   "cell_type": "code",
   "execution_count": 84,
   "metadata": {},
   "outputs": [
    {
     "name": "stdout",
     "output_type": "stream",
     "text": [
      "------0.0 seconds\n"
     ]
    },
    {
     "data": {
      "text/plain": [
       "2111485077978055.2"
      ]
     },
     "execution_count": 84,
     "metadata": {},
     "output_type": "execute_result"
    }
   ],
   "source": [
    "F(75)"
   ]
  },
  {
   "cell_type": "code",
   "execution_count": null,
   "metadata": {
    "collapsed": true
   },
   "outputs": [],
   "source": [
    "def memoized(f):\n",
    "    cache = {}\n",
    "    def wrapped(k):\n",
    "        v = cache.get(k)\n",
    "        if v is None:\n",
    "            v = cache[k] = f(k)\n",
    "        return v\n",
    "    return wrapped\n",
    "\n",
    "@memoized\n",
    "def fibonacci(n):\n",
    "    if n in [0, 1]:\n",
    "        return n\n",
    "    return fibonacci(n - 1) + fibonacci(n - 2)"
   ]
  },
  {
   "cell_type": "code",
   "execution_count": null,
   "metadata": {
    "collapsed": true
   },
   "outputs": [],
   "source": [
    "\n",
    "sqrt(sum([x**2 for x in range(1,250) if 250%x==0]))\n"
   ]
  },
  {
   "cell_type": "code",
   "execution_count": null,
   "metadata": {
    "collapsed": true
   },
   "outputs": [],
   "source": [
    "[x**2 for x in range(1,250+1) if 250%x==0]"
   ]
  },
  {
   "cell_type": "markdown",
   "metadata": {},
   "source": [
    "# Build a pile of Cubes\n",
    "\n",
    "Your task is to construct a building which will be a pile of n cubes. The cube at the bottom will have a volume of n^3, the cube above will have volume of (n-1)^3 and so on until the top which will have a volume of 1^3.\n",
    "\n",
    "You are given the total volume m of the building. Being given m can you find the number n of cubes you will have to build?\n",
    "\n",
    "The parameter of the function findNb (find_nb, find-nb, findNb) will be an integer m and you have to return the integer n such as n^3 + (n-1)^3 + ... + 1^3 = m if such a n exists or -1 if there is no such n.\n",
    "\n",
    "Examples:\n",
    "findNb(1071225) --> 45\n",
    "findNb(91716553919377) --> -1"
   ]
  },
  {
   "cell_type": "code",
   "execution_count": 86,
   "metadata": {
    "collapsed": true
   },
   "outputs": [],
   "source": [
    "#my solution\n",
    "@timeit\n",
    "def find_nb(m):\n",
    "    n=1\n",
    "    l = 0\n",
    "\n",
    "    while l < m:\n",
    "        l += n**3\n",
    "        n += 1\n",
    "    if l >0 and l == m:\n",
    "        final = n-1\n",
    "    else:\n",
    "        final = -1\n",
    "    return final"
   ]
  },
  {
   "cell_type": "code",
   "execution_count": 88,
   "metadata": {
    "collapsed": true
   },
   "outputs": [],
   "source": [
    "#best practices solution\n",
    "def find_nb(m):\n",
    "    n = 1\n",
    "    volume = 0\n",
    "    while volume < m:\n",
    "        volume += n**3\n",
    "        if volume == m:\n",
    "            return n\n",
    "        n += 1\n",
    "    return -1\n",
    "\n",
    "# most clever solution\n",
    "from math import floor, sqrt\n",
    "\n",
    "def find_nb(m):\n",
    "    # Used the formula for the sum of cubes: m = (n(n+1)/2)^2\n",
    "    # Rearranged to find n^2 + n = n(n+1) ~= n^2 ~= 2sqrt(m),\n",
    "    # so take square root and round down the result.\n",
    "    n_canidate = int(floor(sqrt(2 * sqrt(m))))\n",
    "    if (n_canidate * (n_canidate + 1) / 2 )**2 == m:\n",
    "        return n_canidate\n",
    "    else:\n",
    "        return -1"
   ]
  },
  {
   "cell_type": "code",
   "execution_count": 89,
   "metadata": {},
   "outputs": [
    {
     "data": {
      "text/plain": [
       "2022"
      ]
     },
     "execution_count": 89,
     "metadata": {},
     "output_type": "execute_result"
    }
   ],
   "source": [
    "find_nb(4183059834009)"
   ]
  },
  {
   "cell_type": "markdown",
   "metadata": {
    "collapsed": true
   },
   "source": [
    "# Frog Jumping\n",
    "\n",
    "Help the frog to find a way to freedom You have an array of integers and have a frog at the first position\n",
    "\n",
    "[Frog, int, int, int, ..., int]\n",
    "\n",
    "The integer itself may tell you the length and the direction of the jump\n",
    "\n",
    "For instance: 2 = jump two indices to the right -3 = jump three indices to the left 0 = stay at the same position Your objective is to find how many jumps are needed to jump out of the array.\n",
    "\n",
    "Return -1 if Frog can't jump out of the array\n",
    "\n",
    "Example: array = [1, 2, 1, 5]; jumps = 3 (1 -> 2 -> 5 -> ) All tests for this Kata are randomly generated\n",
    "Find a way to optamize"
   ]
  },
  {
   "cell_type": "code",
   "execution_count": 56,
   "metadata": {
    "collapsed": true
   },
   "outputs": [],
   "source": [
    "#my 1st solution. Works but not fast enough to pass the larger test to complete the kata. Find a way to optamize\n",
    "@timeit\n",
    "def solution(a):\n",
    "    i=0\n",
    "    hops =[0]\n",
    "    while i<len(a):\n",
    "        if a[i]<0:\n",
    "            hops.append(a[i])\n",
    "            i-= a[i]\n",
    "        elif a[i]>0:\n",
    "            hops.append(a[i])\n",
    "            i+=a[i]\n",
    "        else:\n",
    "            hops.append(a[i])\n",
    "            i+=1\n",
    "    hop_count = len(hops)\n",
    "    hop_lst = [x for x in hops if x<0]\n",
    "    if hop_count > len(a):\n",
    "        final = -1\n",
    "    elif len(hop_lst)==0:\n",
    "        final = len(hops)-1\n",
    "    elif len(hop_lst)>0:\n",
    "        final = hop_count\n",
    "    elif hops.count(0)>1:\n",
    "        final = -1\n",
    "    \n",
    "    return final\n",
    "@timeit\n",
    "def solution(a):\n",
    "    i=0\n",
    "    z=0\n",
    "    hops =[0]\n",
    "    while i<len(a):\n",
    "        if a[i]<0:\n",
    "            hops.append(a[i])\n",
    "            i-= a[i]\n",
    "            z+=1\n",
    "        elif a[i]>0:\n",
    "            hops.append(a[i])\n",
    "            i+=a[i]\n",
    "            z+=1\n",
    "        elif a[i] == 0:\n",
    "            hops.append(a[i])\n",
    "            i+=len(a)+100\n",
    "            z+=1\n",
    "    hop_count = len(hops)-1\n",
    "    hop_lst = [x for x in hops if x<0]\n",
    "    if hops.count(0)>1:\n",
    "        final = -1\n",
    "    elif hop_count> 0 and len(hop_lst)>0:\n",
    "        final = z#len(hops)+1\n",
    "    elif hop_count > len(a)+20:\n",
    "        final = -1\n",
    "    elif hop_count>0 and len(hop_lst)< 1:\n",
    "        final = z#hop_count\n",
    "    elif hop_count>0 and len(hop_lst) == 0:\n",
    "        final = z#hop_count\n",
    "    else:\n",
    "        final = -1\n",
    "    \n",
    "    return final\n",
    "#rebuild again\n",
    "@timeit\n",
    "def solution(a):\n",
    "    i=0\n",
    "    z=0\n",
    "    hops =[0]\n",
    "    while i<len(a):\n",
    "        if a[i]<0:\n",
    "            hops.append(a[i])\n",
    "            i-= a[i]\n",
    "            z+=1\n",
    "        elif a[i]>0:\n",
    "            hops.append(a[i])\n",
    "            i+=a[i]\n",
    "            z+=1\n",
    "        elif a[i] == 0:\n",
    "            hops.append(a[i])\n",
    "            i+=len(a)+100\n",
    "            z+=1\n",
    "    hop_count = len(hops)-1\n",
    "    hop_lst = [x for x in hops if x<0]\n",
    "\n",
    "@timeit\n",
    "def solution(a):\n",
    "    i=0\n",
    "    n=0\n",
    "    t=0\n",
    "    while i < len(a):\n",
    "        if a[i]<0:\n",
    "            t+=1\n",
    "            n += a[i]+i\n",
    "            i+=1\n",
    "        elif a[i] == 0:\n",
    "            t +=100\n",
    "            i+=100\n",
    "        else:\n",
    "            n += a[i]+i\n",
    "            i+=1\n",
    "    if n >len(a) and t>0:\n",
    "        final = i\n",
    "    elif n>len(a) and t==0:\n",
    "        final = i-1\n",
    "    elif t>99:\n",
    "        final = -1\n",
    "    else:\n",
    "        final = -1\n",
    "    \n",
    "    return final\n",
    "\n",
    "def solution(a):\n",
    "    i=0\n",
    "    t=0\n",
    "    while i<len(a):\n",
    "        if a[i]>len(a):\n",
    "            t +=1\n",
    "            i+= len(a)+40\n",
    "            \n",
    "        elif a[i]<0:\n",
    "            t+=1\n",
    "            i-= a[i]\n",
    "        elif a[i]==0:\n",
    "            t=99\n",
    "            i=99\n",
    "        else:\n",
    "            t+=1\n",
    "            i+= a[i]\n",
    "    if t>90 or i >90:\n",
    "        final = -1\n",
    "    elif t==1:\n",
    "        final = 1\n",
    "    else:\n",
    "        final = t\n",
    "    return final\n",
    "\n",
    "def solution(a):\n",
    "    i=0\n",
    "    t=1\n",
    "    neg=[]\n",
    "    if len(a)>0:\n",
    "        if a[0]>0:\n",
    "            \n",
    "            while i < len(a):\n",
    "                if a[i]+i > len(a):\n",
    "                    t += 1\n",
    "                    i += a[i] \n",
    "                elif a[i] == 0:\n",
    "                    t=999\n",
    "                    i=999\n",
    "    \n",
    "                elif a[i] < 0:\n",
    "                    t += 1\n",
    "                    i -= a[i]\n",
    "                    neg.append(1)\n",
    "                else:\n",
    "                    t += 1\n",
    "                    i += a[i]\n",
    "            if t>900 or i>900:\n",
    "                final = -1\n",
    "            elif i<len(a):\n",
    "                final = -1\n",
    "            elif i==len(a):\n",
    "                final = t\n",
    "            elif t-1 > len(a):\n",
    "                final = -1\n",
    "            elif len(neg)>0:\n",
    "                final = t\n",
    "            elif len(neg)==0:\n",
    "                final = t-1\n",
    "            else:\n",
    "                final = -1\n",
    "            \n",
    "            \n",
    "            \n",
    "            \n",
    "            if t<2 and t-1 == i:\n",
    "                final = -1\n",
    "            elif t<2 and i>len(a):\n",
    "                final = t\n",
    "            elif t<2 and len(neg)>0:\n",
    "                final = -1\n",
    "            elif t<2 and len(neg)==0:\n",
    "                final = 1\n",
    "            elif t>1 and len(neg)>0 and i<900 and t>len(a):\n",
    "                final = -1    \n",
    "            elif t>1 and len(neg)>0 and i<900:\n",
    "                final = t\n",
    "            elif t>1 and len(neg)==0 and i<900:\n",
    "                final = t-1\n",
    "            elif t>900 or i >900:\n",
    "                final = -1\n",
    "            elif t ==len(a) and len(neg)>0:\n",
    "                final = t\n",
    "            elif t==len(a) and len(neg)==0:\n",
    "                final = t-1\n",
    "            elif t>len(a) and i<len(a) and len(neg)>0:\n",
    "                final = -1\n",
    "            elif t>len(a) and i<len(a) and len(neg)==0:\n",
    "                final = -1\n",
    "            elif t>len(a) and i>len(a) and len(neg)>0:\n",
    "                final = t\n",
    "            elif t>len(a) and i>len(a) and len(neg)==0:\n",
    "                final = t-1\n",
    "            elif t<len(a) and i>len(a) and len(neg)>0:\n",
    "                final = t\n",
    "            elif t<len(a) and i>len(a) and len(neg)==0:\n",
    "                final = t-1\n",
    "            elif len(a)==t-1 and i<=len(a) and len(neg)>0:\n",
    "                final = -1\n",
    "            else:\n",
    "                final = -1\n",
    "        else:\n",
    "            final = -1\n",
    "    else:\n",
    "        final = -1\n",
    "    return final\n",
    "\n",
    "def solution(a):\n",
    "    \n",
    "    final = -1\n",
    "    if len(a)>0:\n",
    "        if a[0]>0:\n",
    "            if a[0] > len(a):\n",
    "                    final = 1\n",
    "            else:\n",
    "                i=0\n",
    "                t=0\n",
    "                neg=[]\n",
    "                while i < len(a):\n",
    "                    if a[i]+i > len(a):\n",
    "                        t += 1\n",
    "                        i += a[i]\n",
    "                        break \n",
    "                    elif a[i] == 0:\n",
    "                        t=999\n",
    "                        i=999\n",
    "                        break\n",
    "\n",
    "                    elif a[i] < 0:\n",
    "                        t += 1\n",
    "                        i -= a[i]\n",
    "                        neg.append(1)\n",
    "                    else:\n",
    "                        t += 1\n",
    "                        i += a[i]\n",
    "                if final>0:\n",
    "                    final = final\n",
    "                \n",
    "                elif t>900 or i>900:\n",
    "                    final = -1\n",
    "\n",
    "                elif i<len(a)-1:\n",
    "                    final = -1\n",
    "                elif i == len(a) and len(neg)>0: \n",
    "                    final = t+1\n",
    "                elif i > len(a)-1 and t == len(a) and len(neg)>0: \n",
    "                    final = t+1\n",
    "                elif i > len(a)-1 and t == len(a) and len(neg)==0: \n",
    "                    final = t\n",
    "                elif i > len(a)-1 and t < len(a) and len(neg)>0:\n",
    "                    final = t+1\n",
    "                elif i > len(a)-1 and t < len(a) and len(neg)==0:\n",
    "                    final = t\n",
    "                elif i>len(a)-1 and len(neg)>0:\n",
    "                    final = t+1\n",
    "                elif i>len(a)-1 and len(neg)==0:\n",
    "                    final = t\n",
    "                elif i >len(a)-1:\n",
    "                    final = 1\n",
    "                else:\n",
    "                    final = 1\n",
    "        else:\n",
    "            final = -1\n",
    "    else:\n",
    "        final = -1\n",
    "    return final\n",
    "\n",
    "def solution(lst):\n",
    "    #X=index of list you are on\n",
    "    #Y = len(list)\n",
    "    #L=list\n",
    "    #P = Previous variable\n",
    "    def count_jumps(X, Y, P, L):\n",
    "        if (X == Y):\n",
    "            jumps = 1\n",
    "        elif (X > Y):\n",
    "            jumps = 1\n",
    "        elif (X==0):\n",
    "            jumps = 0\n",
    "        elif X==1 and P==-1:\n",
    "            jumps = 0\n",
    "        else:\n",
    "            jumps = L[X]\n",
    "        return jumps\n",
    "    i = 0\n",
    "    h = 1\n",
    "    P = [lst[0]]\n",
    "    while i < len(lst):\n",
    "        ans = count_jumps(lst[i],len(lst),P[-1],lst)\n",
    "        if ans==0:\n",
    "            i+=999\n",
    "            break\n",
    "        elif ans ==1:\n",
    "            P.append(ans)\n",
    "            i+=1\n",
    "            h+=1\n",
    "            \n",
    "            break\n",
    "\n",
    "        else:\n",
    "            P.append(ans)\n",
    "            i+=ans\n",
    "            h+=1\n",
    "            \n",
    "    neg_lst = [x for x in P]\n",
    "    if i>990:\n",
    "        final = -1\n",
    "    elif len(neg_lst)>0:\n",
    "        final = h+1\n",
    "    else:\n",
    "        final = h\n",
    "    return neg_lst"
   ]
  },
  {
   "cell_type": "code",
   "execution_count": 39,
   "metadata": {},
   "outputs": [],
   "source": [
    "#X=index of list you are on\n",
    "#Y = len(list)\n",
    "#L=list\n",
    "#P = Previous variable\n",
    "def count_jumps(X, Y, P, L):\n",
    "    if (X == Y):\n",
    "        jumps = 1\n",
    "    elif (X > Y):\n",
    "        jumps = 1\n",
    "    elif (X==0):\n",
    "        jumps = 0\n",
    "    elif X==1 and P==-1:\n",
    "        jumps = 0\n",
    "    else:\n",
    "        jumps = L[X]\n",
    "    return jumps"
   ]
  },
  {
   "cell_type": "code",
   "execution_count": 63,
   "metadata": {},
   "outputs": [],
   "source": [
    "lst = [1, 2, 1, 5]\n",
    "i = 0\n",
    "h = 1\n",
    "P = [0]\n"
   ]
  },
  {
   "cell_type": "code",
   "execution_count": 64,
   "metadata": {},
   "outputs": [
    {
     "data": {
      "text/plain": [
       "3"
      ]
     },
     "execution_count": 64,
     "metadata": {},
     "output_type": "execute_result"
    }
   ],
   "source": [
    "def solution(lst):\n",
    "    while i < len(lst):\n",
    "        ans = count_jumps(lst[i],len(lst),P[-1],lst)\n",
    "        if ans==0:\n",
    "            i+=999\n",
    "            break\n",
    "        elif ans ==1:\n",
    "            i+=1\n",
    "            h+=1\n",
    "            P.append(ans)\n",
    "            break\n",
    "\n",
    "        else:\n",
    "            i+=ans\n",
    "            h+=1\n",
    "            P.append(ans)\n",
    "    if i>990:\n",
    "        final = -1\n",
    "    else:\n",
    "        final = h\n",
    "    return final"
   ]
  },
  {
   "cell_type": "code",
   "execution_count": 47,
   "metadata": {},
   "outputs": [
    {
     "data": {
      "text/plain": [
       "-1"
      ]
     },
     "execution_count": 47,
     "metadata": {},
     "output_type": "execute_result"
    }
   ],
   "source": [
    "count_jumps(lst[2],len(lst),P[-1],lst)"
   ]
  },
  {
   "cell_type": "code",
   "execution_count": 37,
   "metadata": {},
   "outputs": [
    {
     "data": {
      "text/plain": [
       "[1, -1, 1, 5]"
      ]
     },
     "execution_count": 37,
     "metadata": {},
     "output_type": "execute_result"
    }
   ],
   "source": [
    "lst"
   ]
  },
  {
   "cell_type": "code",
   "execution_count": 29,
   "metadata": {},
   "outputs": [
    {
     "data": {
      "text/plain": [
       "0"
      ]
     },
     "execution_count": 29,
     "metadata": {},
     "output_type": "execute_result"
    }
   ],
   "source": [
    "i"
   ]
  },
  {
   "cell_type": "code",
   "execution_count": 6,
   "metadata": {},
   "outputs": [
    {
     "data": {
      "text/plain": [
       "4"
      ]
     },
     "execution_count": 6,
     "metadata": {},
     "output_type": "execute_result"
    }
   ],
   "source": [
    "len(lst)"
   ]
  },
  {
   "cell_type": "code",
   "execution_count": 57,
   "metadata": {},
   "outputs": [
    {
     "name": "stdout",
     "output_type": "stream",
     "text": [
      "3\n",
      "------0.000999927520752 seconds\n"
     ]
    }
   ],
   "source": [
    "ts = time.time()\n",
    "print solution([1, 2, 1, 5])\n",
    "te = time.time()\n",
    "print(\"------%s seconds\" % (te - ts))"
   ]
  },
  {
   "cell_type": "code",
   "execution_count": 58,
   "metadata": {},
   "outputs": [
    {
     "name": "stdout",
     "output_type": "stream",
     "text": [
      "4\n"
     ]
    }
   ],
   "source": [
    "print solution([1, 1, 1, 5])"
   ]
  },
  {
   "cell_type": "code",
   "execution_count": 100,
   "metadata": {
    "collapsed": true
   },
   "outputs": [],
   "source": [
    "lst = [0,1, 2, 1, 5,2,3,1,-2,3,2,1,1,1,1,2,-4,3,1,1,1,1,1,1,1,0]"
   ]
  },
  {
   "cell_type": "code",
   "execution_count": 101,
   "metadata": {},
   "outputs": [
    {
     "data": {
      "text/plain": [
       "2"
      ]
     },
     "execution_count": 101,
     "metadata": {},
     "output_type": "execute_result"
    }
   ],
   "source": [
    "lst.count(0)"
   ]
  },
  {
   "cell_type": "code",
   "execution_count": 112,
   "metadata": {},
   "outputs": [
    {
     "name": "stdout",
     "output_type": "stream",
     "text": [
      "------0.0 seconds\n"
     ]
    },
    {
     "data": {
      "text/plain": [
       "-1"
      ]
     },
     "execution_count": 112,
     "metadata": {},
     "output_type": "execute_result"
    }
   ],
   "source": [
    "solution([1, 2, 1, 5,0,0,2,3,1,-2,3,2,1,1,1,1,2,-4,3,1,1,1,1,1,1,1,0,0,0,0,0])"
   ]
  },
  {
   "cell_type": "code",
   "execution_count": 91,
   "metadata": {},
   "outputs": [
    {
     "name": "stdout",
     "output_type": "stream",
     "text": [
      "------0.0 seconds\n"
     ]
    },
    {
     "data": {
      "text/plain": [
       "-1"
      ]
     },
     "execution_count": 91,
     "metadata": {},
     "output_type": "execute_result"
    }
   ],
   "source": [
    "solution([1,-1])"
   ]
  },
  {
   "cell_type": "code",
   "execution_count": 111,
   "metadata": {
    "collapsed": true
   },
   "outputs": [],
   "source": [
    "i = 0\n",
    "while sum(lst[:i])< 135440716410000:\n",
    "    i+=1"
   ]
  },
  {
   "cell_type": "code",
   "execution_count": 174,
   "metadata": {},
   "outputs": [
    {
     "data": {
      "text/plain": [
       "4183059834009L"
      ]
     },
     "execution_count": 174,
     "metadata": {},
     "output_type": "execute_result"
    }
   ],
   "source": [
    "\n",
    "sum(lst[:2022])"
   ]
  },
  {
   "cell_type": "code",
   "execution_count": 179,
   "metadata": {},
   "outputs": [
    {
     "data": {
      "text/plain": [
       "81110634573.60031"
      ]
     },
     "execution_count": 179,
     "metadata": {},
     "output_type": "execute_result"
    }
   ],
   "source": [
    "2022**3"
   ]
  },
  {
   "cell_type": "code",
   "execution_count": 175,
   "metadata": {},
   "outputs": [
    {
     "name": "stdout",
     "output_type": "stream",
     "text": [
      "12271519\n",
      "8254655261\n"
     ]
    }
   ],
   "source": [
    "print lst[2022]-lst[2021]\n",
    "print lst[2020]"
   ]
  },
  {
   "cell_type": "code",
   "execution_count": null,
   "metadata": {
    "collapsed": true
   },
   "outputs": [],
   "source": [
    "test.assert_equals(find_nb(4183059834009), 2022)\n",
    "test.assert_equals(find_nb(24723578342962), -1)\n",
    "test.assert_equals(find_nb(135440716410000), 4824)\n",
    "test.assert_equals(find_nb(40539911473216), 3568)\n",
    "test.assert_equals(find_nb(26825883955641), 3218)\n"
   ]
  },
  {
   "cell_type": "code",
   "execution_count": 110,
   "metadata": {},
   "outputs": [
    {
     "data": {
      "text/plain": [
       "99999"
      ]
     },
     "execution_count": 110,
     "metadata": {},
     "output_type": "execute_result"
    }
   ],
   "source": [
    "len(lst)"
   ]
  },
  {
   "cell_type": "markdown",
   "metadata": {},
   "source": [
    "# Weight for Weight \n",
    "My friend John and I are members of the \"Fat to Fit Club (FFC)\". John is worried because each month a list with the weights of members is published and each month he is the last on the list which means he is the heaviest.\n",
    "\n",
    "I am the one who establishes the list so I told him: \"Don't worry any more, I will modify the order of the list\". It was decided to attribute a \"weight\" to numbers. The weight of a number will be from now on the sum of its digits.\n",
    "\n",
    "For example 99 will have \"weight\" 18, 100 will have \"weight\" 1 so in the list 100 will come before 99. Given a string with the weights of FFC members in normal order can you give this string ordered by \"weights\" of these numbers?\n",
    "\n",
    "Example:\n",
    "\"56 65 74 100 99 68 86 180 90\" ordered by numbers weights becomes: \"100 180 90 56 65 74 68 86 99\"\n",
    "\n",
    "When two numbers have the same \"weight\", let us class them as if they were strings and not numbers: 100 is before 180 because its \"weight\" (1) is less than the one of 180 (9) and 180 is before 90 since, having the same \"weight\" (9) it comes before as a string.\n",
    "\n",
    "All numbers in the list are positive numbers and the list can be empty.\n",
    "\n",
    "Notes\n",
    "it may happen that the input string have leading, trailing whitespaces and more than a unique whitespace between two consecutive numbers\n",
    "Don't modify the input"
   ]
  },
  {
   "cell_type": "code",
   "execution_count": 42,
   "metadata": {
    "collapsed": true
   },
   "outputs": [],
   "source": [
    "@timeit\n",
    "def order_weight(strng):\n",
    "    strng=strng.split()\n",
    "    l=list()\n",
    "    i = 0\n",
    "    final=[]\n",
    "    while i < len(strng):\n",
    "        l.append((strng[i],strng[i]))\n",
    "        i+=1\n",
    "    for x in l:\n",
    "        final.append([sum([int(y) for y in x[1]]),str(x[1])])\n",
    "    final.sort()   \n",
    "    return ' '.join([x[1] for x in final])"
   ]
  },
  {
   "cell_type": "code",
   "execution_count": 46,
   "metadata": {
    "collapsed": true
   },
   "outputs": [],
   "source": [
    "#most clever rated solution on codewars\n",
    "@timeit\n",
    "def order_weight(_str):\n",
    "    return ' '.join(sorted(sorted(_str.split(' ')), key=lambda x: sum(int(c) for c in x)))"
   ]
  },
  {
   "cell_type": "code",
   "execution_count": 47,
   "metadata": {},
   "outputs": [
    {
     "name": "stdout",
     "output_type": "stream",
     "text": [
      "------0.0 seconds\n"
     ]
    },
    {
     "data": {
      "text/plain": [
       "'11 11 2000 10003 22 123 1234000 44444444 9999'"
      ]
     },
     "execution_count": 47,
     "metadata": {},
     "output_type": "execute_result"
    }
   ],
   "source": [
    "order_weight(\"2000 10003 1234000 44444444 9999 11 11 22 123\")"
   ]
  },
  {
   "cell_type": "code",
   "execution_count": null,
   "metadata": {
    "collapsed": true
   },
   "outputs": [],
   "source": [
    "st=\"2000 10003 1234000 44444444 9999 11 11 22 123\"\n",
    "strng=st.split()\n",
    "l=list()\n",
    "i = 0\n",
    "final=[]\n",
    "while i < len(strng):\n",
    "    l.append((strng[i],strng[i]))\n",
    "    i+=1\n",
    "for x in l:\n",
    "    final.append([sum([int(y) for y in x[1]]),str(x[1])])\n",
    "final.sort()   \n",
    "' '.join([x[1] for x in final])\n"
   ]
  },
  {
   "cell_type": "code",
   "execution_count": null,
   "metadata": {
    "collapsed": true
   },
   "outputs": [],
   "source": [
    "'11 11 2000 10003 22 123 1234000 44444444 9999'"
   ]
  },
  {
   "cell_type": "code",
   "execution_count": null,
   "metadata": {
    "collapsed": true
   },
   "outputs": [],
   "source": [
    "num = [x for x in st]\n"
   ]
  },
  {
   "cell_type": "code",
   "execution_count": null,
   "metadata": {
    "collapsed": true
   },
   "outputs": [],
   "source": [
    "num"
   ]
  },
  {
   "cell_type": "markdown",
   "metadata": {},
   "source": [
    "tribonacci([1,1,1],5)"
   ]
  },
  {
   "cell_type": "code",
   "execution_count": null,
   "metadata": {
    "collapsed": true
   },
   "outputs": [],
   "source": [
    "square(2)"
   ]
  },
  {
   "cell_type": "code",
   "execution_count": null,
   "metadata": {
    "collapsed": true
   },
   "outputs": [],
   "source": [
    "square(8)"
   ]
  },
  {
   "cell_type": "code",
   "execution_count": null,
   "metadata": {
    "collapsed": true
   },
   "outputs": [],
   "source": [
    "#to brake the above def expression down further and make it more simple you can do...\n",
    "def square(num):\n",
    "    return num**2"
   ]
  },
  {
   "cell_type": "code",
   "execution_count": null,
   "metadata": {
    "collapsed": true
   },
   "outputs": [],
   "source": [
    "square(4)"
   ]
  },
  {
   "cell_type": "code",
   "execution_count": null,
   "metadata": {
    "collapsed": true
   },
   "outputs": [],
   "source": [
    "#to put everything above into one line \n",
    "def square(num): return num**2"
   ]
  },
  {
   "cell_type": "code",
   "execution_count": null,
   "metadata": {
    "collapsed": true
   },
   "outputs": [],
   "source": [
    "square(11)"
   ]
  },
  {
   "cell_type": "code",
   "execution_count": null,
   "metadata": {
    "collapsed": true
   },
   "outputs": [],
   "source": [
    "#lambda expressions look like 1 line expressions above \n",
    "lambda num: num**2"
   ]
  },
  {
   "cell_type": "code",
   "execution_count": null,
   "metadata": {
    "collapsed": true
   },
   "outputs": [],
   "source": [
    "square = lambda num: num**2 #usually dont declare a name for a lambda function. this is for fast ad hoc reporting"
   ]
  },
  {
   "cell_type": "code",
   "execution_count": null,
   "metadata": {
    "collapsed": true
   },
   "outputs": [],
   "source": [
    "square(2)"
   ]
  },
  {
   "cell_type": "code",
   "execution_count": null,
   "metadata": {
    "collapsed": true
   },
   "outputs": [],
   "source": [
    "square(5)"
   ]
  },
  {
   "cell_type": "code",
   "execution_count": null,
   "metadata": {
    "collapsed": true
   },
   "outputs": [],
   "source": [
    "#check if a num is even quickly \n",
    "even = lambda num: num%2==0"
   ]
  },
  {
   "cell_type": "code",
   "execution_count": null,
   "metadata": {
    "collapsed": true
   },
   "outputs": [],
   "source": [
    "integers = [1,2,3,3,55,57]"
   ]
  },
  {
   "cell_type": "code",
   "execution_count": null,
   "metadata": {
    "collapsed": true
   },
   "outputs": [],
   "source": [
    "even = lambda num: num%2==0\n",
    "even = []\n",
    "odd = []\n",
    "for x in integers:\n",
    "    if even(x) == True:\n",
    "        even.append(x)\n",
    "    else:\n",
    "        odd.append(x)\n",
    "if len(even)> len(odd):\n",
    "    final = odd[0]\n",
    "else:\n",
    "    final = even[0]\n",
    "return final"
   ]
  },
  {
   "cell_type": "code",
   "execution_count": null,
   "metadata": {
    "collapsed": true
   },
   "outputs": [],
   "source": [
    "bin(3+5).split('b')[1]"
   ]
  },
  {
   "cell_type": "code",
   "execution_count": null,
   "metadata": {
    "collapsed": true
   },
   "outputs": [],
   "source": [
    "single_digit=s=lambda n:s(bin(n).count('1'))if n>9else n"
   ]
  },
  {
   "cell_type": "code",
   "execution_count": null,
   "metadata": {
    "collapsed": true
   },
   "outputs": [],
   "source": [
    "def single_digit(n):\n",
    "    while n > 9:\n",
    "        n = int(bin(n).count('1'))\n",
    "    return n"
   ]
  },
  {
   "cell_type": "code",
   "execution_count": null,
   "metadata": {
    "collapsed": true
   },
   "outputs": [],
   "source": [
    "def single_digit(n):\n",
    "    def run(n):\n",
    "        \n",
    "        s = ''.join(bin(n).split('b')[1])\n",
    "        \n",
    "        final = [int(x) for x in s]\n",
    "    \n",
    "        return sum(final)\n",
    "    if n<10:\n",
    "        f = n\n",
    "    else:\n",
    "        f = run(n)\n",
    "    while f>9:\n",
    "        f = run(f)\n",
    "        break\n",
    "        \n",
    "    \n",
    "    return f\n"
   ]
  },
  {
   "cell_type": "code",
   "execution_count": null,
   "metadata": {
    "collapsed": true
   },
   "outputs": [],
   "source": [
    "single_digit(5655)"
   ]
  },
  {
   "cell_type": "code",
   "execution_count": null,
   "metadata": {
    "collapsed": true
   },
   "outputs": [],
   "source": [
    "single_digit(123456789)\n",
    "\n",
    "\n"
   ]
  },
  {
   "cell_type": "code",
   "execution_count": null,
   "metadata": {
    "collapsed": true
   },
   "outputs": [],
   "source": [
    "bin(5655).split('b')[1]"
   ]
  },
  {
   "cell_type": "code",
   "execution_count": null,
   "metadata": {
    "collapsed": true
   },
   "outputs": [],
   "source": [
    "even(177)"
   ]
  },
  {
   "cell_type": "code",
   "execution_count": null,
   "metadata": {
    "collapsed": true
   },
   "outputs": [],
   "source": [
    "even(12)"
   ]
  },
  {
   "cell_type": "markdown",
   "metadata": {},
   "source": [
    "#now work backwards to conver the lambda expression into a function"
   ]
  },
  {
   "cell_type": "code",
   "execution_count": null,
   "metadata": {
    "collapsed": true
   },
   "outputs": [],
   "source": [
    "def even(num):\n",
    "    return num%2 == 0 "
   ]
  },
  {
   "cell_type": "code",
   "execution_count": null,
   "metadata": {
    "collapsed": true
   },
   "outputs": [],
   "source": [
    "even(12)"
   ]
  },
  {
   "cell_type": "code",
   "execution_count": null,
   "metadata": {
    "collapsed": true
   },
   "outputs": [],
   "source": [
    "#grabs the first character of a string"
   ]
  },
  {
   "cell_type": "code",
   "execution_count": null,
   "metadata": {
    "collapsed": true
   },
   "outputs": [],
   "source": [
    "first = lambda s: s[0]"
   ]
  },
  {
   "cell_type": "code",
   "execution_count": null,
   "metadata": {
    "collapsed": true
   },
   "outputs": [],
   "source": [
    "first('hello')"
   ]
  },
  {
   "cell_type": "markdown",
   "metadata": {},
   "source": [
    "# Simple string reversal\n",
    "In this Kata, we are going to reverse a string while maintaining spaces.\n",
    "\n",
    "For example:\n",
    "\n",
    "solve(\"our code\") = \"edo cruo\"\n",
    "-- Normal reversal without spaces is \"edocruo\". \n",
    "-- However, there is a space after the first three characters, hence \"edo cruo\"\n",
    "\n",
    "solve(\"your code rocks\") = \"skco redo cruoy\"\n",
    "solve(\"codewars\") = \"srawedoc\"\n",
    "More examples in the test cases. All input will be lower case letters and in some cases spaces."
   ]
  },
  {
   "cell_type": "code",
   "execution_count": null,
   "metadata": {
    "collapsed": true
   },
   "outputs": [],
   "source": [
    "s = 'this string'\n",
    "l = s.split()\n",
    "s = ''.join(l)\n",
    "rev = lambda s: s[::-1]\n",
    "a = rev(s)\n",
    "final = ''\n",
    "\n",
    "i = 0 \n",
    "z= 0\n",
    "while i< len(l):\n",
    "    final + a[0:len(l[i])] + ' '\n",
    "    z += len(l[i])\n",
    "     \n",
    "    i +=1\n",
    "a[0:len(l[1])]"
   ]
  },
  {
   "cell_type": "code",
   "execution_count": null,
   "metadata": {
    "collapsed": true
   },
   "outputs": [],
   "source": [
    "for x in l:\n",
    "    ' '.join(a[0:len(l[x])])"
   ]
  },
  {
   "cell_type": "code",
   "execution_count": null,
   "metadata": {
    "collapsed": true
   },
   "outputs": [],
   "source": [
    "for x in l:\n",
    "    final.join(x)"
   ]
  },
  {
   "cell_type": "code",
   "execution_count": null,
   "metadata": {
    "collapsed": true
   },
   "outputs": [],
   "source": [
    "''.join(rev(rev(s))[:len(rev(l)[0])])"
   ]
  },
  {
   "cell_type": "code",
   "execution_count": null,
   "metadata": {
    "collapsed": true
   },
   "outputs": [],
   "source": [
    "final=''"
   ]
  },
  {
   "cell_type": "code",
   "execution_count": null,
   "metadata": {
    "collapsed": true
   },
   "outputs": [],
   "source": [
    "\n",
    "\n",
    "start= len(final)\n",
    "l2 = [len(l[x]) for x in [x for x in [x for x in range(len(l))]]]\n",
    "final += ''.join(a[6:l2[0]])\n",
    "    #print len(l[x])#final += ''.join(a[start:len(rev(l)[x])])\n"
   ]
  },
  {
   "cell_type": "code",
   "execution_count": null,
   "metadata": {
    "collapsed": true
   },
   "outputs": [],
   "source": [
    "a.partition(a[l2[0]])"
   ]
  },
  {
   "cell_type": "code",
   "execution_count": null,
   "metadata": {
    "collapsed": true
   },
   "outputs": [],
   "source": [
    "s = 'this string has more words'\n",
    "l = s.split()\n",
    "s = ''.join(l)\n",
    "rev = lambda s: s[::-1]\n",
    "a = rev(s)"
   ]
  },
  {
   "cell_type": "code",
   "execution_count": 51,
   "metadata": {
    "collapsed": true
   },
   "outputs": [],
   "source": [
    "#my solution\n",
    "@timeit\n",
    "def solve(s):\n",
    "    st = s.lower()\n",
    "    l = st.split()\n",
    "    st = ''.join(l)\n",
    "    rev = lambda s: s[::-1]\n",
    "    a = rev(st)\n",
    "    final = ''\n",
    "    word_len = [len(l[x]) for x in [x for x in [x for x in range(len(l))]]]\n",
    "    if len(l) ==1:\n",
    "        final += ''.join(rev(s))\n",
    "    elif len(l)==2:\n",
    "        final += ''.join(a[:word_len[0]]) + ' '\n",
    "        final += ''.join(a[word_len[0]:])\n",
    "    else:\n",
    "        final += ''.join(a[:word_len[0]]) + ' '\n",
    "        i=1\n",
    "        start = word_len[0]\n",
    "        while i< int(len(l)-1):\n",
    "            final += ''.join(a[start:int(start + word_len[i])]) + ' '\n",
    "            start += word_len[i]\n",
    "            i+=1\n",
    "        final += ''.join(a[start:])\n",
    "    if s[-1] == ' ':\n",
    "        final += ' '\n",
    "    return final"
   ]
  },
  {
   "cell_type": "code",
   "execution_count": null,
   "metadata": {
    "collapsed": true
   },
   "outputs": [],
   "source": [
    "#top rated best practice\n",
    "def solve(s):\n",
    "    space_index=[i for i in range(len(s)) if s[i]==\" \"]    #find index of saces  \n",
    "    s = ''.join(s.split())                                 #remove spaces\n",
    "    s=s[::-1]                                              #reverse the string    \n",
    "    for i in space_index:                                  #add spaces again to exactly same place before\n",
    "        s = s[:i] + \" \" + s[i:]\n",
    "    return s\n",
    "#top rated most clever\n",
    "def solve(s):\n",
    "    it = reversed(s.replace(' ',''))\n",
    "    return ''.join(c if c == ' ' else next(it) for c in s)"
   ]
  },
  {
   "cell_type": "code",
   "execution_count": null,
   "metadata": {
    "collapsed": true
   },
   "outputs": [],
   "source": [
    "_z = 'i am just makign shit up for thisla lk j lk j j  jj j '\n",
    "_z = _z.lower()\n",
    "_z[-1] == ''\n",
    "_w = 'jello'\n",
    "_w += _z[-1]\n",
    "_w"
   ]
  },
  {
   "cell_type": "code",
   "execution_count": 52,
   "metadata": {},
   "outputs": [
    {
     "name": "stdout",
     "output_type": "stream",
     "text": [
      "------0.0 seconds\n"
     ]
    },
    {
     "data": {
      "text/plain": [
       "'j jj jklj klalsi htro fp uti hsngik am t su j m ai '"
      ]
     },
     "execution_count": 52,
     "metadata": {},
     "output_type": "execute_result"
    }
   ],
   "source": [
    "solve('i am just makign shit up for thisla lk j lk j j  jj ')"
   ]
  },
  {
   "cell_type": "code",
   "execution_count": null,
   "metadata": {
    "collapsed": true
   },
   "outputs": [],
   "source": [
    "import collections\n",
    "a = [1,1,1,1,2,2,2,2,3,3,4,5,5]\n",
    "#a= ''.join([str(x) for x in a])\n",
    "counter=collections.Counter(a)\n",
    "print counter"
   ]
  },
  {
   "cell_type": "code",
   "execution_count": null,
   "metadata": {
    "collapsed": true
   },
   "outputs": [],
   "source": [
    "#my answer\n",
    "import collections\n",
    "\n",
    "def duplicate_count(text):\n",
    "    text = text.lower()\n",
    "    a=[x for x in text]\n",
    "    counter=collections.Counter(a)\n",
    "    final = 0\n",
    "    final += sum([1 for x in counter.items() if x[1]>1])\n",
    "    return final\n",
    "        "
   ]
  },
  {
   "cell_type": "code",
   "execution_count": null,
   "metadata": {
    "collapsed": true
   },
   "outputs": [],
   "source": [
    "collections.Counter('aA111')"
   ]
  },
  {
   "cell_type": "code",
   "execution_count": null,
   "metadata": {
    "collapsed": true
   },
   "outputs": [],
   "source": [
    "duplicate_count('aA1111')"
   ]
  },
  {
   "cell_type": "code",
   "execution_count": null,
   "metadata": {
    "collapsed": true
   },
   "outputs": [],
   "source": [
    "#top rated accross the board \n",
    "def duplicate_count(s):\n",
    "    return len([c for c in set(s.lower()) if s.lower().count(c)>1])\n",
    "     "
   ]
  },
  {
   "cell_type": "markdown",
   "metadata": {},
   "source": [
    "# Find the unique number\n",
    "There is an array with some numbers. All numbers are equal except for one. Try to find it!\n",
    "\n",
    "findUniq([ 1, 1, 1, 2, 1, 1 ]) === 2\n",
    "findUniq([ 0, 0, 0.55, 0, 0 ]) === 0.55\n",
    "It’s guaranteed that array contains more than 3 numbers.\n",
    "\n",
    "The tests contain some very huge arrays, so think about performance.\n",
    "\n",
    "This is the first kata in series:\n",
    "\n",
    "Find the unique number (this kata)\n",
    "Find the unique string\n",
    "Find The Unique"
   ]
  },
  {
   "cell_type": "code",
   "execution_count": null,
   "metadata": {
    "collapsed": true
   },
   "outputs": [],
   "source": [
    "#my answer\n",
    "import collections\n",
    "def find_uniq(arr):\n",
    "    return collections.Counter(arr).most_common()[-1][0]"
   ]
  },
  {
   "cell_type": "code",
   "execution_count": null,
   "metadata": {
    "collapsed": true
   },
   "outputs": [],
   "source": [
    "find_uniq(a)"
   ]
  },
  {
   "cell_type": "markdown",
   "metadata": {},
   "source": [
    "# Triple Trouble \n",
    "Write a function\n",
    "\n",
    "triple_double(num1, num2)\n",
    "which takes in numbers num1 and num2 and returns 1 if there is a straight triple of a number at any place in num1 and also a straight double of the same number in num2.\n",
    "For example:\n",
    "triple_double(451999277, 41177722899) == 1 // num1 has straight triple 999s and \n",
    "                                          // num2 has straight double 99s\n",
    "\n",
    "triple_double(1222345, 12345) == 0 // num1 has straight triple 2s but num2 has only a single 2\n",
    "\n",
    "triple_double(12345, 12345) == 0\n",
    "\n",
    "triple_double(666789, 12345667) == 1\n",
    "If this isn't the case, return 0\n",
    "\n"
   ]
  },
  {
   "cell_type": "code",
   "execution_count": 53,
   "metadata": {
    "collapsed": true
   },
   "outputs": [],
   "source": [
    "#my solution\n",
    "@timeit\n",
    "def triple_double(num1, num2):\n",
    "    st1 = str(num1)\n",
    "    st2 = str(num2)\n",
    "    l =[]\n",
    "    i=0\n",
    "    while i < int(len(st1)-2):\n",
    "        if st1[i] == st1[i+1] and st1[i] == st1[i+2]:\n",
    "            l.append(st1[i])\n",
    "        i+=1\n",
    "    for x in l:\n",
    "        if x in st2:\n",
    "            if '' in st2.split(x):\n",
    "                final = 1\n",
    "            else:\n",
    "                final = 0\n",
    "        else:\n",
    "            final = 0\n",
    "    if len(l) == 0:\n",
    "        final = 0\n",
    "    return final"
   ]
  },
  {
   "cell_type": "code",
   "execution_count": null,
   "metadata": {
    "collapsed": true
   },
   "outputs": [],
   "source": [
    "#voted most clever solution\n",
    "def triple_double(num1, num2):\n",
    "    return any([i * 3 in str(num1) and i * 2 in str(num2) for i in '0123456789'])"
   ]
  },
  {
   "cell_type": "code",
   "execution_count": null,
   "metadata": {
    "collapsed": true
   },
   "outputs": [],
   "source": [
    "a= 11123456\n",
    "b= 23911894412113\n",
    "st1 = str(num1)\n",
    "st2 = str(num2)\n",
    "l =[]\n",
    "i=0\n",
    "while i < int(len(st1)-2):\n",
    "    if st1[i] == st1[i+1] and st1[i] == st1[i+2]:\n",
    "        l.append(st1[i])\n",
    "    i+=1\n",
    "for x in l:\n",
    "    if x in st2:\n",
    "        if '' in st2.split(x):\n",
    "            final = 1\n",
    "        else:\n",
    "            final = 0\n",
    "    else:\n",
    "        final = 0\n",
    "    "
   ]
  },
  {
   "cell_type": "code",
   "execution_count": 55,
   "metadata": {},
   "outputs": [
    {
     "name": "stdout",
     "output_type": "stream",
     "text": [
      "------0.0 seconds\n"
     ]
    },
    {
     "data": {
      "text/plain": [
       "1"
      ]
     },
     "execution_count": 55,
     "metadata": {},
     "output_type": "execute_result"
    }
   ],
   "source": [
    "triple_double(11123456,23911894412113)"
   ]
  },
  {
   "cell_type": "code",
   "execution_count": null,
   "metadata": {
    "collapsed": true
   },
   "outputs": [],
   "source": []
  },
  {
   "cell_type": "code",
   "execution_count": null,
   "metadata": {
    "collapsed": true
   },
   "outputs": [],
   "source": [
    "def song_decoder(song):\n",
    "    sp = song.split('WUB')\n",
    "    return ' '.join([x for x in ' '.join([x for x in sp])])[:-1]\n",
    "    "
   ]
  },
  {
   "cell_type": "code",
   "execution_count": null,
   "metadata": {
    "collapsed": true
   },
   "outputs": [],
   "source": [
    "''.join([x for x in sp])\n",
    "' '.join(song_decoder(\"AWUBWUBWUBBWUBWUBWUBC\"))"
   ]
  },
  {
   "cell_type": "code",
   "execution_count": null,
   "metadata": {
    "collapsed": true
   },
   "outputs": [],
   "source": [
    "song_decoder(\"WUBWEWUBAREWUBWUBTHEWUBCHAMPIONSWUBMYWUBFRIENDWUB\")"
   ]
  },
  {
   "cell_type": "code",
   "execution_count": null,
   "metadata": {
    "collapsed": true
   },
   "outputs": [],
   "source": [
    "song = \"WUBWUBIWUBAMWUBWUBX\"\n",
    "sp = song.split('WUB')\n",
    "final = ''\n",
    "for x in sp:\n",
    "    if x!=' ':\n",
    "        final+= x + ' '\n",
    "    \n",
    "final    "
   ]
  },
  {
   "cell_type": "code",
   "execution_count": null,
   "metadata": {
    "collapsed": true
   },
   "outputs": [],
   "source": [
    "''.join([x+' ' for x in ''.join([x for x in sp])])[:-1]"
   ]
  },
  {
   "cell_type": "code",
   "execution_count": null,
   "metadata": {
    "collapsed": true
   },
   "outputs": [],
   "source": [
    "\n",
    "i=0\n",
    "while i < len(l):\n",
    "    start = len(final)\n",
    "    print start\n",
    "    final += ''.join(a[start:l2[i]])\n",
    "    print final\n",
    "    print l2[i]\n",
    "    i+=1"
   ]
  },
  {
   "cell_type": "code",
   "execution_count": null,
   "metadata": {
    "collapsed": true
   },
   "outputs": [],
   "source": [
    "final"
   ]
  },
  {
   "cell_type": "code",
   "execution_count": null,
   "metadata": {
    "collapsed": true
   },
   "outputs": [],
   "source": [
    "''.join(a[:len(rev(l))])"
   ]
  },
  {
   "cell_type": "code",
   "execution_count": null,
   "metadata": {
    "collapsed": true
   },
   "outputs": [],
   "source": [
    "''.join(a[:len(rev(l)[x] for x in range(len(l)))])"
   ]
  },
  {
   "cell_type": "code",
   "execution_count": null,
   "metadata": {
    "collapsed": true
   },
   "outputs": [],
   "source": [
    "' '.join([x[0:len(l[])] for x in a])"
   ]
  },
  {
   "cell_type": "raw",
   "metadata": {},
   "source": [
    "A string is considered to be in title case if each word in the string is either (a) capitalised (that is, only the first letter of the word is in upper case) or (b) considered to be an exception and put entirely into lower case unless it is the first word, which is always capitalised.\n",
    "\n",
    "Write a function that will convert a string into title case, given an optional list of exceptions (minor words). The list of minor words will be given as a string with each word separated by a space. Your function should ignore the case of the minor words string -- it should behave in the same way even if the case of the minor word string is changed.\n",
    "\n",
    "###Arguments (Haskell)\n",
    "\n",
    "First argument: space-delimited list of minor words that must always be lowercase except for the first word in the string.\n",
    "Second argument: the original string to be converted.\n",
    "###Arguments (Other languages)\n",
    "\n",
    "First argument (required): the original string to be converted.\n",
    "Second argument (optional): space-delimited list of minor words that must always be lowercase except for the first word in the string. The JavaScript/CoffeeScript tests will pass undefined when this argument is unused.\n",
    "###Example\n",
    "\n",
    "title_case('a clash of KINGS', 'a an the of') # should return: 'A Clash of Kings'\n",
    "title_case('THE WIND IN THE WILLOWS', 'The In') # should return: 'The Wind in the Willows'\n",
    "title_case('the quick brown fox') # should return: 'The Quick Brown Fox'\n",
    "title_case('','') #should return ''"
   ]
  },
  {
   "cell_type": "code",
   "execution_count": null,
   "metadata": {
    "collapsed": true
   },
   "outputs": [],
   "source": [
    "string = 'this is my string of a string test'"
   ]
  },
  {
   "cell_type": "code",
   "execution_count": null,
   "metadata": {
    "collapsed": true
   },
   "outputs": [],
   "source": [
    "minor_words = 'a is of my'"
   ]
  },
  {
   "cell_type": "code",
   "execution_count": null,
   "metadata": {
    "collapsed": true
   },
   "outputs": [],
   "source": [
    "'This'.lower()"
   ]
  },
  {
   "cell_type": "code",
   "execution_count": null,
   "metadata": {
    "collapsed": true
   },
   "outputs": [],
   "source": [
    "l = minor_words.split()"
   ]
  },
  {
   "cell_type": "code",
   "execution_count": null,
   "metadata": {
    "collapsed": true
   },
   "outputs": [],
   "source": [
    "st = string.split()[1:]"
   ]
  },
  {
   "cell_type": "code",
   "execution_count": null,
   "metadata": {
    "collapsed": true
   },
   "outputs": [],
   "source": [
    "test = [x.capitalize() for x in st]"
   ]
  },
  {
   "cell_type": "code",
   "execution_count": null,
   "metadata": {
    "collapsed": true
   },
   "outputs": [],
   "source": [
    "l = minor_words.split()\n",
    "st = string.split()\n",
    "final = []\n",
    "final.append(st[0].title())\n",
    "\n",
    "for x in st[1:]:\n",
    "    if x.lower() in l:\n",
    "        final.append(x.lower())\n",
    "    else:\n",
    "        final.append(x.title())\n",
    "' '.join(finalfinal=[])\n",
    "\n",
    "\n"
   ]
  },
  {
   "cell_type": "code",
   "execution_count": null,
   "metadata": {
    "collapsed": true
   },
   "outputs": [],
   "source": [
    "def title_case(title, minor_words= 'optional'):\n",
    "    if len(minor_words) > 0:\n",
    "        l = minor_words.lower().split()\n",
    "    else:\n",
    "        l = ''\n",
    "    st = title.split()\n",
    "    final = []\n",
    "    \n",
    "    if len(st)>0:\n",
    "        final.append(st[0].title())\n",
    "        for x in st[1:]:\n",
    "            if x.lower() in l:\n",
    "                final.append(x.lower())\n",
    "            else:\n",
    "                final.append(x.title())\n",
    "    else:\n",
    "        final = ''\n",
    "    return ' '.join(final)\n",
    "    \n"
   ]
  },
  {
   "cell_type": "code",
   "execution_count": null,
   "metadata": {
    "collapsed": true
   },
   "outputs": [],
   "source": [
    "title_case('a clash of KINGS', 'a an the of')"
   ]
  },
  {
   "cell_type": "code",
   "execution_count": null,
   "metadata": {
    "collapsed": true
   },
   "outputs": [],
   "source": [
    "title_case('')"
   ]
  },
  {
   "cell_type": "code",
   "execution_count": null,
   "metadata": {
    "collapsed": true
   },
   "outputs": [],
   "source": [
    "#best answer on code wars! \n",
    "def title_case(title, minor_words=''):\n",
    "    title = title.capitalize().split()\n",
    "    minor_words = minor_words.lower().split()\n",
    "    return ' '.join([word if word in minor_words else word.capitalize() for word in title])"
   ]
  },
  {
   "cell_type": "markdown",
   "metadata": {},
   "source": [
    "Your goal in this kata is to implement an difference function, which subtracts one list from another.\n",
    "\n",
    "It should remove all values from list a, which are present in list b.\n",
    "\n",
    "array_diff([1,2],[1]) == [2]\n",
    "If a value is present in b, all of its occurrences must be removed from the other:\n",
    "\n",
    "array_diff([1,2,2,2,3],[2]) == [1,3]"
   ]
  },
  {
   "cell_type": "code",
   "execution_count": null,
   "metadata": {
    "collapsed": true
   },
   "outputs": [],
   "source": [
    "def array_diff(a, b):\n",
    "    return [x for x in a if x not in b]\n",
    "#My function was the top ranked solution! "
   ]
  },
  {
   "cell_type": "markdown",
   "metadata": {},
   "source": [
    "Test.describe(\"Basic Tests\")\n",
    "Test.assert_equals(array_diff([1,2], [1]), [2], \"a was [1,2], b was [1], expected [2]\")\n",
    "Test.assert_equals(array_diff([1,2,2], [1]), [2,2], \"a was [1,2,2], b was [1], expected [2,2]\")\n",
    "Test.assert_equals(array_diff([1,2,2], [2]), [1], \"a was [1,2,2], b was [2], expected [1]\")\n",
    "Test.assert_equals(array_diff([1,2,2], []), [1,2,2], \"a was [1,2,2], b was [], expected [1,2,2]\")\n",
    "Test.assert_equals(array_diff([], [1,2]), [], \"a was [], b was [1,2], expected []\")"
   ]
  },
  {
   "cell_type": "markdown",
   "metadata": {
    "collapsed": true
   },
   "source": [
    "# multiples of 3 and 5"
   ]
  },
  {
   "cell_type": "markdown",
   "metadata": {
    "collapsed": true
   },
   "source": [
    "If we list all the natural numbers below 10 that are multiples of 3 or 5, we get 3, 5, 6 and 9. The sum of these multiples is 23.\n",
    "\n",
    "Finish the solution so that it returns the sum of all the multiples of 3 or 5 below the number passed in.\n",
    "\n",
    "Note: If the number is a multiple of both 3 and 5, only count it once."
   ]
  },
  {
   "cell_type": "code",
   "execution_count": null,
   "metadata": {
    "collapsed": true
   },
   "outputs": [],
   "source": [
    "#my solution from code wars\n",
    "def solution(number):\n",
    "    a=[0]\n",
    "    [a.append(a[-1]+3) for x in range(int(number)//3)]\n",
    "    if int(number) % 3 == 0:\n",
    "        a.pop()\n",
    "    b=[0]\n",
    "    [b.append(b[-1]+5) for x in range(int(number)//5)]\n",
    "    if int(number) % 5 == 0:\n",
    "        b.pop()\n",
    "    [a.append(x) for x in b]\n",
    "    \n",
    "    \n",
    "    return sum([x for x in set(a)])  "
   ]
  },
  {
   "cell_type": "code",
   "execution_count": null,
   "metadata": {
    "collapsed": true
   },
   "outputs": [],
   "source": [
    "a=[0]\n",
    "[a.append(a[-1]+3) for x in range(10/3)]\n",
    "b=[0]\n",
    "[b.append(b[-1]+5) for x in range(10/5)]\n",
    "if 10%5 == 0:\n",
    "    b.pop()"
   ]
  },
  {
   "cell_type": "code",
   "execution_count": null,
   "metadata": {
    "collapsed": true
   },
   "outputs": [],
   "source": [
    "solution(10)"
   ]
  },
  {
   "cell_type": "code",
   "execution_count": null,
   "metadata": {
    "collapsed": true
   },
   "outputs": [],
   "source": [
    "#top solution from codewars\n",
    "def solution(number):\n",
    "    return sum(x for x in range(number) if x % 3 == 0 or x % 5 == 0)"
   ]
  },
  {
   "cell_type": "code",
   "execution_count": null,
   "metadata": {
    "collapsed": true
   },
   "outputs": [],
   "source": [
    "10%3"
   ]
  },
  {
   "cell_type": "code",
   "execution_count": null,
   "metadata": {
    "collapsed": true
   },
   "outputs": [],
   "source": [
    "for x in b:\n",
    "    a.append(x)"
   ]
  },
  {
   "cell_type": "code",
   "execution_count": null,
   "metadata": {
    "collapsed": true
   },
   "outputs": [],
   "source": [
    "a.sort()"
   ]
  },
  {
   "cell_type": "code",
   "execution_count": null,
   "metadata": {
    "collapsed": true
   },
   "outputs": [],
   "source": [
    "[x for x in set(a)]"
   ]
  },
  {
   "cell_type": "code",
   "execution_count": null,
   "metadata": {
    "collapsed": true
   },
   "outputs": [],
   "source": [
    "[a.count(x) for x in a]"
   ]
  },
  {
   "cell_type": "markdown",
   "metadata": {
    "collapsed": true
   },
   "source": [
    "# Give me a Diamond\n",
    "\n",
    "This kata is to practice simple string output. Jamie is a programmer, and James' girlfriend. She likes diamonds, and wants a diamond string from James. Since James doesn't know how to make this happen, he needs your help.\n",
    "\n",
    "###Task:\n",
    "\n",
    "You need to return a string that displays a diamond shape on the screen using asterisk (\"*\") characters. Please see provided test cases for exact output format.\n",
    "\n",
    "The shape that will be returned from print method resembles a diamond, where the number provided as input represents the number of *’s printed on the middle line. The line above and below will be centered and will have 2 less *’s than the middle line. This reduction by 2 *’s for each line continues until a line with a single * is printed at the top and bottom of the figure.\n",
    "\n",
    "Return null if input is even number or negative (as it is not possible to print diamond with even number or negative number).\n",
    "\n",
    "Please see provided test case(s) for examples.\n",
    "\n",
    "Python Note\n",
    "Since print is a reserved word in Python, Python students must implement the diamond(n) method instead, and return None for invalid input.\n",
    "\n",
    "JS Note\n",
    "JS students, like Python ones, must implement the diamond(n) method, and return null for invalid input."
   ]
  },
  {
   "cell_type": "code",
   "execution_count": 12,
   "metadata": {
    "collapsed": true
   },
   "outputs": [],
   "source": [
    "#my final\n",
    "def diamond(n):\n",
    "    if n>2 and n%2!=0:\n",
    "        space=' '\n",
    "        star='*'\n",
    "        num = n/2\n",
    "        final=[]\n",
    "        while num>1:\n",
    "            line = ''\n",
    "            line += space*num\n",
    "            line += star*(num-2)\n",
    "            line += space*num\n",
    "            final.append(line)\n",
    "            \n",
    "            \n",
    "            num-=1\n",
    "    else:\n",
    "        final= 'None'\n",
    "    print '\\n'.join(final)"
   ]
  },
  {
   "cell_type": "code",
   "execution_count": null,
   "metadata": {
    "collapsed": true
   },
   "outputs": [],
   "source": [
    "#voted most clever and best practice\n",
    "def diamond(n):\n",
    "    if n > 0 and n % 2 == 1:\n",
    "        diamond = \"\"\n",
    "        for i in range(n):\n",
    "            diamond += \" \" * abs((n/2) - i)\n",
    "            diamond += \"*\" * (n - abs((n-1) - 2 * i))\n",
    "            diamond += \"\\n\"\n",
    "        return diamond\n",
    "    else:\n",
    "        return None"
   ]
  },
  {
   "cell_type": "code",
   "execution_count": 55,
   "metadata": {},
   "outputs": [
    {
     "name": "stdout",
     "output_type": "stream",
     "text": [
      "     *\n",
      "    ***\n",
      "   *****\n",
      "  *******\n",
      " *********\n",
      "***********\n",
      " *********\n",
      "  *******\n",
      "   *****\n",
      "    ***\n",
      "     *\n"
     ]
    }
   ],
   "source": [
    "diamond(11)"
   ]
  },
  {
   "cell_type": "code",
   "execution_count": 22,
   "metadata": {
    "collapsed": true
   },
   "outputs": [],
   "source": [
    "st = '  *** '"
   ]
  },
  {
   "cell_type": "code",
   "execution_count": 24,
   "metadata": {},
   "outputs": [
    {
     "data": {
      "text/plain": [
       "3"
      ]
     },
     "execution_count": 24,
     "metadata": {},
     "output_type": "execute_result"
    }
   ],
   "source": [
    "st.count('*')"
   ]
  },
  {
   "cell_type": "code",
   "execution_count": null,
   "metadata": {
    "collapsed": true
   },
   "outputs": [],
   "source": []
  },
  {
   "cell_type": "code",
   "execution_count": null,
   "metadata": {
    "collapsed": true
   },
   "outputs": [],
   "source": []
  },
  {
   "cell_type": "code",
   "execution_count": null,
   "metadata": {
    "collapsed": true
   },
   "outputs": [],
   "source": []
  },
  {
   "cell_type": "markdown",
   "metadata": {},
   "source": [
    "## In this Kata, you will implement The Luhn Algorithm, which is used to help validate credit card numbers.\n",
    "\n",
    "Given a positive integer of up to 16 digits, return true if it is a valid credit card number, and false if it is not.\n",
    "\n",
    "Here is the algorithm:\n",
    "### 1.\n",
    "If there are an even number of digits, double every other digit starting with the first, and if there are an odd number of digits, double every other digit starting with the second. Another way to think about it is, from the right to left, double every other digit starting with the second to last digit.\n",
    "\n",
    "1714 => [1*, 7, 1*, 4] => [2, 7, 2, 4]\n",
    "\n",
    "12345 => [1, 2*, 3, 4*, 5] => [1, 4, 3, 8, 5]\n",
    "\n",
    "891 => [8, 9*, 1] => [8, 18, 1]\n",
    "\n",
    "### 2.\n",
    "If a resulting doubled number is greater than 9, replace it with either the sum of its own digits, or 9 subtracted from it.\n",
    "\n",
    "[8, 18*, 1] => [8, (1+8), 1] => [8, 9, 1]\n",
    "\n",
    "(or)\n",
    "\n",
    "[8, 18*, 1] => [8, (18-9), 1] => [8, 9, 1]\n",
    "\n",
    "### 3.\n",
    "Sum all of the final digits\n",
    "\n",
    " [8, 9, 1] => 8+9+1 => 18\n",
    " \n",
    "### 4.\n",
    "Finally, take that sum and divide it by 10. If the remainder equals zero, the original credit card number is valid.\n",
    "\n",
    " 18 (modulus) 10 => 8.  \n",
    "\n",
    " 8 does not equal 0, so 891 is not a valid credit card number."
   ]
  },
  {
   "cell_type": "code",
   "execution_count": null,
   "metadata": {
    "collapsed": true
   },
   "outputs": [],
   "source": [
    "def validate(n):\n",
    "    final = object\n",
    "    if n>0:\n",
    "        numbers = [int(x) for x in str(n)]\n",
    "        if len(numbers)<17:\n",
    "            if len(numbers)%2==0:\n",
    "                #even numbers\n",
    "                even=[numbers[x] for x in range(0,len(numbers),2)]\n",
    "                odd= [numbers[x] for x in range(1,len(numbers),2)]\n",
    "                a=[x*2 for x in even] \n",
    "                for x in a:\n",
    "                    if x <10:\n",
    "                        odd.append(x)\n",
    "                    else:\n",
    "                        odd.append(x-9)\n",
    "                total = sum(odd)\n",
    "            else:\n",
    "                #odd numbers\n",
    "                even=[numbers[x] for x in range(0,len(numbers),2)]\n",
    "                odd= [numbers[x] for x in range(1,len(numbers),2)]\n",
    "                a=[x*2 for x in odd] \n",
    "                for x in a:\n",
    "                    if x <10:\n",
    "                        even.append(x)\n",
    "                    else:\n",
    "                        even.append(x-9)\n",
    "                total = sum(even)\n",
    "                 \n",
    "        else:\n",
    "            final = False \n",
    "    else:\n",
    "        final = False \n",
    "    if final != False:\n",
    "        if total %10 == 0:\n",
    "            final = True\n",
    "        else:\n",
    "            final=False\n",
    "        \n",
    "    return final            "
   ]
  },
  {
   "cell_type": "code",
   "execution_count": null,
   "metadata": {
    "collapsed": true
   },
   "outputs": [],
   "source": [
    "validate(891)"
   ]
  },
  {
   "cell_type": "code",
   "execution_count": null,
   "metadata": {
    "collapsed": true
   },
   "outputs": [],
   "source": [
    "l=[2,3,4,5]"
   ]
  },
  {
   "cell_type": "code",
   "execution_count": null,
   "metadata": {
    "collapsed": true
   },
   "outputs": [],
   "source": [
    "[l[i] for i in range(0,len(l),2)]"
   ]
  },
  {
   "cell_type": "markdown",
   "metadata": {},
   "source": [
    "my solution above...\n",
    "top rated solution in codewars below\n"
   ]
  },
  {
   "cell_type": "code",
   "execution_count": null,
   "metadata": {
    "collapsed": true
   },
   "outputs": [],
   "source": [
    "def validate(n):\n",
    "    digits = [int(x) for x in str(n)]\n",
    "    for x in xrange(len(digits)-2, -1, -2):\n",
    "        digits[x] = sum(map(int, str(digits[x] * 2)))\n",
    "    return sum(digits) % 10 == 0"
   ]
  },
  {
   "cell_type": "code",
   "execution_count": null,
   "metadata": {
    "collapsed": true
   },
   "outputs": [],
   "source": [
    "array_diff(a, b)"
   ]
  },
  {
   "cell_type": "code",
   "execution_count": null,
   "metadata": {
    "collapsed": true
   },
   "outputs": [],
   "source": [
    "rev = lambda s: s[::-1]"
   ]
  },
  {
   "cell_type": "code",
   "execution_count": null,
   "metadata": {
    "collapsed": true
   },
   "outputs": [],
   "source": [
    "_l = [0]\n",
    "for x in l:\n",
    "    _l.append(len(x))\n"
   ]
  },
  {
   "cell_type": "code",
   "execution_count": null,
   "metadata": {
    "collapsed": true
   },
   "outputs": [],
   "source": [
    "for x in l:\n",
    "    z = [l[0][_l[i]:_l[i+1]] for i in xrange(len(l)-1)]\n",
    "    final.join(z)"
   ]
  },
  {
   "cell_type": "code",
   "execution_count": null,
   "metadata": {
    "collapsed": true
   },
   "outputs": [],
   "source": [
    "for x in l:\n",
    "    a = rev([x[_l[i]:_l[i+1]] for i in xrange(len(l)-1)])\n",
    "    final + a"
   ]
  },
  {
   "cell_type": "markdown",
   "metadata": {},
   "source": [
    "# Get the number n to return the reversed sequence from n to 1.\n",
    "\n",
    "Example : n=5 >> [5,4,3,2,1]"
   ]
  },
  {
   "cell_type": "code",
   "execution_count": null,
   "metadata": {
    "collapsed": true
   },
   "outputs": [],
   "source": [
    "#my solution\n",
    "def reverse_seq(n):\n",
    "    rev = lambda s: s[::-1]\n",
    "    return rev([x for x in range(1,n+1)])"
   ]
  },
  {
   "cell_type": "code",
   "execution_count": null,
   "metadata": {
    "collapsed": true
   },
   "outputs": [],
   "source": [
    "#top solution on codewars\n",
    "def reverseseq(n):\n",
    "    return list(range(n, 0, -1))\n"
   ]
  },
  {
   "cell_type": "markdown",
   "metadata": {
    "collapsed": true
   },
   "source": [
    "# Are they the \"same\"?\n",
    "Given two arrays a and b write a function comp(a, b) (compSame(a, b) in Clojure) that checks whether the two arrays have the \"same\" elements, with the same multiplicities. \"Same\" means, here, that the elements in b are the elements in a squared, regardless of the order.\n",
    "\n",
    "Examples\n",
    "Valid arrays\n",
    "a = [121, 144, 19, 161, 19, 144, 19, 11]  \n",
    "b = [121, 14641, 20736, 361, 25921, 361, 20736, 361]\n",
    "comp(a, b) returns true because in b 121 is the square of 11, 14641 is the square of 121, 20736 the square of 144, 361 the square of 19, 25921 the square of 161, and so on. It gets obvious if we write b's elements in terms of squares:\n",
    "\n",
    "a = [121, 144, 19, 161, 19, 144, 19, 11] \n",
    "b = [11*11, 121*121, 144*144, 19*19, 161*161, 19*19, 144*144, 19*19]\n",
    "Invalid arrays\n",
    "If we change the first number to something else, comp may not return true anymore:\n",
    "\n",
    "a = [121, 144, 19, 161, 19, 144, 19, 11]  \n",
    "b = [132, 14641, 20736, 361, 25921, 361, 20736, 361]\n",
    "comp(a,b) returns false because in b 132 is not the square of any number of a.\n",
    "\n",
    "a = [121, 144, 19, 161, 19, 144, 19, 11]  \n",
    "b = [121, 14641, 20736, 36100, 25921, 361, 20736, 361]\n",
    "comp(a,b) returns false because in b 36100 is not the square of any number of a.\n",
    "\n",
    "Remarks\n",
    "a or b might be [] (all languages except R, Shell). a or b might be nil or null or None (except in Haskell, Elixir, C++, Rust, R, Shell).\n",
    "\n",
    "If a or b are nil (or null or None), the problem doesn't make sense so return false.\n",
    "\n",
    "If a or b are empty the result is evident by itself."
   ]
  },
  {
   "cell_type": "code",
   "execution_count": null,
   "metadata": {
    "collapsed": true
   },
   "outputs": [],
   "source": [
    "#my 1st solution that didn't take into account the possiblity of np.nan being an array\n",
    "def comp(array1, array2):\n",
    "    return len([x for x in [x**2 for x in array1] if x not in array2])==0 \n",
    "#my 2nd solution that worked \n",
    "def comp(array1, array2):\n",
    "    if type(array1)== list and type(array2)== list:\n",
    "        a=[x**2 for x in array1]\n",
    "        b=[x**2 for x in array2]\n",
    "        c = len([x for x in array2 if x not in a ])\n",
    "        d = len([x for x in array1 if x not in b ])\n",
    "        if c == 0 or d == 0:\n",
    "            final = True\n",
    "        else:\n",
    "            final = False\n",
    "    else:\n",
    "        final = False\n",
    "    return final\n",
    "\t"
   ]
  },
  {
   "cell_type": "code",
   "execution_count": null,
   "metadata": {
    "collapsed": true
   },
   "outputs": [],
   "source": [
    "#voted best practice and most clever\n",
    "def comp(array1, array2):\n",
    "    try:\n",
    "        return sorted([i ** 2 for i in array1]) == sorted(array2)\n",
    "    except:\n",
    "        return False"
   ]
  },
  {
   "cell_type": "code",
   "execution_count": null,
   "metadata": {
    "collapsed": true
   },
   "outputs": [],
   "source": [
    "comp([121, 144, 19, 161, 19, 144, 19, 11],[11*11, 121*21, 144*144, 19*19, 161*161, 19*19, 144*144, 19*19])"
   ]
  },
  {
   "cell_type": "markdown",
   "metadata": {},
   "source": [
    "# Your Order Please\n",
    "Your task is to sort a given string. Each word in the String will contain a single number. This number is the position the word should have in the result.\n",
    "\n",
    "Note: Numbers can be from 1 to 9. So 1 will be the first word (not 0).\n",
    "\n",
    "If the input String is empty, return an empty String. The words in the input String will only contain valid consecutive numbers.\n",
    "\n",
    "For an input: \"is2 Thi1s T4est 3a\" the function should return \"Thi1s is2 3a T4est\"\n",
    "\n",
    "your_order(\"is2 Thi1s T4est 3a\")\n",
    "[1] \"Thi1s is2 3a T4est\""
   ]
  },
  {
   "cell_type": "code",
   "execution_count": 104,
   "metadata": {
    "collapsed": true
   },
   "outputs": [],
   "source": [
    "#my solution\n",
    "def order(sentence):\n",
    "    new = sentence.split()\n",
    "    dic = {}\n",
    "    for x in new:\n",
    "        dic[int([y for y in x if y.isdigit()][0])] = x\n",
    "    return  ' '.join([value for (key, value) in sorted(dic.items())])\n",
    "#voted best and most clever \n",
    "def order(sentence):\n",
    "    return \" \".join(sorted(sentence.split(), key=lambda x: int(filter(str.isdigit, x))))"
   ]
  },
  {
   "cell_type": "code",
   "execution_count": 105,
   "metadata": {},
   "outputs": [
    {
     "data": {
      "text/plain": [
       "'Thi1s is2 3a T4est'"
      ]
     },
     "execution_count": 105,
     "metadata": {},
     "output_type": "execute_result"
    }
   ],
   "source": [
    "order(\"is2 Thi1s T4est 3a\")"
   ]
  },
  {
   "cell_type": "code",
   "execution_count": null,
   "metadata": {
    "collapsed": true
   },
   "outputs": [],
   "source": []
  },
  {
   "cell_type": "code",
   "execution_count": null,
   "metadata": {
    "collapsed": true
   },
   "outputs": [],
   "source": []
  },
  {
   "cell_type": "markdown",
   "metadata": {},
   "source": [
    "# String incrementer\n",
    "\n",
    "Your job is to write a function which increments a string, to create a new string. If the string already ends with a number, the number should be incremented by 1. If the string does not end with a number the number 1 should be appended to the new string.\n",
    "\n",
    "Examples:\n",
    "\n",
    "foo -> foo1\n",
    "\n",
    "foobar23 -> foobar24\n",
    "\n",
    "foo0042 -> foo0043\n",
    "\n",
    "foo9 -> foo10\n",
    "\n",
    "foo099 -> foo100\n",
    "\n",
    "Attention: If the number has leading zeros the amount of digits should be considered."
   ]
  },
  {
   "cell_type": "code",
   "execution_count": null,
   "metadata": {
    "collapsed": true
   },
   "outputs": [],
   "source": [
    "my_string = 'string001'"
   ]
  },
  {
   "cell_type": "code",
   "execution_count": null,
   "metadata": {
    "collapsed": true
   },
   "outputs": [],
   "source": [
    "l = [c for c in my_string if c.isdigit()]\n",
    "l.pop(len(l[-1])-1)\n",
    "''.join(l)"
   ]
  },
  {
   "cell_type": "code",
   "execution_count": null,
   "metadata": {
    "collapsed": true
   },
   "outputs": [],
   "source": [
    "def increment_string(strng):\n",
    "    l = [c for c in strng if c.isdigit()]\n",
    "    strng = [c for c in strng if c not in l]\n",
    "    if len(l)> 0:\n",
    "        l[-1] = str(int(''.join(l))+1)\n",
    "        a=l[-1]\n",
    "        if len(l[-1])>1 and len(l[-1])>=len(l):\n",
    "            [l.pop() for x in xrange(len(l[-1]))]\n",
    "            strng += ''.join(l) +a\n",
    "        else:\n",
    "            \n",
    "            strng +=''.join(l) \n",
    "        \n",
    "    else:\n",
    "        strng += '1'\n",
    "    return ''.join(strng)\n"
   ]
  },
  {
   "cell_type": "code",
   "execution_count": 101,
   "metadata": {},
   "outputs": [
    {
     "data": {
      "text/plain": [
       "2"
      ]
     },
     "execution_count": 101,
     "metadata": {},
     "output_type": "execute_result"
    }
   ],
   "source": [
    "list1 = ['0','3','44','2','0','10']\n",
    "#[list1.pop() for x in list1[len(list1[-1])-1:]]\n",
    "#list1\n",
    "list1[int(len(list1[-1])):]\n",
    "int(len(list1[-1]))\n",
    "len(list1[-1])+1\n",
    "len(list1[-1])"
   ]
  },
  {
   "cell_type": "code",
   "execution_count": 183,
   "metadata": {
    "collapsed": true
   },
   "outputs": [],
   "source": [
    "def increment_string(strng):\n",
    "    l = [c for c in strng if c.isdigit()]\n",
    "    string = [c for c in strng if c.isdigit() == False]\n",
    "    if len(l)!= 0:\n",
    "        if l[-1] != '0':\n",
    "            l[-1] = str(int(''.join(l))+1)\n",
    "            a=l[-1]\n",
    "            if len(l)>1:\n",
    "                if len(a) < len(l):\n",
    "                    [l.pop() for x in xrange(len(a))]\n",
    "                    string += ''.join(l) +a\n",
    "                elif len(a) == len(l):\n",
    "                    [l.pop() for x in xrange(len(a))]\n",
    "                    string += a\n",
    "                else:\n",
    "                    string += a\n",
    "            else:\n",
    "                strng += ''.join(l)\n",
    "        else:\n",
    "            final = [x for x in strng]\n",
    "            final[-1] = str(int(final[-1])+1)\n",
    "            string = final\n",
    "    else:\n",
    "        strng += '1'\n",
    "    return ''.join(strng)\n"
   ]
  },
  {
   "cell_type": "code",
   "execution_count": 184,
   "metadata": {},
   "outputs": [
    {
     "data": {
      "text/plain": [
       "'PuxhZA4O0gHE>047945266900000008600'"
      ]
     },
     "execution_count": 184,
     "metadata": {},
     "output_type": "execute_result"
    }
   ],
   "source": [
    "increment_string('PuxhZA4O0gHE>047945266900000008600')\n",
    "#['x' for x in xrange(4+1)]"
   ]
  },
  {
   "cell_type": "code",
   "execution_count": 182,
   "metadata": {
    "collapsed": true
   },
   "outputs": [],
   "source": [
    "z= 'asldkfjaslkdfj'\n",
    "z.\n",
    "#my_string.replace(a,str(int(a)+1))"
   ]
  },
  {
   "cell_type": "code",
   "execution_count": null,
   "metadata": {
    "collapsed": true
   },
   "outputs": [],
   "source": [
    "my_string\n",
    "my_string.replace(my_string[-1],str(int(my_string[-1])+1))"
   ]
  },
  {
   "cell_type": "code",
   "execution_count": null,
   "metadata": {
    "collapsed": true
   },
   "outputs": [],
   "source": [
    "l=[c for c in my_string if c.isdigit()]"
   ]
  },
  {
   "cell_type": "code",
   "execution_count": null,
   "metadata": {
    "collapsed": true
   },
   "outputs": [],
   "source": [
    "l[-1]=str(20)"
   ]
  },
  {
   "cell_type": "code",
   "execution_count": null,
   "metadata": {
    "collapsed": true
   },
   "outputs": [],
   "source": [
    "print len(l[-1])\n",
    "print len(l)"
   ]
  },
  {
   "cell_type": "code",
   "execution_count": null,
   "metadata": {
    "collapsed": true
   },
   "outputs": [],
   "source": [
    "l.pop(len(l[-1])-1)\n",
    "''.join(l)"
   ]
  },
  {
   "cell_type": "code",
   "execution_count": null,
   "metadata": {
    "collapsed": true
   },
   "outputs": [],
   "source": [
    "rev = lambda s: s[::-1]"
   ]
  },
  {
   "cell_type": "code",
   "execution_count": null,
   "metadata": {
    "collapsed": true
   },
   "outputs": [],
   "source": [
    "rev('hello')"
   ]
  },
  {
   "cell_type": "code",
   "execution_count": null,
   "metadata": {
    "collapsed": true
   },
   "outputs": [],
   "source": [
    "def adder(x,y):\n",
    "    return x+y"
   ]
  },
  {
   "cell_type": "code",
   "execution_count": null,
   "metadata": {
    "collapsed": true
   },
   "outputs": [],
   "source": [
    "adder(18,12)"
   ]
  },
  {
   "cell_type": "code",
   "execution_count": null,
   "metadata": {
    "collapsed": true
   },
   "outputs": [],
   "source": [
    "#now make the adder function a lambda expression"
   ]
  },
  {
   "cell_type": "code",
   "execution_count": null,
   "metadata": {
    "collapsed": true
   },
   "outputs": [],
   "source": [
    "#lambda x,y: x+y  ###then you can set previous lambda to = adder and it will do the same as above. \n",
    "adder = lambda x,y: x+y"
   ]
  },
  {
   "cell_type": "code",
   "execution_count": null,
   "metadata": {
    "collapsed": true
   },
   "outputs": [],
   "source": [
    "adder(30,30)"
   ]
  },
  {
   "cell_type": "code",
   "execution_count": null,
   "metadata": {
    "collapsed": true
   },
   "outputs": [],
   "source": [
    "#lambda functions will shine and be used a lot when they are used with 3 main funcitons \n",
    "#map()\n",
    "#filter()\n",
    "#reduce()\n",
    "#there is a video for each of these 3 functions you can look up if you want to "
   ]
  },
  {
   "cell_type": "code",
   "execution_count": null,
   "metadata": {
    "collapsed": true
   },
   "outputs": [],
   "source": [
    "#usually dont save lambda expression with a name function like this. You usually use with map(), filter(), reduce(), \n",
    "#but for an example \n",
    "len_check = lambda item: len(item)"
   ]
  },
  {
   "cell_type": "code",
   "execution_count": null,
   "metadata": {
    "collapsed": true
   },
   "outputs": [],
   "source": [
    "len_check('How many chars does this string have?')"
   ]
  },
  {
   "cell_type": "markdown",
   "metadata": {},
   "source": [
    "\n",
    "# Nested Statements and Scope"
   ]
  },
  {
   "cell_type": "markdown",
   "metadata": {
    "collapsed": true
   },
   "source": [
    "\n",
    "Now that we have gone over on writing our own functions, its important to understand how Python deals with the variable names you assign. When you create a variable name in Python the name is stored in a namespace. Variable names also have a scope, the scope determines the visbility of that variable name to other parts of your code.\n",
    "\n",
    "Lets start with a quick thought experiment, imagine the following code:"
   ]
  },
  {
   "cell_type": "code",
   "execution_count": null,
   "metadata": {
    "collapsed": true
   },
   "outputs": [],
   "source": [
    "x = 25\n",
    "def printer():\n",
    "    x = 50\n",
    "    return x\n",
    "print x\n",
    "print printer()"
   ]
  },
  {
   "cell_type": "markdown",
   "metadata": {
    "collapsed": true
   },
   "source": [
    "This idea of scope in your code is very important to understand in order to properly assign and call variable names.\n",
    "\n",
    "In simple terms, the idea of scope can be described by 3 general rules:\n",
    "\n",
    "    Name assignments will create or change local names by default.\n",
    "    Name references search (at most) four scopes, these are:\n",
    "        local\n",
    "        enclosing functions\n",
    "        global\n",
    "        built-in\n",
    "    Names declared in global and nonlocal statements map assigned names to enclosing module and function scopes.\n"
   ]
  },
  {
   "cell_type": "markdown",
   "metadata": {},
   "source": [
    "The statement in #2 above can be defined by the LEGB rule.\n",
    "\n",
    "LEGB Rule.\n",
    "\n",
    "L: Local — Names assigned in any way within a function (def or lambda)), and not declared global in that function.\n",
    "\n",
    "E: Enclosing function locals — Name in the local scope of any and all enclosing functions (def or lambda), from inner to outer.\n",
    "\n",
    "G: Global (module) — Names assigned at the top-level of a module file, or declared global in a def within the file.\n",
    "\n",
    "B: Built-in (Python) — Names preassigned in the built-in names module : open,range,SyntaxError,...\n",
    "\n",
    "##Python looks in this order. Local first, then Enclosing function locals, then Global, Then BUILT IN."
   ]
  },
  {
   "cell_type": "code",
   "execution_count": null,
   "metadata": {
    "collapsed": true
   },
   "outputs": [],
   "source": [
    "#LEGB examples\n",
    "#Local \n",
    "#x is local here\n",
    "f= lambda x:x**2"
   ]
  },
  {
   "cell_type": "code",
   "execution_count": null,
   "metadata": {
    "collapsed": true
   },
   "outputs": [],
   "source": [
    "#Enclosing function locals\n",
    "name = 'This is a global name'\n",
    "\n",
    "def greet():\n",
    "    #enclosing function\n",
    "    name = 'Sammy'  \n",
    "    \n",
    "    def hello():\n",
    "        print 'Hello '+name\n",
    "    hello()\n",
    "greet()\n",
    "#I tried this 6 times and evidently had the white spaces off. Had to have the \n",
    "#hello() lined up with def hello(): and greet() directly under def greet()\n",
    "#almost like closing off bracketes to end  the expression. And I couldn't skip\n",
    "#any lines between print 'hello' and hello(). or between hello()and greet()"
   ]
  },
  {
   "cell_type": "code",
   "execution_count": null,
   "metadata": {
    "collapsed": true
   },
   "outputs": [],
   "source": [
    "#GLOBAL \n",
    "print name"
   ]
  },
  {
   "cell_type": "code",
   "execution_count": null,
   "metadata": {
    "collapsed": true
   },
   "outputs": [],
   "source": [
    "#BUILT-IN \"These are the built-in function names \n",
    "#in Python (don't overwrite these!)\"\n",
    "len"
   ]
  },
  {
   "cell_type": "code",
   "execution_count": null,
   "metadata": {
    "collapsed": true
   },
   "outputs": [],
   "source": [
    "open"
   ]
  },
  {
   "cell_type": "code",
   "execution_count": null,
   "metadata": {
    "collapsed": true
   },
   "outputs": [],
   "source": [
    "range"
   ]
  },
  {
   "cell_type": "markdown",
   "metadata": {},
   "source": [
    "##LOCAL VARIABLES\n",
    "\n",
    "When you declare variables inside a function definition, they are not related in any way to other variables with the same names used outside the function - i.e. variable names are local to the function. This is called the scope of the variable. All variables have the scope of the block they are declared in starting from the point of definition of the name."
   ]
  },
  {
   "cell_type": "code",
   "execution_count": null,
   "metadata": {
    "collapsed": true
   },
   "outputs": [],
   "source": [
    "#like ex above the func(x) bellow is ending the function. \n",
    "x = 50\n",
    "\n",
    "def func(x):\n",
    "    print 'x is', x\n",
    "    x=2\n",
    "    print 'Changed local x to', x\n",
    "    \n",
    "func(x)\n",
    "print 'x is still', x "
   ]
  },
  {
   "cell_type": "markdown",
   "metadata": {},
   "source": [
    "The first time that we print the value of the name x with the first line in the function’s body, Python uses the value of the parameter declared in the main block, above the function definition.\n",
    "\n",
    "Next, we assign the value 2 to x. The name x is local to our function. So, when we change the value of x in the function, the x defined in the main block remains unaffected.\n",
    "\n",
    "With the last print statement, we display the value of x as defined in the main block, thereby confirming that it is actually unaffected by the local assignment within the previously called function."
   ]
  },
  {
   "cell_type": "markdown",
   "metadata": {},
   "source": [
    "# The GLOBAL STATEMENT"
   ]
  },
  {
   "cell_type": "markdown",
   "metadata": {},
   "source": [
    "The global statement\n",
    "\n",
    "If you want to assign a value to a name defined at the top level of the program (i.e. not inside any kind of scope such as functions or classes), then you have to tell Python that the name is not local, but it is global. We do this using the global statement. It is impossible to assign a value to a variable defined outside a function without the global statement.\n",
    "\n",
    "You can use the values of such variables defined outside the function (assuming there is no variable with the same name within the function). However, this is not encouraged and should be avoided since it becomes unclear to the reader of the program as to where that variable’s definition is. Using the global statement makes it amply clear that the variable is defined in an outermost block."
   ]
  },
  {
   "cell_type": "code",
   "execution_count": null,
   "metadata": {
    "collapsed": true,
    "scrolled": false
   },
   "outputs": [],
   "source": [
    "#example\n",
    "\n",
    "def func():\n",
    "    global x \n",
    "    print 'This function is now using the gloabal x!'\n",
    "    print 'Because of global x is :', x \n",
    "    x= 2\n",
    "    print 'Ran func(), changed global x to ', x \n",
    "    \n",
    "print 'Before calling func(), x is ', x \n",
    "func()\n",
    "print 'Value of x (outside of func()) is:', x \n",
    "#Notice how 'Before calling func() is printed 1st. This means that we are only\n",
    "#declaring what func() is above and not actually running func() until after \n",
    "# print'before calling func(). Then when we run func() everything in func() is \n",
    "#ran and printed. Then the final print statement"
   ]
  },
  {
   "cell_type": "code",
   "execution_count": null,
   "metadata": {
    "collapsed": true
   },
   "outputs": [],
   "source": [
    "x"
   ]
  },
  {
   "cell_type": "code",
   "execution_count": null,
   "metadata": {
    "collapsed": true
   },
   "outputs": [],
   "source": [
    "#before being reassigned Global x was assigned 2 cells above as = 50\n",
    "# after running func() it reassigned x to = 2 \n",
    "global x\n",
    "x"
   ]
  },
  {
   "cell_type": "markdown",
   "metadata": {},
   "source": [
    "\n",
    "Conclusion\n",
    "\n",
    "You should now have a good understanding of Scope (you may have already intuitively felt right about Scope which is great!) One last mention is that you can use the globals() and locals() functions to check what are your current local and global variables.\n",
    "\n",
    "Another thing to keep in mind is that everything in Python is an object! I can assign variables to functions just like I can with numbers! We will go over this again in the decorator section of the course!\n"
   ]
  },
  {
   "cell_type": "code",
   "execution_count": null,
   "metadata": {
    "collapsed": true
   },
   "outputs": [],
   "source": [
    "globals()"
   ]
  },
  {
   "cell_type": "code",
   "execution_count": null,
   "metadata": {
    "collapsed": true
   },
   "outputs": [],
   "source": [
    "\n"
   ]
  }
 ],
 "metadata": {
  "kernelspec": {
   "display_name": "Python 2",
   "language": "python",
   "name": "python2"
  },
  "language_info": {
   "codemirror_mode": {
    "name": "ipython",
    "version": 2
   },
   "file_extension": ".py",
   "mimetype": "text/x-python",
   "name": "python",
   "nbconvert_exporter": "python",
   "pygments_lexer": "ipython2",
   "version": "2.7.13"
  }
 },
 "nbformat": 4,
 "nbformat_minor": 1
}
