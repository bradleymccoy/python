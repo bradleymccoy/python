{
 "cells": [
  {
   "cell_type": "markdown",
   "metadata": {},
   "source": [
    "# Dynamic objects that you can add attributes to"
   ]
  },
  {
   "cell_type": "code",
   "execution_count": null,
   "metadata": {
    "collapsed": true
   },
   "outputs": [],
   "source": [
    "class Person:\n",
    "    name=''\n",
    "p = Person()"
   ]
  },
  {
   "cell_type": "code",
   "execution_count": null,
   "metadata": {
    "collapsed": true
   },
   "outputs": [],
   "source": [
    "#to Change attribute value\n",
    "print(p.name)\n",
    "# setting name to 'John'\n",
    "setattr(p, 'name', 'John')\n",
    "print(p.name)"
   ]
  },
  {
   "cell_type": "code",
   "execution_count": null,
   "metadata": {
    "collapsed": true
   },
   "outputs": [],
   "source": [
    "params = ['age', 'sex', 'lastName']\n",
    "obj = Person()\n",
    "\n",
    "for z in params:\n",
    "    setattr(obj,z,'') # where p comes from for loop variable"
   ]
  },
  {
   "cell_type": "code",
   "execution_count": null,
   "metadata": {
    "collapsed": true
   },
   "outputs": [],
   "source": [
    "obj.age"
   ]
  },
  {
   "cell_type": "code",
   "execution_count": null,
   "metadata": {
    "collapsed": true
   },
   "outputs": [],
   "source": [
    "setattr(obj,'age',31)"
   ]
  },
  {
   "cell_type": "code",
   "execution_count": null,
   "metadata": {
    "collapsed": true,
    "scrolled": true
   },
   "outputs": [],
   "source": [
    "setattr(obj,'name','Brad')"
   ]
  },
  {
   "cell_type": "code",
   "execution_count": null,
   "metadata": {
    "collapsed": true
   },
   "outputs": [],
   "source": [
    "obj.name"
   ]
  },
  {
   "cell_type": "code",
   "execution_count": null,
   "metadata": {
    "collapsed": true
   },
   "outputs": [],
   "source": [
    "obj = Person()\n",
    "obj.a = lambda: None\n",
    "setattr(obj.a, 'name', 'Paige')"
   ]
  },
  {
   "cell_type": "code",
   "execution_count": null,
   "metadata": {
    "collapsed": true
   },
   "outputs": [],
   "source": [
    "b=getattr(obj,'a')\n",
    "setattr(obj.a, 'age', 31)"
   ]
  },
  {
   "cell_type": "code",
   "execution_count": null,
   "metadata": {
    "collapsed": true
   },
   "outputs": [],
   "source": [
    "print(b.name,b.age)"
   ]
  },
  {
   "cell_type": "code",
   "execution_count": null,
   "metadata": {
    "collapsed": true
   },
   "outputs": [],
   "source": [
    "setattr(obj,'name','Brad')"
   ]
  },
  {
   "cell_type": "code",
   "execution_count": null,
   "metadata": {
    "collapsed": true
   },
   "outputs": [],
   "source": [
    "obj.a"
   ]
  },
  {
   "cell_type": "code",
   "execution_count": null,
   "metadata": {
    "collapsed": true
   },
   "outputs": [],
   "source": [
    "lst=['NC','NC','Infrastructure','NC','Alnova','Alnova','Infrastructure','MQ','Alnova','MQ','Alnova','VDI','Infrastructure','Cadence','NC','MQ','Informatica','MQ','OAO','FTDL','FCCM','Cadence/DB','Vendor Garda','VDI','OLB']"
   ]
  },
  {
   "cell_type": "code",
   "execution_count": null,
   "metadata": {
    "collapsed": true
   },
   "outputs": [],
   "source": [
    "for x in list(set(lst)):\n",
    "    print([x, lst.count(x)])"
   ]
  },
  {
   "cell_type": "markdown",
   "metadata": {},
   "source": [
    "# Prime Streaming (pg-13)"
   ]
  },
  {
   "cell_type": "code",
   "execution_count": null,
   "metadata": {
    "collapsed": true
   },
   "outputs": [],
   "source": [
    "my_gen = (i for i in xrange(2,154866500000))\n",
    "import math\n",
    "def is_prime(n):\n",
    "    if n % 2 == 0 and n > 2: \n",
    "        return False\n",
    "    return all(n % i for i in range(3, int(math.sqrt(n)) + 1, 2))\n",
    "    \n",
    "class Primes:\n",
    "    @staticmethod\n",
    "    def stream():\n",
    "        while True:\n",
    "            i=next(my_gen)\n",
    "            if is_prime(i) == True:\n",
    "                yield i \n",
    "            \n",
    "stream=Primes.stream()                "
   ]
  },
  {
   "cell_type": "code",
   "execution_count": null,
   "metadata": {
    "collapsed": true
   },
   "outputs": [],
   "source": [
    "import time\n",
    "t0 = time.time() \n",
    "i=0\n",
    "while i< 100000:\n",
    "    c = next(stream)\n",
    "    i+=1\n",
    "t1 = time.time() \n",
    "print(c)\n",
    "print(\"Time required:\", t1 - t0) \n"
   ]
  },
  {
   "cell_type": "code",
   "execution_count": null,
   "metadata": {
    "collapsed": true
   },
   "outputs": [],
   "source": [
    "#first attempt \n",
    "#This version passes all of the initial test cases but fails the run all because of timeout\n",
    "\n",
    "import math\n",
    "def is_prime(n):\n",
    "    if n % 2 == 0 and n > 2: \n",
    "        return False\n",
    "    return all(n % i for i in range(3, int(math.sqrt(n)) + 1, 2))\n",
    "    \n",
    "class Primes:\n",
    "    @staticmethod\n",
    "    def stream():\n",
    "        i = 2\n",
    "        while i < 15486589:\n",
    "            if is_prime(i) ==True:\n",
    "                yield i\n",
    "            i += 1\n",
    "stream=Primes.stream()"
   ]
  },
  {
   "cell_type": "code",
   "execution_count": null,
   "metadata": {
    "collapsed": true
   },
   "outputs": [],
   "source": [
    "t0 = time.time() \n",
    "i=0\n",
    "while i< 1000043:\n",
    "    c = next(stream)\n",
    "    i+=1\n",
    "t1 = time.time() \n",
    "print(c)\n",
    "print(\"Time required:\", t1 - t0) \n"
   ]
  },
  {
   "cell_type": "code",
   "execution_count": null,
   "metadata": {
    "collapsed": true
   },
   "outputs": [],
   "source": [
    "#also works not fast enough.....\n",
    "#this one has no max value and will continue to count as long as you keep calling the stream.\n",
    "from itertools import count\n",
    "def prime_sieve():\n",
    "    sieved = count(2)\n",
    "    prime = next(sieved)\n",
    "    yield prime\n",
    "    primes = [prime]\n",
    "    for x in sieved:\n",
    "        if any(x % prime == 0 for prime in primes):\n",
    "            continue\n",
    "        yield x\n",
    "        primes.append(x)\n",
    "class Primes:\n",
    "    @staticmethod\n",
    "    def stream():\n",
    "        return prime_sieve()\n",
    "\n",
    "stream=Primes.stream()"
   ]
  },
  {
   "cell_type": "code",
   "execution_count": null,
   "metadata": {
    "collapsed": true
   },
   "outputs": [],
   "source": [
    "t0 = time.time() \n",
    "i=0\n",
    "while i< 1000043:\n",
    "    c = next(stream)\n",
    "    i+=1\n",
    "t1 = time.time() \n",
    "print(c)\n",
    "print(\"Time required:\", t1 - t0) "
   ]
  },
  {
   "cell_type": "code",
   "execution_count": null,
   "metadata": {
    "collapsed": true
   },
   "outputs": [],
   "source": [
    "#** By far the fastes that I have tried so far. This is passing 18 of 20 cases \n",
    "## In Another cell write this out and make changes to it to not include max n, \n",
    "## Also change to make it stream the next number instead of next from a list that has already been made\n",
    "\n",
    "\n",
    "\n",
    "# Python Program to find prime numbers in a range \n",
    "import time \n",
    "def SieveOfEratosthenes(): \n",
    "    n=10000000\n",
    "    # Create a boolean array \"prime[0..n]\" and  \n",
    "    # initialize all entries it as true. A value  \n",
    "    # in prime[i] will finally be false if i is \n",
    "    # Not a prime, else true. \n",
    "    prime = [True for i in range(n+1)] \n",
    "      \n",
    "    p = 2\n",
    "    while(p * p <= n): \n",
    "           \n",
    "        # If prime[p] is not changed, then it is  \n",
    "       # a prime \n",
    "        if (prime[p] == True): \n",
    "               \n",
    "            # Update all multiples of p \n",
    "            for i in range(p * 2, n + 1, p): \n",
    "                prime[i] = False\n",
    "        p += 1\n",
    "    c = 0\n",
    "  \n",
    "    # Print all prime numbers \n",
    "    for p in range(2, n): \n",
    "        if prime[p]: \n",
    "            c += 1\n",
    "    final=[]\n",
    "    for i,v in enumerate(prime):\n",
    "        if v==True:\n",
    "             final.append(i)\n",
    "    return final[2:]\n",
    "\n",
    "class Primes:\n",
    "    @staticmethod\n",
    "    def stream():\n",
    "        for x in SieveOfEratosthenes():\n",
    "            yield x\n",
    "stream= Primes.stream()            "
   ]
  },
  {
   "cell_type": "code",
   "execution_count": null,
   "metadata": {
    "collapsed": true
   },
   "outputs": [],
   "source": [
    "t0 = time.time() \n",
    "i=0\n",
    "while i< 100000:\n",
    "    c = next(stream)\n",
    "    i+=1\n",
    "t1 = time.time() \n",
    "print(c)\n",
    "print(\"Time required:\", t1 - t0) "
   ]
  },
  {
   "cell_type": "code",
   "execution_count": null,
   "metadata": {
    "collapsed": true
   },
   "outputs": [],
   "source": [
    "my_gen = (i for i in xrange(2,154866500000))"
   ]
  },
  {
   "cell_type": "code",
   "execution_count": null,
   "metadata": {
    "collapsed": true
   },
   "outputs": [],
   "source": [
    "next(my_gen)"
   ]
  },
  {
   "cell_type": "code",
   "execution_count": null,
   "metadata": {
    "collapsed": true
   },
   "outputs": [],
   "source": [
    "import time \n",
    "my_gen = (i for i in xrange(2,1548665000))\n",
    "\n",
    "def SieveOfEratosthenes(): \n",
    "    n=next(my_gen)\n",
    "    # Create a boolean array \"prime[0..n]\" and  \n",
    "    # initialize all entries it as true. A value  \n",
    "    # in prime[i] will finally be false if i is \n",
    "    # Not a prime, else true. \n",
    "    prime = [True for i in range(n**2)]\n",
    "      \n",
    "    p = 2\n",
    "    while(p * p <= n**2): \n",
    "           \n",
    "        # If prime[p] is not changed, then it is  \n",
    "       # a prime \n",
    "        if (prime[p] == True): \n",
    "               \n",
    "            # Update all multiples of p \n",
    "            for i in range(p * 2, n + 1, p): \n",
    "                prime[i] = False\n",
    "        p += 1\n",
    "    c = 0\n",
    "  \n",
    "    # Print all prime numbers \n",
    "    for p in range(2, n): \n",
    "        if prime[p]: \n",
    "            c += 1\n",
    "    final=[]\n",
    "    for i,v in enumerate(prime):\n",
    "        if v==True:\n",
    "             final.append(i)\n",
    "    return final\n",
    "\n",
    "class Primes:\n",
    "    @staticmethod\n",
    "    def stream():\n",
    "        yield SieveOfEratosthenes()\n",
    "stream= Primes.stream()            "
   ]
  },
  {
   "cell_type": "code",
   "execution_count": null,
   "metadata": {
    "collapsed": true
   },
   "outputs": [],
   "source": [
    "t0 = time.time() \n",
    "i=0\n",
    "while i< 1000043:\n",
    "    c = next(stream)\n",
    "    i+=1\n",
    "t1 = time.time() \n",
    "print(c)\n",
    "print(\"Time required:\", t1 - t0) "
   ]
  },
  {
   "cell_type": "code",
   "execution_count": null,
   "metadata": {
    "collapsed": true
   },
   "outputs": [],
   "source": [
    "next(my_gen)"
   ]
  },
  {
   "cell_type": "code",
   "execution_count": null,
   "metadata": {
    "collapsed": true
   },
   "outputs": [],
   "source": [
    "next(stream)"
   ]
  },
  {
   "cell_type": "code",
   "execution_count": null,
   "metadata": {
    "collapsed": true
   },
   "outputs": [],
   "source": [
    "#first attempt at cacheing the values\n",
    "from functools import wraps\n",
    "\n",
    "def memoize(function):\n",
    "    memo = {}\n",
    "    @wraps(function)\n",
    "    def wrapper(*args):\n",
    "        try:\n",
    "            return memo[args]\n",
    "        except KeyError:\n",
    "            rv = function(*args)\n",
    "            memo[args] = rv\n",
    "            return rv\n",
    "    return wrapper\n",
    "\n",
    "import math\n",
    "def is_prime(n):\n",
    "    if n % 2 == 0 and n > 2: \n",
    "        return False\n",
    "    return all(n % i for i in range(3, int(math.sqrt(n)) + 1, 2))\n",
    "    \n",
    "class Primes:\n",
    "    @staticmethod       \n",
    "    #@memoize\n",
    "    def run():\n",
    "        i = 2\n",
    "        while i < 10000000:\n",
    "            if is_prime(i) ==True:\n",
    "                yield i\n",
    "            i += 1\n",
    "    @staticmethod\n",
    "    def stream():\n",
    "        f=Primes.run()\n",
    "        while True:\n",
    "            yield next(f)"
   ]
  },
  {
   "cell_type": "code",
   "execution_count": null,
   "metadata": {
    "collapsed": true
   },
   "outputs": [],
   "source": [
    "#someone elses code that takes too much memory and time... \n",
    "\n",
    "def approach3(givenNumber):  \n",
    "    \n",
    "    # Initialize a list\n",
    "    primes = []\n",
    "    for possiblePrime in xrange(2, givenNumber + 1):        # Assume number is prime until shown it is not. \n",
    "        isPrime = True\n",
    "        for num in range(2, int(possiblePrime ** 0.5) + 1):\n",
    "            if possiblePrime % num == 0:\n",
    "                isPrime = False\n",
    "                break        \n",
    "            if isPrime:\n",
    "                primes.append(possiblePrime)\n",
    "    \n",
    "    return(primes)"
   ]
  },
  {
   "cell_type": "code",
   "execution_count": null,
   "metadata": {
    "collapsed": true
   },
   "outputs": [],
   "source": []
  },
  {
   "cell_type": "code",
   "execution_count": null,
   "metadata": {
    "collapsed": true
   },
   "outputs": [],
   "source": []
  },
  {
   "cell_type": "code",
   "execution_count": null,
   "metadata": {
    "collapsed": true
   },
   "outputs": [],
   "source": [
    "##Supposed to be the fastest way to find primes upto given number in python\n",
    "\n",
    "import time \n",
    "def SieveOfEratosthenes(n): \n",
    "       \n",
    "    # Create a boolean array \"prime[0..n]\" and  \n",
    "    # initialize all entries it as true. A value  \n",
    "    # in prime[i] will finally be false if i is \n",
    "    # Not a prime, else true. \n",
    "    prime = [True for i in range(n+1)] \n",
    "      \n",
    "    p = 2\n",
    "    while(p * p <= n): \n",
    "           \n",
    "        # If prime[p] is not changed, then it is  \n",
    "       # a prime \n",
    "        if (prime[p] == True): \n",
    "               \n",
    "            # Update all multiples of p \n",
    "            for i in range(p * 2, n + 1, p): \n",
    "                prime[i] = False\n",
    "        p += 1\n",
    "    c = 0\n",
    "  \n",
    "    # Print all prime numbers \n",
    "    for p in range(2, n): \n",
    "        if prime[p]: \n",
    "            c += 1\n",
    "    return c,prime \n",
    "  \n"
   ]
  },
  {
   "cell_type": "code",
   "execution_count": null,
   "metadata": {
    "collapsed": true
   },
   "outputs": [],
   "source": [
    "# Driver function \n",
    "t0 = time.time() \n",
    "c = SieveOfEratosthenes(15486589) \n",
    "print(\"Total prime numbers in range:\", c[0]) \n",
    "  \n",
    "t1 = time.time() \n",
    "print(\"Time required:\", t1 - t0) "
   ]
  },
  {
   "cell_type": "code",
   "execution_count": null,
   "metadata": {
    "collapsed": true
   },
   "outputs": [],
   "source": [
    "lst = [i for i,v in list(enumerate(c[1])) if v == True]"
   ]
  },
  {
   "cell_type": "code",
   "execution_count": null,
   "metadata": {
    "collapsed": true
   },
   "outputs": [],
   "source": [
    "lst[-3]"
   ]
  },
  {
   "cell_type": "code",
   "execution_count": null,
   "metadata": {
    "collapsed": true
   },
   "outputs": [],
   "source": [
    "stream= Primes.stream()\n",
    "\n",
    "next(stream)"
   ]
  },
  {
   "cell_type": "code",
   "execution_count": null,
   "metadata": {
    "collapsed": true
   },
   "outputs": [],
   "source": [
    "#working version\n",
    "def SieveOfEratosthenes(): \n",
    "    n=10000000\n",
    "    # Create a boolean array \"prime[0..n]\" and  \n",
    "    # initialize all entries it as true. A value  \n",
    "    # in prime[i] will finally be false if i is \n",
    "    # Not a prime, else true. \n",
    "    prime = [True for i in range(n+1)] \n",
    "      \n",
    "    p = 2\n",
    "    while(p * p <= n): \n",
    "           \n",
    "        # If prime[p] is not changed, then it is  \n",
    "       # a prime \n",
    "        if (prime[p] == True): \n",
    "               \n",
    "            # Update all multiples of p \n",
    "            for i in range(p * 2, n + 1, p): \n",
    "                prime[i] = False\n",
    "        p += 1\n",
    "    \n",
    "    while True:\n",
    "        \n",
    "    \n",
    "    c = 0\n",
    "  \n",
    "    # Print all prime numbers \n",
    "    for p in range(2, n): \n",
    "        if prime[p]: \n",
    "            c += 1\n",
    "    final=[]\n",
    "    for i,v in enumerate(prime):\n",
    "        if v==True:\n",
    "             final.append(i)\n",
    "    return final[2:]\n",
    "\n",
    "class Primes:\n",
    "    @staticmethod\n",
    "    def stream():\n",
    "        for x in SieveOfEratosthenes():\n",
    "            yield x\n",
    "            "
   ]
  },
  {
   "cell_type": "code",
   "execution_count": null,
   "metadata": {
    "collapsed": true
   },
   "outputs": [],
   "source": [
    "[i for i,v in enumerate(prime) if v==True]"
   ]
  },
  {
   "cell_type": "code",
   "execution_count": null,
   "metadata": {
    "collapsed": true
   },
   "outputs": [],
   "source": [
    "n=100\n",
    "\n",
    "prime = [True for i in range(n+1)] \n",
    "\n",
    "p = 2\n",
    "while(p * p <= n): \n",
    "\n",
    "    if (prime[p] == True): \n",
    "\n",
    "        # Update all multiples of p \n",
    "        for i in range(p * 2, n + 1, p): \n",
    "            prime[i] = False\n",
    "    p += 1\n",
    "list(enumerate(prime))[-1][0]"
   ]
  },
  {
   "cell_type": "code",
   "execution_count": null,
   "metadata": {
    "collapsed": true,
    "scrolled": true
   },
   "outputs": [],
   "source": [
    "def find_next_prime(n):\n",
    "    return find_prime_in_range(n, 2*n)\n",
    "\n",
    "def find_prime_in_range(a, b):\n",
    "    for p in range(a, b):\n",
    "        for i in range(2, p):\n",
    "            if p % i == 0:\n",
    "                break\n",
    "        else:\n",
    "            return p\n",
    "    return None\n",
    "        "
   ]
  },
  {
   "cell_type": "code",
   "execution_count": null,
   "metadata": {
    "collapsed": true
   },
   "outputs": [],
   "source": [
    "[i for i,v in enumerate(prime) if v==True]"
   ]
  },
  {
   "cell_type": "code",
   "execution_count": null,
   "metadata": {
    "collapsed": true
   },
   "outputs": [],
   "source": [
    "import math"
   ]
  },
  {
   "cell_type": "code",
   "execution_count": null,
   "metadata": {
    "collapsed": true
   },
   "outputs": [],
   "source": [
    "math.sqrt(2500)"
   ]
  },
  {
   "cell_type": "code",
   "execution_count": null,
   "metadata": {
    "collapsed": true
   },
   "outputs": [],
   "source": [
    "import math\n",
    "def list_squared(m, n):\n",
    "    l2=[]\n",
    "    i=m\n",
    "    while i<n+1:\n",
    "        lst=[]\n",
    "        #get divisors of i\n",
    "        for x in range(m,i+1):\n",
    "            if (float(i)/float(x)).is_integer():\n",
    "                lst.append(x)        \n",
    "        if math.sqrt(sum([x**2 for x in lst])).is_integer():\n",
    "            l2.append([i,sum([x**2 for x in lst])])\n",
    "        i+=1\n",
    "    return l2\n",
    "\n",
    "    "
   ]
  },
  {
   "cell_type": "code",
   "execution_count": null,
   "metadata": {
    "collapsed": true
   },
   "outputs": [],
   "source": [
    "list_squared(42,250)"
   ]
  },
  {
   "cell_type": "code",
   "execution_count": null,
   "metadata": {
    "collapsed": true,
    "scrolled": true
   },
   "outputs": [],
   "source": [
    "#m=42\n",
    "#n=246\n",
    "l2=[]\n",
    "#i=m\n",
    "def divisors(n):\n",
    "    lst=[]\n",
    "    #get divisors of n\n",
    "    for x in range(1,n+1):\n",
    "        if (n/float(x)).is_integer():\n",
    "            lst.append(x)\n",
    "    return lst\n",
    "'''val=sum([x**2 for x in lst])        \n",
    "if math.sqrt(val).is_integer():\n",
    "    l2.append([i,val])\n",
    "'''    \n",
    "#lst"
   ]
  },
  {
   "cell_type": "code",
   "execution_count": null,
   "metadata": {
    "collapsed": true
   },
   "outputs": [],
   "source": [
    "\n",
    "[x for x in range(1,n+1) if (n/float(x)).is_integer()]"
   ]
  },
  {
   "cell_type": "code",
   "execution_count": null,
   "metadata": {
    "collapsed": true
   },
   "outputs": [],
   "source": [
    "#this version works and gets correct answers in py 2.7 but not in 3.6\n",
    "#it is solving the problems but not quick enough\n",
    "\n",
    "import math\n",
    "def divisors(n):\n",
    "    return [x for x in range(1,n) if (n/float(x)).is_integer()]\n",
    "\n",
    "def list_squared(m, n):\n",
    "    l2=[]\n",
    "    v = [divisors(x) for x in range(m,n+1)]\n",
    "    #if math.sqrt(sum([x**2 for x in divisors(x)])).is_integer()]\n",
    "    \n",
    "    \n",
    "    \n",
    "    return v\n",
    "        \n",
    "    '''lst= [divisors(x) for x in range(m,n)]\n",
    "    l2=[]\n",
    "    for x in lst:\n",
    "        val=sum([x**2 for x in x])\n",
    "        if math.sqrt(val).is_integer():\n",
    "            l2.append([x,val])\n",
    "    return l2'''"
   ]
  },
  {
   "cell_type": "code",
   "execution_count": null,
   "metadata": {
    "collapsed": true
   },
   "outputs": [],
   "source": [
    "list_squared(1,43)"
   ]
  },
  {
   "cell_type": "code",
   "execution_count": null,
   "metadata": {
    "collapsed": true,
    "scrolled": true
   },
   "outputs": [],
   "source": [
    "l2=[]\n",
    "def sq(x):\n",
    "    return x**2\n",
    "lst = [map(sq, x) for x in list_squared(1,43)]\n",
    "i=1\n",
    "while i<len(lst):\n",
    "    if math.sqrt(sum(lst[i])).is_integer():\n",
    "        l2.append([i,sum(lst[i])])\n",
    "    i+=1\n",
    "lst"
   ]
  },
  {
   "cell_type": "code",
   "execution_count": null,
   "metadata": {
    "collapsed": true
   },
   "outputs": [],
   "source": [
    "[x for x in range(1,i+1) if (n/float(x)).is_integer()]"
   ]
  },
  {
   "cell_type": "code",
   "execution_count": null,
   "metadata": {
    "collapsed": true
   },
   "outputs": [],
   "source": [
    "list_squared(600,2000)"
   ]
  },
  {
   "cell_type": "code",
   "execution_count": null,
   "metadata": {
    "collapsed": true
   },
   "outputs": [],
   "source": [
    "math.sqrt(sum([x**2 for x in lst]) )"
   ]
  },
  {
   "cell_type": "code",
   "execution_count": null,
   "metadata": {
    "collapsed": true
   },
   "outputs": [],
   "source": [
    "lst=[]\n",
    "i=3\n",
    "for x in range(m,i+1):\n",
    "    if (float(i)/float(x)).is_integer():\n",
    "        lst.append(x)\n",
    "val=sum([x**2 for x in lst])   \n",
    "lst\n",
    "math.sqrt(val).is_integer()"
   ]
  },
  {
   "cell_type": "code",
   "execution_count": null,
   "metadata": {
    "collapsed": true
   },
   "outputs": [],
   "source": [
    "lst[0].is_integer()"
   ]
  },
  {
   "cell_type": "code",
   "execution_count": null,
   "metadata": {
    "collapsed": true
   },
   "outputs": [],
   "source": [
    "sum([x**2 for x in lst])"
   ]
  },
  {
   "cell_type": "code",
   "execution_count": null,
   "metadata": {
    "collapsed": true
   },
   "outputs": [],
   "source": [
    "list_squared(1,42)"
   ]
  },
  {
   "cell_type": "code",
   "execution_count": null,
   "metadata": {
    "collapsed": true
   },
   "outputs": [],
   "source": [
    "from itertools import izip_longest\n",
    "def alt(s, t):\n",
    "    return ''.join(a + b for a, b in izip_longest(s, t, fillvalue=''))"
   ]
  },
  {
   "cell_type": "code",
   "execution_count": null,
   "metadata": {
    "collapsed": true
   },
   "outputs": [],
   "source": [
    "alt(a,b)"
   ]
  },
  {
   "cell_type": "code",
   "execution_count": null,
   "metadata": {
    "collapsed": true
   },
   "outputs": [],
   "source": [
    "a='ab'\n",
    "b='def'\n",
    "zip(*[a,b])"
   ]
  },
  {
   "cell_type": "code",
   "execution_count": null,
   "metadata": {
    "collapsed": true
   },
   "outputs": [],
   "source": [
    "(1990/float(4)).is_integer()"
   ]
  },
  {
   "cell_type": "code",
   "execution_count": null,
   "metadata": {
    "collapsed": true
   },
   "outputs": [],
   "source": [
    "n=5"
   ]
  },
  {
   "cell_type": "code",
   "execution_count": null,
   "metadata": {
    "collapsed": true
   },
   "outputs": [],
   "source": [
    "f='0\\n'\n",
    "lst=[]\n",
    "i=1\n",
    "while i<n:\n",
    "    f+='{}\\n'.format(i**2)\n",
    "    i+=1\n",
    "f"
   ]
  },
  {
   "cell_type": "code",
   "execution_count": null,
   "metadata": {
    "collapsed": true
   },
   "outputs": [],
   "source": [
    "[[0, 0, 0], [0, 0, 1], [0, 1, 0],\n",
    " [0, 1, 2],[0, 2, 1], [0, 2, 2],\n",
    " [1, 0, 0], [1, 0, 2],[1, 1, 1],\n",
    " [1, 1, 2], [1, 2, 0], [1, 2, 1],\n",
    " [1, 2, 2], [2, 0, 1], [2, 0, 2],\n",
    " [2, 1, 0], [2, 1, 1], [2, 1, 2],\n",
    " [2, 2, 0], [2, 2, 1], [2, 2, 2]]\n",
    "\n",
    "\n",
    "1234567\n",
    "if __name__ == '__main__':\n",
    "    x = int(raw_input())\n",
    "    y = int(raw_input())\n",
    "    z = int(raw_input())\n",
    "    n = int(raw_input())\n",
    "\n",
    "\n",
    "\n"
   ]
  },
  {
   "cell_type": "code",
   "execution_count": null,
   "metadata": {
    "collapsed": true
   },
   "outputs": [],
   "source": [
    "x = int ( raw_input()) \n",
    "y = int ( raw_input()) \n",
    "n = int ( raw_input()) \n",
    "ar = [] \n",
    "p = 0 \n",
    "for i in range ( x + 1 ) : \n",
    "    for j in range( y + 1): \n",
    "        if i+j != n: \n",
    "            ar.append([]) \n",
    "            ar[p] = [ i , j ] \n",
    "            p+=1 \n",
    "print ar"
   ]
  },
  {
   "cell_type": "code",
   "execution_count": null,
   "metadata": {
    "collapsed": true
   },
   "outputs": [],
   "source": [
    "x = int ( raw_input()) \n",
    "y = int ( raw_input()) \n",
    "n = int ( raw_input()) \n",
    "print [ [ i, j] for i in range( x + 1) for j in range( y + 1) if ( ( i + j ) != n )]"
   ]
  },
  {
   "cell_type": "code",
   "execution_count": null,
   "metadata": {
    "collapsed": true
   },
   "outputs": [],
   "source": [
    "x = int ( raw_input()) \n",
    "y = int ( raw_input()) \n",
    "z = int (raw_input())\n",
    "#n = int ( raw_input()) \n",
    "print [ [ i, j, k] for i in range( x + 1) for j in range( y + 1) for k in range(z+1)]# if ( ( i + j + k) != n )]"
   ]
  },
  {
   "cell_type": "code",
   "execution_count": null,
   "metadata": {
    "collapsed": true
   },
   "outputs": [],
   "source": [
    "lst=[x for x in range(0,26,4)]\n",
    "string = 'abcdefghijklmnopqrstuvwxyz'\n",
    "\n",
    "i=0\n",
    "while i<len(lst):\n",
    "    try:\n",
    "        print(string[lst[i]:lst[i+1]])\n",
    "        i+=1\n",
    "    except:\n",
    "        print(string[lst[-1]:])\n",
    "        i+=1\n"
   ]
  },
  {
   "cell_type": "code",
   "execution_count": 3,
   "metadata": {
    "collapsed": true
   },
   "outputs": [],
   "source": [
    "def wrap(string, max_width):\n",
    "    lst = [x for x in range(0,len(string),max_width)]\n",
    "    l2=[]\n",
    "    i=0\n",
    "    while i<len(lst):\n",
    "        try:\n",
    "            l2.append(string[lst[i]:lst[i+1]])\n",
    "            l2.append('\\n')\n",
    "            i+=1\n",
    "        except:\n",
    "            l2.append(string[lst[-1]:])\n",
    "            i+=1\n",
    "    return ''.join(l2)"
   ]
  },
  {
   "cell_type": "code",
   "execution_count": 4,
   "metadata": {},
   "outputs": [
    {
     "data": {
      "text/plain": [
       "'abcd\\nefgh\\nijkl\\nmnop\\nqrst\\nuvwx\\nyz'"
      ]
     },
     "execution_count": 4,
     "metadata": {},
     "output_type": "execute_result"
    }
   ],
   "source": [
    "string = 'abcdefghijklmnopqrstuvwxyz'\n",
    "wrap(string,4)"
   ]
  }
 ],
 "metadata": {
  "kernelspec": {
   "display_name": "Python 3",
   "language": "python",
   "name": "python3"
  },
  "language_info": {
   "codemirror_mode": {
    "name": "ipython",
    "version": 3
   },
   "file_extension": ".py",
   "mimetype": "text/x-python",
   "name": "python",
   "nbconvert_exporter": "python",
   "pygments_lexer": "ipython3",
   "version": "3.7.4"
  }
 },
 "nbformat": 4,
 "nbformat_minor": 2
}
