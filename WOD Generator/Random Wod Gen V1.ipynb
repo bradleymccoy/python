{
 "cells": [
  {
   "cell_type": "code",
   "execution_count": 1,
   "metadata": {
    "collapsed": true
   },
   "outputs": [],
   "source": [
    "import pandas as pd \n",
    "import numpy as np \n",
    "from pandas import Series,DataFrame \n",
    "from numpy import random\n",
    "from pandas import read_html\n",
    "from contextlib import closing\n",
    "from urllib2 import urlopen\n",
    "import html5lib\n"
   ]
  },
  {
   "cell_type": "code",
   "execution_count": 2,
   "metadata": {
    "collapsed": true
   },
   "outputs": [],
   "source": [
    "#import DF for the girls from xslx\n",
    "xlsfile=pd.ExcelFile('The Girls.xlsx')\n",
    "df = xlsfile.parse('Sheet1')\n",
    "df= xlsfile.parse('Sheet1',skiprows=1)\n",
    "df.rename(inplace=True, columns={0:'The Girls',\n",
    "                       1:'Movements',\n",
    "                       2:'Rep Scheme'})\n",
    "df.dropna(inplace= True)\n",
    "girls_box = np.array(df['The Girls'])"
   ]
  },
  {
   "cell_type": "code",
   "execution_count": 3,
   "metadata": {
    "collapsed": true
   },
   "outputs": [],
   "source": [
    "#import hero df from excel\n",
    "heroxl=pd.ExcelFile('Hero WOD.xlsx')\n",
    "hero_df = heroxl.parse('Sheet1')\n",
    "hero_df.rename(inplace=True, columns={0:\"The Hero's\",\n",
    "                                      1:\"The Movements\",\n",
    "                                      2:\"The Rep Scheme\"})\n",
    "hero_df.dropna(inplace=True)\n",
    "a= [x for x in hero_df.index]\n",
    "hero_df['Hero #']= a"
   ]
  },
  {
   "cell_type": "code",
   "execution_count": null,
   "metadata": {
    "collapsed": true
   },
   "outputs": [],
   "source": []
  },
  {
   "cell_type": "code",
   "execution_count": 4,
   "metadata": {
    "collapsed": true
   },
   "outputs": [],
   "source": [
    "rep_schemes = {1:[21,15,9],\n",
    "               2:[50,40,30,20,10],\n",
    "               3:[9,12,15],\n",
    "               4:[3,6,9],\n",
    "               5:[21,18,15,12,9,6,3],\n",
    "               6:[50,50,50],\n",
    "               7:[5,10,15],\n",
    "               8:[5,10,15,20],\n",
    "               9:[1,1,1,1,1,1,1],\n",
    "              10:[2,2,2,2,2,2,2],\n",
    "              11:[3,3,3,3,3,3,3]}"
   ]
  },
  {
   "cell_type": "code",
   "execution_count": 5,
   "metadata": {
    "collapsed": true
   },
   "outputs": [],
   "source": [
    "rounds_or_reps = ['AMRAP','For Time','For Reps','Chipper']\n",
    "rounds_list = [1,2,3,4,5,6,7,10]\n",
    "time_list = [\"10 Min\",\"12 Min\",\"15 Min\",\"20 Min\",\"25 Min\",\"30 Min\",\"40 Min\"]"
   ]
  },
  {
   "cell_type": "code",
   "execution_count": 6,
   "metadata": {
    "collapsed": true
   },
   "outputs": [],
   "source": [
    "movements = {1:'Pull-up',\n",
    "             2:'Push-up',\n",
    "             3:'HSPU',\n",
    "             4:'Power Cleans 40kg',\n",
    "             5:'Snatch 40',\n",
    "             6:'KBS',\n",
    "             7:'Squat Cleans',\n",
    "             8:'Squat Snatch',\n",
    "             9:'Power Snatch',\n",
    "             10:'Burpees',\n",
    "             11:'Squats',\n",
    "             12:'Clean & Jerk',\n",
    "             13:'200m Run',\n",
    "             14:'Sit-ups',\n",
    "             15:'Assalt Bike For Calories',\n",
    "             16:'Calorie Row',\n",
    "             17:'Ski-erg For Calories',\n",
    "             18:'Wall Balls',\n",
    "             19:'Med Ball Cleans',\n",
    "             20:'Kettle Bell Snatch',\n",
    "             21:'Muscle Ups',\n",
    "             22:'Ring Rows',\n",
    "             23:'Ring Push ups',\n",
    "             24:'Ring Dips',\n",
    "             25:'TTB',\n",
    "             26:'C2B',\n",
    "             27:'Thrusters 95 lbs',\n",
    "             28:'400m Run',\n",
    "             29:'600m Run',\n",
    "             30:'800m Run',\n",
    "             31:'1000m Run',\n",
    "             32:'1mi Run',\n",
    "             33:'Power Cleans 60kg',\n",
    "             34:'Power Cleans 80kg',\n",
    "             35:'Snatch 60kg',\n",
    "             36:'Snatch 70kg',\n",
    "             37:'DL 80kg',\n",
    "             38:'DL 100kg'\n",
    "             \n",
    "            }"
   ]
  },
  {
   "cell_type": "markdown",
   "metadata": {},
   "source": [
    "Need to write it to pull number of movements first then let that drive everything else so that you can fix the issues wit the 1 movements wods. And you can drive the rep schemes thru a scenario based on the number of movements. Or you can adjust for the num of movements someone wants to manually enter"
   ]
  },
  {
   "cell_type": "code",
   "execution_count": 11,
   "metadata": {
    "collapsed": true
   },
   "outputs": [],
   "source": [
    "def rep_sch():\n",
    "    rep_scheme_box = np.array(rep_schemes.keys())\n",
    "    rep_scheme_shaker = np.random.randint(0,len(rep_scheme_box),size=1)\n",
    "    hand_grab_rep_scheme=rep_scheme_box.take(rep_scheme_shaker)\n",
    "    rep_sch = rep_schemes[hand_grab_rep_scheme[0]]\n",
    "    return rep_sch[::]"
   ]
  },
  {
   "cell_type": "code",
   "execution_count": 22,
   "metadata": {
    "collapsed": false
   },
   "outputs": [
    {
     "data": {
      "text/plain": [
       "[2, 2, 2, 2, 2, 2, 2]"
      ]
     },
     "execution_count": 22,
     "metadata": {},
     "output_type": "execute_result"
    }
   ],
   "source": [
    "rep_sch()"
   ]
  },
  {
   "cell_type": "code",
   "execution_count": 22,
   "metadata": {
    "collapsed": false
   },
   "outputs": [],
   "source": [
    "def random_movements():\n",
    "    num_mov= np.array([1,2,3,4,5,6])\n",
    "    num_of_movements = np.random.randint(1,len(num_mov),size=1)\n",
    "    num_of_mov=num_mov.take(num_of_movements)\n",
    "    movements_box = np.array(movements.keys())\n",
    "    movements_shaker = np.random.randint(1,len(movements.keys()),size=num_of_mov)\n",
    "    movements_selected=movements_box.take(movements_shaker)\n",
    "    \n",
    "    num_of_moves=num_of_mov[::]\n",
    "    if num_of_moves== 1:\n",
    "        x = movements[movements_selected[0]]\n",
    "        rounds_or_reps = ['AMRAP','For Time','For Reps']\n",
    "        rounds_or_reps_box = np.array(rounds_or_reps)\n",
    "        rounds_or_reps_shaker = np.random.randint(0,len(rounds_or_reps),size=1)\n",
    "        rounds_reps = rounds_or_reps_box.take(rounds_or_reps_shaker)\n",
    "        \n",
    "        rnd_rep=rounds_reps\n",
    "        if rnd_rep== 'AMRAP':\n",
    "            time_box=np.array(time_list)\n",
    "            time_shaker=np.random.randint(0,len(time_list),size=1)\n",
    "            time=time_box.take(time_shaker)\n",
    "            print \"AMRAP: \",time[0]\n",
    "        elif rnd_rep=='For Time':\n",
    "            rounds_box=np.array(rounds_list)\n",
    "            rounds_shaker=np.random.randint(1,len(rounds_list),size=1)\n",
    "            rounds=rounds_box.take(rounds_shaker)\n",
    "            print rounds[0],\"RFT \"\n",
    "        elif rnd_rep=='For Reps':\n",
    "            time_box=np.array(time_list)\n",
    "            time_shaker=np.random.randint(0,len(time_list),size=1)\n",
    "            time=time_box.take(time_shaker)\n",
    "            print \"Complete as many reps as possible in: \",time[0]\n",
    "        elif rnd_rep=='Chipper':\n",
    "            print \"For this Chipper complete each movement before moving to the next movement\"\n",
    "        else:\n",
    "            print \"Please Draw Again\"\n",
    "        \n",
    "        for x in x:\n",
    "            print x\n",
    "    elif num_of_moves==2:\n",
    "        x=[movements[movements_selected[0]],movements[movements_selected[1]]]\n",
    "        rounds_or_reps = ['AMRAP','For Time','For Reps']\n",
    "        rounds_or_reps_box = np.array(rounds_or_reps)\n",
    "        rounds_or_reps_shaker = np.random.randint(0,len(rounds_or_reps),size=1)\n",
    "        rounds_reps = rounds_or_reps_box.take(rounds_or_reps_shaker)\n",
    "        \n",
    "        rnd_rep=rounds_reps\n",
    "        if rnd_rep== 'AMRAP':\n",
    "            time_box=np.array(time_list)\n",
    "            time_shaker=np.random.randint(0,len(time_list),size=1)\n",
    "            time=time_box.take(time_shaker)\n",
    "            print \"AMRAP: \",time[0]\n",
    "        elif rnd_rep=='For Time':\n",
    "            rounds_box=np.array(rounds_list)\n",
    "            rounds_shaker=np.random.randint(1,len(rounds_list),size=1)\n",
    "            rounds=rounds_box.take(rounds_shaker)\n",
    "            print rounds[0],\"RFT \"\n",
    "        elif rnd_rep=='For Reps':\n",
    "            time_box=np.array(time_list)\n",
    "            time_shaker=np.random.randint(0,len(time_list),size=1)\n",
    "            time=time_box.take(time_shaker)\n",
    "            print \"Complete as many reps as possible in: \",time[0]\n",
    "        elif rnd_rep=='Chipper':\n",
    "            print \"For this Chipper complete each movement before moving to the next movement\"\n",
    "        else:\n",
    "            print \"Please Draw Again\"\n",
    "        \n",
    "        \n",
    "        for x in x:\n",
    "            print x\n",
    "    elif num_of_moves==3:\n",
    "        x=[movements[movements_selected[0]],movements[movements_selected[1]],movements[movements_selected[2]]]\n",
    "        rounds_or_reps = ['AMRAP','For Time','For Reps']\n",
    "        rounds_or_reps_box = np.array(rounds_or_reps)\n",
    "        rounds_or_reps_shaker = np.random.randint(0,len(rounds_or_reps),size=1)\n",
    "        rounds_reps = rounds_or_reps_box.take(rounds_or_reps_shaker)\n",
    "        \n",
    "        rnd_rep=rounds_reps\n",
    "        if rnd_rep== 'AMRAP':\n",
    "            time_box=np.array(time_list)\n",
    "            time_shaker=np.random.randint(0,len(time_list),size=1)\n",
    "            time=time_box.take(time_shaker)\n",
    "            print \"AMRAP: \",time[0]\n",
    "        elif rnd_rep=='For Time':\n",
    "            rounds_box=np.array(rounds_list)\n",
    "            rounds_shaker=np.random.randint(1,len(rounds_list),size=1)\n",
    "            rounds=rounds_box.take(rounds_shaker)\n",
    "            print rounds[0],\"RFT \"\n",
    "        elif rnd_rep=='For Reps':\n",
    "            time_box=np.array(time_list)\n",
    "            time_shaker=np.random.randint(0,len(time_list),size=1)\n",
    "            time=time_box.take(time_shaker)\n",
    "            print \"Complete as many reps as possible in: \",time[0]\n",
    "        elif rnd_rep=='Chipper':\n",
    "            print \"For this Chipper complete each movement before moving to the next movement\"\n",
    "        else:\n",
    "            print \"Please Draw Again\"\n",
    "        \n",
    "        for x in x:\n",
    "            print x \n",
    "    elif num_of_moves==4:\n",
    "        x=[movements[movements_selected[0]],movements[movements_selected[1]],movements[movements_selected[2]],movements[movements_selected[3]]]\n",
    "        rounds_or_reps = ['AMRAP','For Time','For Reps']\n",
    "        rounds_or_reps_box = np.array(rounds_or_reps)\n",
    "        rounds_or_reps_shaker = np.random.randint(0,len(rounds_or_reps),size=1)\n",
    "        rounds_reps = rounds_or_reps_box.take(rounds_or_reps_shaker)\n",
    "        \n",
    "        rnd_rep=rounds_reps\n",
    "        if rnd_rep== 'AMRAP':\n",
    "            time_box=np.array(time_list)\n",
    "            time_shaker=np.random.randint(0,len(time_list),size=1)\n",
    "            time=time_box.take(time_shaker)\n",
    "            print \"AMRAP: \",time[0]\n",
    "        elif rnd_rep=='For Time':\n",
    "            rounds_box=np.array(rounds_list)\n",
    "            rounds_shaker=np.random.randint(1,len(rounds_list),size=1)\n",
    "            rounds=rounds_box.take(rounds_shaker)\n",
    "            print rounds[0],\"RFT \"\n",
    "        elif rnd_rep=='For Reps':\n",
    "            time_box=np.array(time_list)\n",
    "            time_shaker=np.random.randint(0,len(time_list),size=1)\n",
    "            time=time_box.take(time_shaker)\n",
    "            print \"Complete as many reps as possible in: \",time[0]\n",
    "        elif rnd_rep=='Chipper':\n",
    "            print \"For this Chipper complete each movement before moving to the next movement\"\n",
    "        else:\n",
    "            print \"Please Draw Again\"\n",
    "        \n",
    "        for x in x:\n",
    "            print x\n",
    "    elif num_of_moves==5:\n",
    "        x =[movements[movements_selected[0]],movements[movements_selected[1]],movements[movements_selected[2]],movements[movements_selected[3]],movements[movements_selected[4]]]\n",
    "        rounds_or_reps = ['AMRAP','For Time','Chipper']\n",
    "        rounds_or_reps_box = np.array(rounds_or_reps)\n",
    "        rounds_or_reps_shaker = np.random.randint(0,len(rounds_or_reps),size=1)\n",
    "        rounds_reps = rounds_or_reps_box.take(rounds_or_reps_shaker)\n",
    "        \n",
    "        rnd_rep=rounds_reps\n",
    "        if rnd_rep== 'AMRAP':\n",
    "            time_box=np.array(time_list)\n",
    "            time_shaker=np.random.randint(0,len(time_list),size=1)\n",
    "            time=time_box.take(time_shaker)\n",
    "            print \"AMRAP: \",time[0]\n",
    "        elif rnd_rep=='For Time':\n",
    "            rounds_box=np.array(rounds_list)\n",
    "            rounds_shaker=np.random.randint(1,len(rounds_list),size=1)\n",
    "            rounds=rounds_box.take(rounds_shaker)\n",
    "            print rounds[0],\"RFT \"\n",
    "        elif rnd_rep=='For Reps':\n",
    "            time_box=np.array(time_list)\n",
    "            time_shaker=np.random.randint(0,len(time_list),size=1)\n",
    "            time=time_box.take(time_shaker)\n",
    "            print \"Complete as many reps as possible in: \",time[0]\n",
    "        elif rnd_rep=='Chipper':\n",
    "            print \"For this Chipper complete each movement before moving to the next movement\"\n",
    "        else:\n",
    "            print \"Please Draw Again\"\n",
    "        \n",
    "        for x in x:\n",
    "            print x\n",
    "    elif num_of_moves==6:\n",
    "        x = [movements[movements_selected[0]],movements[movements_selected[1]],movements[movements_selected[2]],movements[movements_selected[3]],movements[movements_selected[4]],movements[movements_selected[5]]]\n",
    "        rounds_or_reps = ['AMRAP','For Time','Chipper']\n",
    "        rounds_or_reps_box = np.array(rounds_or_reps)\n",
    "        rounds_or_reps_shaker = np.random.randint(0,len(rounds_or_reps),size=1)\n",
    "        rounds_reps = rounds_or_reps_box.take(rounds_or_reps_shaker)\n",
    "        \n",
    "        rnd_rep=rounds_reps\n",
    "        if rnd_rep== 'AMRAP':\n",
    "            time_box=np.array(time_list)\n",
    "            time_shaker=np.random.randint(0,len(time_list),size=1)\n",
    "            time=time_box.take(time_shaker)\n",
    "            print \"AMRAP: \",time[0]\n",
    "        elif rnd_rep=='For Time':\n",
    "            rounds_box=np.array(rounds_list)\n",
    "            rounds_shaker=np.random.randint(1,len(rounds_list),size=1)\n",
    "            rounds=rounds_box.take(rounds_shaker)\n",
    "            print rounds[0],\"RFT \"\n",
    "        elif rnd_rep=='For Reps':\n",
    "            time_box=np.array(time_list)\n",
    "            time_shaker=np.random.randint(0,len(time_list),size=1)\n",
    "            time=time_box.take(time_shaker)\n",
    "            print \"Complete as many reps as possible in: \",time[0]\n",
    "        elif rnd_rep=='Chipper':\n",
    "            print \"For this Chipper complete each movement before moving to the next movement\"\n",
    "        else:\n",
    "            print \"Please Draw Again\"\n",
    "        \n",
    "        for x in x:\n",
    "            print x\n",
    "    else:\n",
    "        print \"Please try again\""
   ]
  },
  {
   "cell_type": "code",
   "execution_count": 23,
   "metadata": {
    "collapsed": false
   },
   "outputs": [
    {
     "name": "stdout",
     "output_type": "stream",
     "text": [
      "For this Chipper complete each movement before moving to the next movement\n",
      "400m Run\n",
      "1000m Run\n",
      "800m Run\n",
      "Ring Rows\n",
      "KBS\n",
      "Burpees\n"
     ]
    }
   ],
   "source": [
    "random_movements()\n"
   ]
  },
  {
   "cell_type": "code",
   "execution_count": 24,
   "metadata": {
    "collapsed": false
   },
   "outputs": [],
   "source": [
    "def wod_generator():\n",
    "    print rep_sch()\n",
    "    random_movements()\n",
    "    \n",
    "    \n",
    "    "
   ]
  },
  {
   "cell_type": "code",
   "execution_count": 77,
   "metadata": {
    "collapsed": false
   },
   "outputs": [
    {
     "name": "stdout",
     "output_type": "stream",
     "text": [
      "[5, 10, 15]\n",
      "6 RFT \n",
      "Power Cleans 40kg\n",
      "Calorie Row\n",
      "Med Ball Cleans\n",
      "Power Cleans 40kg\n",
      "Thrusters 95 lbs\n",
      "600m Run\n"
     ]
    }
   ],
   "source": [
    "wod_generator()\n"
   ]
  },
  {
   "cell_type": "code",
   "execution_count": null,
   "metadata": {
    "collapsed": true
   },
   "outputs": [],
   "source": []
  },
  {
   "cell_type": "code",
   "execution_count": null,
   "metadata": {
    "collapsed": true
   },
   "outputs": [],
   "source": []
  },
  {
   "cell_type": "code",
   "execution_count": null,
   "metadata": {
    "collapsed": true
   },
   "outputs": [],
   "source": []
  },
  {
   "cell_type": "code",
   "execution_count": null,
   "metadata": {
    "collapsed": true
   },
   "outputs": [],
   "source": []
  },
  {
   "cell_type": "code",
   "execution_count": null,
   "metadata": {
    "collapsed": true
   },
   "outputs": [],
   "source": []
  },
  {
   "cell_type": "code",
   "execution_count": null,
   "metadata": {
    "collapsed": true
   },
   "outputs": [],
   "source": []
  }
 ],
 "metadata": {
  "kernelspec": {
   "display_name": "Python 2",
   "language": "python",
   "name": "python2"
  },
  "language_info": {
   "codemirror_mode": {
    "name": "ipython",
    "version": 2
   },
   "file_extension": ".py",
   "mimetype": "text/x-python",
   "name": "python",
   "nbconvert_exporter": "python",
   "pygments_lexer": "ipython2",
   "version": "2.7.12"
  }
 },
 "nbformat": 4,
 "nbformat_minor": 0
}
