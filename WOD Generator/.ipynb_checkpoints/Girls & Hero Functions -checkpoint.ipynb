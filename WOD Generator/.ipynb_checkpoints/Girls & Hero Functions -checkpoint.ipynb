{
 "cells": [
  {
   "cell_type": "code",
   "execution_count": 1,
   "metadata": {
    "collapsed": true
   },
   "outputs": [],
   "source": [
    "import pandas as pd \n",
    "import numpy as np \n",
    "from pandas import Series,DataFrame \n",
    "from numpy import random\n",
    "from pandas import read_html\n",
    "from contextlib import closing\n",
    "from urllib2 import urlopen\n",
    "import html5lib\n"
   ]
  },
  {
   "cell_type": "code",
   "execution_count": 2,
   "metadata": {
    "collapsed": false
   },
   "outputs": [],
   "source": [
    "xlsfile=pd.ExcelFile('The Girls.xlsx')\n",
    "df = xlsfile.parse('Sheet1')\n",
    "df= xlsfile.parse('Sheet1',skiprows=1)\n",
    "df.rename(inplace=True, columns={0:'The Girls',\n",
    "                       1:'Movements',\n",
    "                       2:'Rep Scheme'})\n",
    "df.dropna(inplace= True)\n",
    "girls_box = np.array(df['The Girls'])"
   ]
  },
  {
   "cell_type": "code",
   "execution_count": 3,
   "metadata": {
    "collapsed": true
   },
   "outputs": [],
   "source": [
    "def random_girl():\n",
    "    girls_box = np.array(df['The Girls'])\n",
    "    girls_shaker = np.random.randint(0,len(girls_box),size=1)\n",
    "    random_girl = girls_box.take(girls_shaker)\n",
    "    random_g = random_girl[::]-1\n",
    "    return df.loc[random_g]"
   ]
  },
  {
   "cell_type": "code",
   "execution_count": 4,
   "metadata": {
    "collapsed": false
   },
   "outputs": [
    {
     "data": {
      "text/html": [
       "<div>\n",
       "<table border=\"1\" class=\"dataframe\">\n",
       "  <thead>\n",
       "    <tr style=\"text-align: right;\">\n",
       "      <th></th>\n",
       "      <th>The Girls</th>\n",
       "      <th>The Benchmark Girls</th>\n",
       "      <th>Movements</th>\n",
       "      <th>Scheme</th>\n",
       "    </tr>\n",
       "  </thead>\n",
       "  <tbody>\n",
       "    <tr>\n",
       "      <th>2</th>\n",
       "      <td>3</td>\n",
       "      <td>Chelsea</td>\n",
       "      <td>5 Pull-ups 10 Push-ups 15 Squats</td>\n",
       "      <td>Each min on the min for 30 min</td>\n",
       "    </tr>\n",
       "  </tbody>\n",
       "</table>\n",
       "</div>"
      ],
      "text/plain": [
       "   The Girls The Benchmark Girls                        Movements   \\\n",
       "2          3             Chelsea  5 Pull-ups 10 Push-ups 15 Squats   \n",
       "\n",
       "                           Scheme  \n",
       "2  Each min on the min for 30 min  "
      ]
     },
     "execution_count": 4,
     "metadata": {},
     "output_type": "execute_result"
    }
   ],
   "source": [
    "random_girl()"
   ]
  },
  {
   "cell_type": "code",
   "execution_count": 5,
   "metadata": {
    "collapsed": true
   },
   "outputs": [],
   "source": [
    "def two_girls():\n",
    "    two_girls_shaker = np.random.randint(0,len(girls_box),size=2)\n",
    "    two_random_girls= girls_box.take(two_girls_shaker)\n",
    "    rand_gx2=two_random_girls[::]-1\n",
    "    return df.loc[rand_gx2]"
   ]
  },
  {
   "cell_type": "code",
   "execution_count": 6,
   "metadata": {
    "collapsed": false
   },
   "outputs": [
    {
     "data": {
      "text/html": [
       "<div>\n",
       "<table border=\"1\" class=\"dataframe\">\n",
       "  <thead>\n",
       "    <tr style=\"text-align: right;\">\n",
       "      <th></th>\n",
       "      <th>The Girls</th>\n",
       "      <th>The Benchmark Girls</th>\n",
       "      <th>Movements</th>\n",
       "      <th>Scheme</th>\n",
       "    </tr>\n",
       "  </thead>\n",
       "  <tbody>\n",
       "    <tr>\n",
       "      <th>21</th>\n",
       "      <td>22</td>\n",
       "      <td>Amanda</td>\n",
       "      <td>9, 7 and 5 reps of: Muscle-ups Snatches (135/9...</td>\n",
       "      <td>For Time</td>\n",
       "    </tr>\n",
       "    <tr>\n",
       "      <th>4</th>\n",
       "      <td>5</td>\n",
       "      <td>Diane</td>\n",
       "      <td>Deadlift 225 lbs Handstand push-ups</td>\n",
       "      <td>21-15-9 reps, for time</td>\n",
       "    </tr>\n",
       "  </tbody>\n",
       "</table>\n",
       "</div>"
      ],
      "text/plain": [
       "    The Girls The Benchmark Girls  \\\n",
       "21         22              Amanda   \n",
       "4           5               Diane   \n",
       "\n",
       "                                           Movements                   Scheme  \n",
       "21  9, 7 and 5 reps of: Muscle-ups Snatches (135/9...                For Time  \n",
       "4                 Deadlift 225 lbs Handstand push-ups  21-15-9 reps, for time  "
      ]
     },
     "execution_count": 6,
     "metadata": {},
     "output_type": "execute_result"
    }
   ],
   "source": [
    "two_girls()"
   ]
  },
  {
   "cell_type": "code",
   "execution_count": 7,
   "metadata": {
    "collapsed": true
   },
   "outputs": [],
   "source": [
    "def dub_hvy():\n",
    "    dub_hvy_box =np.array(['Double','Heavy'])\n",
    "    dub_hvy_shaker= np.random.randint(0,len(dub_hvy_box),size=1)\n",
    "    dub_hvy = dub_hvy_box.take(dub_hvy_shaker)\n",
    "    return dub_hvy[0]\n"
   ]
  },
  {
   "cell_type": "code",
   "execution_count": 8,
   "metadata": {
    "collapsed": false
   },
   "outputs": [
    {
     "data": {
      "text/plain": [
       "'Double'"
      ]
     },
     "execution_count": 8,
     "metadata": {},
     "output_type": "execute_result"
    }
   ],
   "source": [
    "dub_hvy()"
   ]
  },
  {
   "cell_type": "code",
   "execution_count": 9,
   "metadata": {
    "collapsed": false
   },
   "outputs": [],
   "source": [
    "heroxl=pd.ExcelFile('Hero WOD.xlsx')\n",
    "hero_df = heroxl.parse('Sheet1')\n",
    "hero_df.rename(inplace=True, columns={0:\"The Hero's\",\n",
    "                                      1:\"The Movements\",\n",
    "                                      2:\"The Rep Scheme\"})\n",
    "hero_df.dropna(inplace=True)\n",
    "a= [x for x in hero_df.index]\n",
    "hero_df['Hero #']= a"
   ]
  },
  {
   "cell_type": "code",
   "execution_count": 10,
   "metadata": {
    "collapsed": true
   },
   "outputs": [],
   "source": [
    "def random_hero():\n",
    "    hero_box = np.array(hero_df[\"Hero #\"])\n",
    "    hero_shaker = np.random.randint(0,len(hero_df),size=1)\n",
    "    random_hero = hero_box.take(hero_shaker)\n",
    "    random_h = random_hero[::]\n",
    "    return hero_df.loc[random_h]"
   ]
  },
  {
   "cell_type": "code",
   "execution_count": 11,
   "metadata": {
    "collapsed": false
   },
   "outputs": [
    {
     "data": {
      "text/html": [
       "<div>\n",
       "<table border=\"1\" class=\"dataframe\">\n",
       "  <thead>\n",
       "    <tr style=\"text-align: right;\">\n",
       "      <th></th>\n",
       "      <th>The Hero's</th>\n",
       "      <th>The Movements</th>\n",
       "      <th>The Rep Scheme</th>\n",
       "      <th>Hero #</th>\n",
       "    </tr>\n",
       "  </thead>\n",
       "  <tbody>\n",
       "    <tr>\n",
       "      <th>89</th>\n",
       "      <td>ADRIAN  U.S. Army Sergeant First Class Adrian ...</td>\n",
       "      <td>Seven rounds of: 3 Forward rolls 5 Wall climbs...</td>\n",
       "      <td>For Time</td>\n",
       "      <td>89</td>\n",
       "    </tr>\n",
       "  </tbody>\n",
       "</table>\n",
       "</div>"
      ],
      "text/plain": [
       "                                           The Hero's  \\\n",
       "89  ADRIAN  U.S. Army Sergeant First Class Adrian ...   \n",
       "\n",
       "                                        The Movements The Rep Scheme  Hero #  \n",
       "89  Seven rounds of: 3 Forward rolls 5 Wall climbs...       For Time      89  "
      ]
     },
     "execution_count": 11,
     "metadata": {},
     "output_type": "execute_result"
    }
   ],
   "source": [
    "random_hero()"
   ]
  },
  {
   "cell_type": "code",
   "execution_count": 12,
   "metadata": {
    "collapsed": false
   },
   "outputs": [],
   "source": [
    "def dub_or_hvy_girl():\n",
    "    a= random_girl()\n",
    "    b= dub_hvy()\n",
    "    return a,b"
   ]
  },
  {
   "cell_type": "code",
   "execution_count": 25,
   "metadata": {
    "collapsed": false
   },
   "outputs": [
    {
     "data": {
      "text/plain": [
       "(   The Girls The Benchmark Girls                        Movements   \\\n",
       " 2          3             Chelsea  5 Pull-ups 10 Push-ups 15 Squats   \n",
       " \n",
       "                            Scheme  \n",
       " 2  Each min on the min for 30 min  , 'Heavy')"
      ]
     },
     "execution_count": 25,
     "metadata": {},
     "output_type": "execute_result"
    }
   ],
   "source": [
    "dub_or_hvy_girl()\n",
    "#this still needs some work to get it printing correctly"
   ]
  },
  {
   "cell_type": "code",
   "execution_count": 34,
   "metadata": {
    "collapsed": true
   },
   "outputs": [],
   "source": [
    "rounds_or_reps = ['AMRAP','For Time','For Reps','Chipper']\n",
    "rounds_list = [1,2,3,4,5,6,7,10]\n",
    "time_list = [\"10 Min\",\"12 Min\",\"15 Min\",\"20 Min\",\"25 Min\",\"30 Min\",\"40 Min\"]\n",
    "rep_schemes = {1:[21,15,9],\n",
    "               2:[50,40,30,20,10],\n",
    "               3:[9,12,15],\n",
    "               4:[3,6,9],\n",
    "               5:[21,18,15,12,9,6,3],\n",
    "               6:[50,50,50],\n",
    "               7:[5,10,15],\n",
    "               8:[5,10,15,20],\n",
    "               9:[1,1,1,1,1,1,1],\n",
    "              10:[2,2,2,2,2,2,2],\n",
    "              11:[3,3,3,3,3,3,3]}\n",
    "\n",
    "movements = {1:'Pull-up',\n",
    "             2:'Push-up',\n",
    "             3:'HSPU',\n",
    "             4:'Power Cleans 40kg',\n",
    "             5:'Snatch 40',\n",
    "             6:'KBS',\n",
    "             7:'Squat Cleans',\n",
    "             8:'Squat Snatch',\n",
    "             9:'Power Snatch',\n",
    "             10:'Burpees',\n",
    "             11:'Squats',\n",
    "             12:'Clean & Jerk',\n",
    "             13:'200m Run',\n",
    "             14:'Sit-ups',\n",
    "             15:'Assalt Bike For Calories',\n",
    "             16:'Calorie Row',\n",
    "             17:'Ski-erg For Calories',\n",
    "             18:'Wall Balls',\n",
    "             19:'Med Ball Cleans',\n",
    "             20:'Kettle Bell Snatch',\n",
    "             21:'Muscle Ups',\n",
    "             22:'Ring Rows',\n",
    "             23:'Ring Push ups',\n",
    "             24:'Ring Dips',\n",
    "             25:'TTB',\n",
    "             26:'C2B',\n",
    "             27:'Thrusters 95 lbs',\n",
    "             28:'400m Run',\n",
    "             29:'600m Run',\n",
    "             30:'800m Run',\n",
    "             31:'1000m Run',\n",
    "             32:'1mi Run',\n",
    "             33:'Power Cleans 60kg',\n",
    "             34:'Power Cleans 80kg',\n",
    "             35:'Snatch 60kg',\n",
    "             36:'Snatch 70kg',\n",
    "             37:'DL 80kg',\n",
    "             38:'DL 100kg'\n",
    "             \n",
    "            }"
   ]
  },
  {
   "cell_type": "code",
   "execution_count": 31,
   "metadata": {
    "collapsed": true
   },
   "outputs": [],
   "source": [
    "def rounds_or_reps():\n",
    "    rounds_or_reps = ['AMRAP','For Time','For Reps','Chipper']\n",
    "    rounds_or_reps_box = np.array(rounds_or_reps)\n",
    "    rounds_or_reps_shaker = np.random.randint(1,len(rounds_or_reps),size=1)\n",
    "    rounds_reps = rounds_or_reps_box.take(rounds_or_reps_shaker)\n",
    "    return rounds_reps[0]"
   ]
  },
  {
   "cell_type": "code",
   "execution_count": 32,
   "metadata": {
    "collapsed": false
   },
   "outputs": [
    {
     "data": {
      "text/plain": [
       "'Chipper'"
      ]
     },
     "execution_count": 32,
     "metadata": {},
     "output_type": "execute_result"
    }
   ],
   "source": [
    "rounds_or_reps()"
   ]
  },
  {
   "cell_type": "code",
   "execution_count": 38,
   "metadata": {
    "collapsed": true
   },
   "outputs": [],
   "source": [
    "def rep_sch():\n",
    "    rep_scheme_box = np.array(rep_schemes.keys())\n",
    "    rep_scheme_shaker = np.random.randint(0,len(rep_scheme_box),size=1)\n",
    "    hand_grab_rep_scheme=rep_scheme_box.take(rep_scheme_shaker)\n",
    "    rep_sch = rep_schemes[hand_grab_rep_scheme[0]]\n",
    "    return rep_sch[::]"
   ]
  },
  {
   "cell_type": "code",
   "execution_count": 39,
   "metadata": {
    "collapsed": true
   },
   "outputs": [],
   "source": [
    "def random_movements():\n",
    "    num_mov= np.array([1,2,3,4,5,6])\n",
    "    num_of_movements = np.random.randint(1,len(num_mov),size=1)\n",
    "    num_of_mov=num_mov.take(num_of_movements)\n",
    "    movements_box = np.array(movements.keys())\n",
    "    movements_shaker = np.random.randint(1,len(movements.keys()),size=num_of_mov)\n",
    "    movements_selected=movements_box.take(movements_shaker)\n",
    "    \n",
    "    num_of_moves=num_of_mov[::]\n",
    "    if num_of_moves== 1:\n",
    "        x = movements[movements_selected[0]]\n",
    "        rounds_or_reps = ['AMRAP','For Time','For Reps']\n",
    "        rounds_or_reps_box = np.array(rounds_or_reps)\n",
    "        rounds_or_reps_shaker = np.random.randint(0,len(rounds_or_reps),size=1)\n",
    "        rounds_reps = rounds_or_reps_box.take(rounds_or_reps_shaker)\n",
    "        \n",
    "        rnd_rep=rounds_reps\n",
    "        if rnd_rep== 'AMRAP':\n",
    "            time_box=np.array(time_list)\n",
    "            time_shaker=np.random.randint(0,len(time_list),size=1)\n",
    "            time=time_box.take(time_shaker)\n",
    "            print \"AMRAP: \",time[0]\n",
    "        elif rnd_rep=='For Time':\n",
    "            rounds_box=np.array(rounds_list)\n",
    "            rounds_shaker=np.random.randint(1,len(rounds_list),size=1)\n",
    "            rounds=rounds_box.take(rounds_shaker)\n",
    "            print rounds[0],\"RFT \"\n",
    "        elif rnd_rep=='For Reps':\n",
    "            time_box=np.array(time_list)\n",
    "            time_shaker=np.random.randint(0,len(time_list),size=1)\n",
    "            time=time_box.take(time_shaker)\n",
    "            print \"Complete as many reps as possible in: \",time[0]\n",
    "        elif rnd_rep=='Chipper':\n",
    "            print \"For this Chipper complete each movement before moving to the next movement\"\n",
    "        else:\n",
    "            print \"Please Draw Again\"\n",
    "        \n",
    "        for x in x:\n",
    "            print x\n",
    "    elif num_of_moves==2:\n",
    "        x=[movements[movements_selected[0]],movements[movements_selected[1]]]\n",
    "        rounds_or_reps = ['AMRAP','For Time','For Reps']\n",
    "        rounds_or_reps_box = np.array(rounds_or_reps)\n",
    "        rounds_or_reps_shaker = np.random.randint(0,len(rounds_or_reps),size=1)\n",
    "        rounds_reps = rounds_or_reps_box.take(rounds_or_reps_shaker)\n",
    "        \n",
    "        rnd_rep=rounds_reps\n",
    "        if rnd_rep== 'AMRAP':\n",
    "            time_box=np.array(time_list)\n",
    "            time_shaker=np.random.randint(0,len(time_list),size=1)\n",
    "            time=time_box.take(time_shaker)\n",
    "            print \"AMRAP: \",time[0]\n",
    "        elif rnd_rep=='For Time':\n",
    "            rounds_box=np.array(rounds_list)\n",
    "            rounds_shaker=np.random.randint(1,len(rounds_list),size=1)\n",
    "            rounds=rounds_box.take(rounds_shaker)\n",
    "            print rounds[0],\"RFT \"\n",
    "        elif rnd_rep=='For Reps':\n",
    "            time_box=np.array(time_list)\n",
    "            time_shaker=np.random.randint(0,len(time_list),size=1)\n",
    "            time=time_box.take(time_shaker)\n",
    "            print \"Complete as many reps as possible in: \",time[0]\n",
    "        elif rnd_rep=='Chipper':\n",
    "            print \"For this Chipper complete each movement before moving to the next movement\"\n",
    "        else:\n",
    "            print \"Please Draw Again\"\n",
    "        \n",
    "        \n",
    "        for x in x:\n",
    "            print x\n",
    "    elif num_of_moves==3:\n",
    "        x=[movements[movements_selected[0]],movements[movements_selected[1]],movements[movements_selected[2]]]\n",
    "        rounds_or_reps = ['AMRAP','For Time','For Reps']\n",
    "        rounds_or_reps_box = np.array(rounds_or_reps)\n",
    "        rounds_or_reps_shaker = np.random.randint(0,len(rounds_or_reps),size=1)\n",
    "        rounds_reps = rounds_or_reps_box.take(rounds_or_reps_shaker)\n",
    "        \n",
    "        rnd_rep=rounds_reps\n",
    "        if rnd_rep== 'AMRAP':\n",
    "            time_box=np.array(time_list)\n",
    "            time_shaker=np.random.randint(0,len(time_list),size=1)\n",
    "            time=time_box.take(time_shaker)\n",
    "            print \"AMRAP: \",time[0]\n",
    "        elif rnd_rep=='For Time':\n",
    "            rounds_box=np.array(rounds_list)\n",
    "            rounds_shaker=np.random.randint(1,len(rounds_list),size=1)\n",
    "            rounds=rounds_box.take(rounds_shaker)\n",
    "            print rounds[0],\"RFT \"\n",
    "        elif rnd_rep=='For Reps':\n",
    "            time_box=np.array(time_list)\n",
    "            time_shaker=np.random.randint(0,len(time_list),size=1)\n",
    "            time=time_box.take(time_shaker)\n",
    "            print \"Complete as many reps as possible in: \",time[0]\n",
    "        elif rnd_rep=='Chipper':\n",
    "            print \"For this Chipper complete each movement before moving to the next movement\"\n",
    "        else:\n",
    "            print \"Please Draw Again\"\n",
    "        \n",
    "        for x in x:\n",
    "            print x \n",
    "    elif num_of_moves==4:\n",
    "        x=[movements[movements_selected[0]],movements[movements_selected[1]],movements[movements_selected[2]],movements[movements_selected[3]]]\n",
    "        rounds_or_reps = ['AMRAP','For Time','For Reps']\n",
    "        rounds_or_reps_box = np.array(rounds_or_reps)\n",
    "        rounds_or_reps_shaker = np.random.randint(0,len(rounds_or_reps),size=1)\n",
    "        rounds_reps = rounds_or_reps_box.take(rounds_or_reps_shaker)\n",
    "        \n",
    "        rnd_rep=rounds_reps\n",
    "        if rnd_rep== 'AMRAP':\n",
    "            time_box=np.array(time_list)\n",
    "            time_shaker=np.random.randint(0,len(time_list),size=1)\n",
    "            time=time_box.take(time_shaker)\n",
    "            print \"AMRAP: \",time[0]\n",
    "        elif rnd_rep=='For Time':\n",
    "            rounds_box=np.array(rounds_list)\n",
    "            rounds_shaker=np.random.randint(1,len(rounds_list),size=1)\n",
    "            rounds=rounds_box.take(rounds_shaker)\n",
    "            print rounds[0],\"RFT \"\n",
    "        elif rnd_rep=='For Reps':\n",
    "            time_box=np.array(time_list)\n",
    "            time_shaker=np.random.randint(0,len(time_list),size=1)\n",
    "            time=time_box.take(time_shaker)\n",
    "            print \"Complete as many reps as possible in: \",time[0]\n",
    "        elif rnd_rep=='Chipper':\n",
    "            print \"For this Chipper complete each movement before moving to the next movement\"\n",
    "        else:\n",
    "            print \"Please Draw Again\"\n",
    "        \n",
    "        for x in x:\n",
    "            print x\n",
    "    elif num_of_moves==5:\n",
    "        x =[movements[movements_selected[0]],movements[movements_selected[1]],movements[movements_selected[2]],movements[movements_selected[3]],movements[movements_selected[4]]]\n",
    "        rounds_or_reps = ['AMRAP','For Time','Chipper']\n",
    "        rounds_or_reps_box = np.array(rounds_or_reps)\n",
    "        rounds_or_reps_shaker = np.random.randint(0,len(rounds_or_reps),size=1)\n",
    "        rounds_reps = rounds_or_reps_box.take(rounds_or_reps_shaker)\n",
    "        \n",
    "        rnd_rep=rounds_reps\n",
    "        if rnd_rep== 'AMRAP':\n",
    "            time_box=np.array(time_list)\n",
    "            time_shaker=np.random.randint(0,len(time_list),size=1)\n",
    "            time=time_box.take(time_shaker)\n",
    "            print \"AMRAP: \",time[0]\n",
    "        elif rnd_rep=='For Time':\n",
    "            rounds_box=np.array(rounds_list)\n",
    "            rounds_shaker=np.random.randint(1,len(rounds_list),size=1)\n",
    "            rounds=rounds_box.take(rounds_shaker)\n",
    "            print rounds[0],\"RFT \"\n",
    "        elif rnd_rep=='For Reps':\n",
    "            time_box=np.array(time_list)\n",
    "            time_shaker=np.random.randint(0,len(time_list),size=1)\n",
    "            time=time_box.take(time_shaker)\n",
    "            print \"Complete as many reps as possible in: \",time[0]\n",
    "        elif rnd_rep=='Chipper':\n",
    "            print \"For this Chipper complete each movement before moving to the next movement\"\n",
    "        else:\n",
    "            print \"Please Draw Again\"\n",
    "        \n",
    "        for x in x:\n",
    "            print x\n",
    "    elif num_of_moves==6:\n",
    "        x = [movements[movements_selected[0]],movements[movements_selected[1]],movements[movements_selected[2]],movements[movements_selected[3]],movements[movements_selected[4]],movements[movements_selected[5]]]\n",
    "        rounds_or_reps = ['AMRAP','For Time','Chipper']\n",
    "        rounds_or_reps_box = np.array(rounds_or_reps)\n",
    "        rounds_or_reps_shaker = np.random.randint(0,len(rounds_or_reps),size=1)\n",
    "        rounds_reps = rounds_or_reps_box.take(rounds_or_reps_shaker)\n",
    "        \n",
    "        rnd_rep=rounds_reps\n",
    "        if rnd_rep== 'AMRAP':\n",
    "            time_box=np.array(time_list)\n",
    "            time_shaker=np.random.randint(0,len(time_list),size=1)\n",
    "            time=time_box.take(time_shaker)\n",
    "            print \"AMRAP: \",time[0]\n",
    "        elif rnd_rep=='For Time':\n",
    "            rounds_box=np.array(rounds_list)\n",
    "            rounds_shaker=np.random.randint(1,len(rounds_list),size=1)\n",
    "            rounds=rounds_box.take(rounds_shaker)\n",
    "            print rounds[0],\"RFT \"\n",
    "        elif rnd_rep=='For Reps':\n",
    "            time_box=np.array(time_list)\n",
    "            time_shaker=np.random.randint(0,len(time_list),size=1)\n",
    "            time=time_box.take(time_shaker)\n",
    "            print \"Complete as many reps as possible in: \",time[0]\n",
    "        elif rnd_rep=='Chipper':\n",
    "            print \"For this Chipper complete each movement before moving to the next movement\"\n",
    "        else:\n",
    "            print \"Please Draw Again\"\n",
    "        \n",
    "        for x in x:\n",
    "            print x\n",
    "    else:\n",
    "        print \"Please try again\""
   ]
  },
  {
   "cell_type": "code",
   "execution_count": 40,
   "metadata": {
    "collapsed": true
   },
   "outputs": [],
   "source": [
    "def wod_generator():\n",
    "    print rep_sch()\n",
    "    random_movements()\n",
    "    "
   ]
  },
  {
   "cell_type": "code",
   "execution_count": 48,
   "metadata": {
    "collapsed": false
   },
   "outputs": [
    {
     "name": "stdout",
     "output_type": "stream",
     "text": [
      "[50, 40, 30, 20, 10]\n",
      "AMRAP:  40 Min\n",
      "Wall Balls\n",
      "Kettle Bell Snatch\n",
      "Squat Snatch\n"
     ]
    }
   ],
   "source": [
    "wod_generator()"
   ]
  },
  {
   "cell_type": "code",
   "execution_count": null,
   "metadata": {
    "collapsed": true
   },
   "outputs": [],
   "source": []
  },
  {
   "cell_type": "code",
   "execution_count": null,
   "metadata": {
    "collapsed": true
   },
   "outputs": [],
   "source": []
  }
 ],
 "metadata": {
  "kernelspec": {
   "display_name": "Python 2",
   "language": "python",
   "name": "python2"
  },
  "language_info": {
   "codemirror_mode": {
    "name": "ipython",
    "version": 2
   },
   "file_extension": ".py",
   "mimetype": "text/x-python",
   "name": "python",
   "nbconvert_exporter": "python",
   "pygments_lexer": "ipython2",
   "version": "2.7.12"
  }
 },
 "nbformat": 4,
 "nbformat_minor": 0
}
