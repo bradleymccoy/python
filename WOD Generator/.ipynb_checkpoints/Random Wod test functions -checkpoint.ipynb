{
 "cells": [
  {
   "cell_type": "code",
   "execution_count": null,
   "metadata": {
    "collapsed": true
   },
   "outputs": [],
   "source": [
    "#info for ref is in permutations lesson "
   ]
  },
  {
   "cell_type": "code",
   "execution_count": 1,
   "metadata": {
    "collapsed": false
   },
   "outputs": [],
   "source": [
    "import pandas as pd \n",
    "import numpy as np \n",
    "from pandas import Series,DataFrame \n",
    "from numpy import random"
   ]
  },
  {
   "cell_type": "code",
   "execution_count": 2,
   "metadata": {
    "collapsed": true
   },
   "outputs": [],
   "source": [
    "from pandas import read_html\n",
    "from contextlib import closing\n",
    "from urllib2 import urlopen\n",
    "import html5lib\n"
   ]
  },
  {
   "cell_type": "raw",
   "metadata": {},
   "source": [
    "# to pull from an xlsx file use this \n",
    "xlsfile= pd.ExcelFile('file name.xlsx')\n",
    "#to save to xlsx file use this \n",
    "dframe.to_ExcelFile('file name.xlsx')\n",
    "#if you want to skip rows \n",
    "dframe = xlsfile.parse('file name',skiprows=1)"
   ]
  },
  {
   "cell_type": "code",
   "execution_count": 3,
   "metadata": {
    "collapsed": false,
    "scrolled": true
   },
   "outputs": [
    {
     "data": {
      "text/html": [
       "<div>\n",
       "<table border=\"1\" class=\"dataframe\">\n",
       "  <thead>\n",
       "    <tr style=\"text-align: right;\">\n",
       "      <th></th>\n",
       "      <th>The Girls</th>\n",
       "      <th>The Benchmark Girls</th>\n",
       "      <th>Movements</th>\n",
       "      <th>Scheme</th>\n",
       "    </tr>\n",
       "  </thead>\n",
       "  <tbody>\n",
       "    <tr>\n",
       "      <th>0</th>\n",
       "      <td>1</td>\n",
       "      <td>Angie</td>\n",
       "      <td>100 Pull-ups 100 Push-ups 100 Sit-ups 100 Squats</td>\n",
       "      <td>For Time Complete all reps of each exercise b...</td>\n",
       "    </tr>\n",
       "    <tr>\n",
       "      <th>1</th>\n",
       "      <td>2</td>\n",
       "      <td>Barbara</td>\n",
       "      <td>20 Pull-ups 30 Push-ups 40 Sit-ups 50 Squats R...</td>\n",
       "      <td>5 rounds, time each round</td>\n",
       "    </tr>\n",
       "    <tr>\n",
       "      <th>2</th>\n",
       "      <td>3</td>\n",
       "      <td>Chelsea</td>\n",
       "      <td>5 Pull-ups 10 Push-ups 15 Squats</td>\n",
       "      <td>Each min on the min for 30 min</td>\n",
       "    </tr>\n",
       "    <tr>\n",
       "      <th>3</th>\n",
       "      <td>4</td>\n",
       "      <td>Cindy</td>\n",
       "      <td>5 Pull-ups 10 Push-ups 15 Squats</td>\n",
       "      <td>As many rounds as possible in 20 min</td>\n",
       "    </tr>\n",
       "    <tr>\n",
       "      <th>4</th>\n",
       "      <td>5</td>\n",
       "      <td>Diane</td>\n",
       "      <td>Deadlift 225 lbs Handstand push-ups</td>\n",
       "      <td>21-15-9 reps, for time</td>\n",
       "    </tr>\n",
       "    <tr>\n",
       "      <th>5</th>\n",
       "      <td>6</td>\n",
       "      <td>Elizabeth</td>\n",
       "      <td>Clean 135 lbs Ring Dips</td>\n",
       "      <td>21-15-9 reps, for time</td>\n",
       "    </tr>\n",
       "    <tr>\n",
       "      <th>6</th>\n",
       "      <td>7</td>\n",
       "      <td>Fran</td>\n",
       "      <td>Thruster 95 lbs Pull-ups</td>\n",
       "      <td>21-15-9 reps, for time</td>\n",
       "    </tr>\n",
       "    <tr>\n",
       "      <th>7</th>\n",
       "      <td>8</td>\n",
       "      <td>Grace</td>\n",
       "      <td>Clean and Jerk 135 lbs</td>\n",
       "      <td>30 reps for time</td>\n",
       "    </tr>\n",
       "    <tr>\n",
       "      <th>8</th>\n",
       "      <td>9</td>\n",
       "      <td>Helen</td>\n",
       "      <td>400 meter run 1.5 pood Kettlebell swing x 21 P...</td>\n",
       "      <td>3 rounds for time</td>\n",
       "    </tr>\n",
       "    <tr>\n",
       "      <th>9</th>\n",
       "      <td>10</td>\n",
       "      <td>Isabel</td>\n",
       "      <td>Snatch 135 pounds</td>\n",
       "      <td>30 reps for time</td>\n",
       "    </tr>\n",
       "    <tr>\n",
       "      <th>10</th>\n",
       "      <td>11</td>\n",
       "      <td>Jackie</td>\n",
       "      <td>1000 meter row Thruster 45 lbs (50 reps) Pull-...</td>\n",
       "      <td>For time</td>\n",
       "    </tr>\n",
       "    <tr>\n",
       "      <th>11</th>\n",
       "      <td>12</td>\n",
       "      <td>Karen</td>\n",
       "      <td>Wall-ball 150 shots</td>\n",
       "      <td>For time</td>\n",
       "    </tr>\n",
       "    <tr>\n",
       "      <th>12</th>\n",
       "      <td>13</td>\n",
       "      <td>Linda (aka “3 bars of death”)</td>\n",
       "      <td>Deadlift 1 1/2 BW Bench BW Clean 3/4 BW</td>\n",
       "      <td>10/9/8/7/6/5/4/3/2/1 rep rounds for time</td>\n",
       "    </tr>\n",
       "    <tr>\n",
       "      <th>13</th>\n",
       "      <td>14</td>\n",
       "      <td>Mary</td>\n",
       "      <td>5 Handstand push-ups 10 1-legged squats 15 Pul...</td>\n",
       "      <td>As many rounds as possible in 20 min</td>\n",
       "    </tr>\n",
       "    <tr>\n",
       "      <th>14</th>\n",
       "      <td>15</td>\n",
       "      <td>Nancy</td>\n",
       "      <td>400 meter run Overhead squat 95 lbs x 15</td>\n",
       "      <td>5 rounds for time</td>\n",
       "    </tr>\n",
       "    <tr>\n",
       "      <th>16</th>\n",
       "      <td>17</td>\n",
       "      <td>Annie</td>\n",
       "      <td>Double-unders Sit-ups</td>\n",
       "      <td>50-40-30-20 and 10 rep rounds; for time</td>\n",
       "    </tr>\n",
       "    <tr>\n",
       "      <th>17</th>\n",
       "      <td>18</td>\n",
       "      <td>Eva</td>\n",
       "      <td>Run 800 meters 2 pood KB swing, 30 reps 30 pul...</td>\n",
       "      <td>5 rounds for time.</td>\n",
       "    </tr>\n",
       "    <tr>\n",
       "      <th>18</th>\n",
       "      <td>19</td>\n",
       "      <td>Kelly</td>\n",
       "      <td>Run 400 meters 30 box jump, 24 inch box 30 Wal...</td>\n",
       "      <td>Five rounds for time</td>\n",
       "    </tr>\n",
       "    <tr>\n",
       "      <th>19</th>\n",
       "      <td>20</td>\n",
       "      <td>Lynne</td>\n",
       "      <td>Bodyweight bench press (e.g., same amount on b...</td>\n",
       "      <td>5 rounds for max reps. There is NOtime compone...</td>\n",
       "    </tr>\n",
       "    <tr>\n",
       "      <th>20</th>\n",
       "      <td>21</td>\n",
       "      <td>Nicole</td>\n",
       "      <td>Run 400 meters Max rep Pull-ups</td>\n",
       "      <td>As many rounds as possible in 20 minutes. Not...</td>\n",
       "    </tr>\n",
       "    <tr>\n",
       "      <th>21</th>\n",
       "      <td>22</td>\n",
       "      <td>Amanda</td>\n",
       "      <td>9, 7 and 5 reps of: Muscle-ups Snatches (135/9...</td>\n",
       "      <td>For Time</td>\n",
       "    </tr>\n",
       "  </tbody>\n",
       "</table>\n",
       "</div>"
      ],
      "text/plain": [
       "    The Girls            The Benchmark Girls  \\\n",
       "0           1                          Angie   \n",
       "1           2                        Barbara   \n",
       "2           3                        Chelsea   \n",
       "3           4                          Cindy   \n",
       "4           5                          Diane   \n",
       "5           6                      Elizabeth   \n",
       "6           7                           Fran   \n",
       "7           8                          Grace   \n",
       "8           9                          Helen   \n",
       "9          10                         Isabel   \n",
       "10         11                         Jackie   \n",
       "11         12                          Karen   \n",
       "12         13  Linda (aka “3 bars of death”)   \n",
       "13         14                           Mary   \n",
       "14         15                          Nancy   \n",
       "16         17                          Annie   \n",
       "17         18                            Eva   \n",
       "18         19                          Kelly   \n",
       "19         20                          Lynne   \n",
       "20         21                         Nicole   \n",
       "21         22                         Amanda   \n",
       "\n",
       "                                           Movements   \\\n",
       "0    100 Pull-ups 100 Push-ups 100 Sit-ups 100 Squats   \n",
       "1   20 Pull-ups 30 Push-ups 40 Sit-ups 50 Squats R...   \n",
       "2                    5 Pull-ups 10 Push-ups 15 Squats   \n",
       "3                    5 Pull-ups 10 Push-ups 15 Squats   \n",
       "4                 Deadlift 225 lbs Handstand push-ups   \n",
       "5                             Clean 135 lbs Ring Dips   \n",
       "6                            Thruster 95 lbs Pull-ups   \n",
       "7                              Clean and Jerk 135 lbs   \n",
       "8   400 meter run 1.5 pood Kettlebell swing x 21 P...   \n",
       "9                                   Snatch 135 pounds   \n",
       "10  1000 meter row Thruster 45 lbs (50 reps) Pull-...   \n",
       "11                                Wall-ball 150 shots   \n",
       "12            Deadlift 1 1/2 BW Bench BW Clean 3/4 BW   \n",
       "13  5 Handstand push-ups 10 1-legged squats 15 Pul...   \n",
       "14           400 meter run Overhead squat 95 lbs x 15   \n",
       "16                              Double-unders Sit-ups   \n",
       "17  Run 800 meters 2 pood KB swing, 30 reps 30 pul...   \n",
       "18  Run 400 meters 30 box jump, 24 inch box 30 Wal...   \n",
       "19  Bodyweight bench press (e.g., same amount on b...   \n",
       "20                    Run 400 meters Max rep Pull-ups   \n",
       "21  9, 7 and 5 reps of: Muscle-ups Snatches (135/9...   \n",
       "\n",
       "                                               Scheme  \n",
       "0    For Time Complete all reps of each exercise b...  \n",
       "1                           5 rounds, time each round  \n",
       "2                      Each min on the min for 30 min  \n",
       "3                As many rounds as possible in 20 min  \n",
       "4                              21-15-9 reps, for time  \n",
       "5                              21-15-9 reps, for time  \n",
       "6                              21-15-9 reps, for time  \n",
       "7                                    30 reps for time  \n",
       "8                                   3 rounds for time  \n",
       "9                                    30 reps for time  \n",
       "10                                           For time  \n",
       "11                                           For time  \n",
       "12           10/9/8/7/6/5/4/3/2/1 rep rounds for time  \n",
       "13               As many rounds as possible in 20 min  \n",
       "14                                  5 rounds for time  \n",
       "16            50-40-30-20 and 10 rep rounds; for time  \n",
       "17                                 5 rounds for time.  \n",
       "18                               Five rounds for time  \n",
       "19  5 rounds for max reps. There is NOtime compone...  \n",
       "20   As many rounds as possible in 20 minutes. Not...  \n",
       "21                                           For Time  "
      ]
     },
     "execution_count": 3,
     "metadata": {},
     "output_type": "execute_result"
    }
   ],
   "source": [
    "xlsfile=pd.ExcelFile('The Girls.xlsx')\n",
    "df = xlsfile.parse('Sheet1')\n",
    "df= xlsfile.parse('Sheet1',skiprows=1)\n",
    "df.rename(inplace=True, columns={0:'The Girls',\n",
    "                       1:'Movements',\n",
    "                       2:'Rep Scheme'})\n",
    "df.dropna(inplace= True)\n",
    "df"
   ]
  },
  {
   "cell_type": "code",
   "execution_count": null,
   "metadata": {
    "collapsed": false
   },
   "outputs": [],
   "source": []
  },
  {
   "cell_type": "code",
   "execution_count": 8,
   "metadata": {
    "collapsed": false
   },
   "outputs": [],
   "source": [
    "#df.to_excel('The Girls Dframe.xlsx')"
   ]
  },
  {
   "cell_type": "code",
   "execution_count": 4,
   "metadata": {
    "collapsed": false
   },
   "outputs": [
    {
     "data": {
      "text/html": [
       "<div>\n",
       "<table border=\"1\" class=\"dataframe\">\n",
       "  <thead>\n",
       "    <tr style=\"text-align: right;\">\n",
       "      <th></th>\n",
       "      <th>The Girls</th>\n",
       "      <th>The Benchmark Girls</th>\n",
       "      <th>Movements</th>\n",
       "      <th>Scheme</th>\n",
       "    </tr>\n",
       "  </thead>\n",
       "  <tbody>\n",
       "    <tr>\n",
       "      <th>5</th>\n",
       "      <td>6</td>\n",
       "      <td>Elizabeth</td>\n",
       "      <td>Clean 135 lbs Ring Dips</td>\n",
       "      <td>21-15-9 reps, for time</td>\n",
       "    </tr>\n",
       "  </tbody>\n",
       "</table>\n",
       "</div>"
      ],
      "text/plain": [
       "   The Girls The Benchmark Girls               Movements   \\\n",
       "5          6           Elizabeth  Clean 135 lbs Ring Dips   \n",
       "\n",
       "                   Scheme  \n",
       "5  21-15-9 reps, for time  "
      ]
     },
     "execution_count": 4,
     "metadata": {},
     "output_type": "execute_result"
    }
   ],
   "source": [
    "girls_box = np.array(df['The Girls'])\n",
    "girls_shaker = np.random.randint(0,len(girls_box),size=1)\n",
    "random_girl = girls_box.take(girls_shaker)\n",
    "random_g = random_girl[::]-1\n",
    "df.loc[random_g]"
   ]
  },
  {
   "cell_type": "code",
   "execution_count": null,
   "metadata": {
    "collapsed": false
   },
   "outputs": [],
   "source": []
  },
  {
   "cell_type": "code",
   "execution_count": 5,
   "metadata": {
    "collapsed": false
   },
   "outputs": [
    {
     "data": {
      "text/html": [
       "<div>\n",
       "<table border=\"1\" class=\"dataframe\">\n",
       "  <thead>\n",
       "    <tr style=\"text-align: right;\">\n",
       "      <th></th>\n",
       "      <th>The Girls</th>\n",
       "      <th>The Benchmark Girls</th>\n",
       "      <th>Movements</th>\n",
       "      <th>Scheme</th>\n",
       "    </tr>\n",
       "  </thead>\n",
       "  <tbody>\n",
       "    <tr>\n",
       "      <th>8</th>\n",
       "      <td>9</td>\n",
       "      <td>Helen</td>\n",
       "      <td>400 meter run 1.5 pood Kettlebell swing x 21 P...</td>\n",
       "      <td>3 rounds for time</td>\n",
       "    </tr>\n",
       "    <tr>\n",
       "      <th>9</th>\n",
       "      <td>10</td>\n",
       "      <td>Isabel</td>\n",
       "      <td>Snatch 135 pounds</td>\n",
       "      <td>30 reps for time</td>\n",
       "    </tr>\n",
       "  </tbody>\n",
       "</table>\n",
       "</div>"
      ],
      "text/plain": [
       "   The Girls The Benchmark Girls  \\\n",
       "8          9               Helen   \n",
       "9         10              Isabel   \n",
       "\n",
       "                                          Movements              Scheme  \n",
       "8  400 meter run 1.5 pood Kettlebell swing x 21 P...  3 rounds for time  \n",
       "9                                  Snatch 135 pounds   30 reps for time  "
      ]
     },
     "execution_count": 5,
     "metadata": {},
     "output_type": "execute_result"
    }
   ],
   "source": [
    "two_girls_shaker = np.random.randint(0,len(girls_box),size=2)\n",
    "two_random_girls= girls_box.take(two_girls_shaker)\n",
    "rand_gx2=two_random_girls[::]-1\n",
    "df.loc[rand_gx2]"
   ]
  },
  {
   "cell_type": "code",
   "execution_count": null,
   "metadata": {
    "collapsed": false
   },
   "outputs": [],
   "source": []
  },
  {
   "cell_type": "code",
   "execution_count": 6,
   "metadata": {
    "collapsed": false
   },
   "outputs": [
    {
     "data": {
      "text/plain": [
       "'Double'"
      ]
     },
     "execution_count": 6,
     "metadata": {},
     "output_type": "execute_result"
    }
   ],
   "source": [
    "dub_hvy_box =np.array(['Double','Heavy'])\n",
    "dub_hvy_shaker= np.random.randint(0,len(dub_hvy_box),size=1)\n",
    "dub_hvy = dub_hvy_box.take(dub_hvy_shaker)\n",
    "dub_hvy[0]\n"
   ]
  },
  {
   "cell_type": "code",
   "execution_count": 4,
   "metadata": {
    "collapsed": false
   },
   "outputs": [],
   "source": [
    "#url=\"http://www.crossfitcvi.com/resources/benchmark-hero-wods/\"\n",
    "#dframe_list = pd.io.html.read_html(url)\n",
    "#dframe_list"
   ]
  },
  {
   "cell_type": "code",
   "execution_count": 8,
   "metadata": {
    "collapsed": false,
    "scrolled": true
   },
   "outputs": [
    {
     "data": {
      "text/html": [
       "<div>\n",
       "<table border=\"1\" class=\"dataframe\">\n",
       "  <thead>\n",
       "    <tr style=\"text-align: right;\">\n",
       "      <th></th>\n",
       "      <th>The Hero's</th>\n",
       "      <th>The Movements</th>\n",
       "      <th>The Rep Scheme</th>\n",
       "      <th>Hero #</th>\n",
       "    </tr>\n",
       "  </thead>\n",
       "  <tbody>\n",
       "    <tr>\n",
       "      <th>1</th>\n",
       "      <td>JT  In honor of Petty Officer 1st Class Jeff T...</td>\n",
       "      <td>Handstand push-ups Ring dips Push-ups</td>\n",
       "      <td>21-15-9 reps, for time</td>\n",
       "      <td>1</td>\n",
       "    </tr>\n",
       "    <tr>\n",
       "      <th>2</th>\n",
       "      <td>MICHAEL  In honor of Navy Lieutenant Michael M...</td>\n",
       "      <td>Run 800 meters 50 Back Extensions 50 Sit-ups</td>\n",
       "      <td>3 rounds for time</td>\n",
       "      <td>2</td>\n",
       "    </tr>\n",
       "    <tr>\n",
       "      <th>3</th>\n",
       "      <td>MURPH   In memory of Navy Lieutenant Michael M...</td>\n",
       "      <td>1 mile Run 100 Pull-ups 200 Push-ups 300 Squat...</td>\n",
       "      <td>For time.  Partition the pull-ups, push-ups, a...</td>\n",
       "      <td>3</td>\n",
       "    </tr>\n",
       "    <tr>\n",
       "      <th>4</th>\n",
       "      <td>DANIEL  Dedicated to Army Sgt 1st Class Daniel...</td>\n",
       "      <td>50 Pull-ups 400 meter run 95 pound Thruster, 2...</td>\n",
       "      <td>For time.</td>\n",
       "      <td>4</td>\n",
       "    </tr>\n",
       "    <tr>\n",
       "      <th>5</th>\n",
       "      <td>JOSH  SSG Joshua Hager, United States Army, wa...</td>\n",
       "      <td>95 pound Overhead squat, 21 reps 42 Pull-ups 9...</td>\n",
       "      <td>For time.</td>\n",
       "      <td>5</td>\n",
       "    </tr>\n",
       "    <tr>\n",
       "      <th>6</th>\n",
       "      <td>JASON  S01 (SEAL) Jason Dale Lewis was killed ...</td>\n",
       "      <td>100 Squats 5 Muscle-ups 75 Squats 10 Muscle-up...</td>\n",
       "      <td>For time.</td>\n",
       "      <td>6</td>\n",
       "    </tr>\n",
       "    <tr>\n",
       "      <th>7</th>\n",
       "      <td>BADGER  In honor of Navy Chief Petty Officer M...</td>\n",
       "      <td>95 pound Squat clean, 30 reps 30 Pull-ups Run ...</td>\n",
       "      <td>3 rounds for time.</td>\n",
       "      <td>7</td>\n",
       "    </tr>\n",
       "    <tr>\n",
       "      <th>8</th>\n",
       "      <td>JOSHIE  In honor of Army Staff Sergeant Joshua...</td>\n",
       "      <td>40 pound Dumbbell snatch, 21 reps, right arm 2...</td>\n",
       "      <td>3 rounds for time.</td>\n",
       "      <td>8</td>\n",
       "    </tr>\n",
       "    <tr>\n",
       "      <th>9</th>\n",
       "      <td>NATE  In honor of Chief Petty Officer Nate Har...</td>\n",
       "      <td>2 Muscle-ups 4 Handstand Push-ups 8 2-Pood Ket...</td>\n",
       "      <td>As many rounds as possible in 20 minutes</td>\n",
       "      <td>9</td>\n",
       "    </tr>\n",
       "    <tr>\n",
       "      <th>10</th>\n",
       "      <td>RANDY  In honor of Randy Simmons, 51, a 27 yea...</td>\n",
       "      <td>75# power snatch, 75 reps</td>\n",
       "      <td>For time</td>\n",
       "      <td>10</td>\n",
       "    </tr>\n",
       "    <tr>\n",
       "      <th>11</th>\n",
       "      <td>TOMMY V  In honor of Senior Chief Petty Office...</td>\n",
       "      <td>115 pound Thruster, 21 reps 15 ft Rope Climb, ...</td>\n",
       "      <td>For time</td>\n",
       "      <td>11</td>\n",
       "    </tr>\n",
       "    <tr>\n",
       "      <th>12</th>\n",
       "      <td>GRIFF  In honor of USAF SSgt Travis L. Griffin...</td>\n",
       "      <td>Run 800 meters Run 400 meters backwards Run 80...</td>\n",
       "      <td>For time</td>\n",
       "      <td>12</td>\n",
       "    </tr>\n",
       "    <tr>\n",
       "      <th>13</th>\n",
       "      <td>RYAN  Maplewood, MO Firefighter, Ryan Hummert,...</td>\n",
       "      <td>Five rounds of: 7 Muscle-ups 21 Burpees Each b...</td>\n",
       "      <td>For time</td>\n",
       "      <td>13</td>\n",
       "    </tr>\n",
       "    <tr>\n",
       "      <th>14</th>\n",
       "      <td>ERIN  Canadian Army Master Corporal Erin Doyle...</td>\n",
       "      <td>Five rounds of: 40 pound Dumbbells split clean...</td>\n",
       "      <td>For time</td>\n",
       "      <td>14</td>\n",
       "    </tr>\n",
       "    <tr>\n",
       "      <th>15</th>\n",
       "      <td>MR. JOSHUA  SO1 Joshua Thomas Harris, 36, drow...</td>\n",
       "      <td>Five rounds of: Run 400 meters 30 Glute-ham si...</td>\n",
       "      <td>For time</td>\n",
       "      <td>15</td>\n",
       "    </tr>\n",
       "    <tr>\n",
       "      <th>16</th>\n",
       "      <td>DT  In honor of USAF SSgt Timothy P. Davis, 28...</td>\n",
       "      <td>Five rounds of: 155 pound Deadlift, 12 reps 15...</td>\n",
       "      <td>For time</td>\n",
       "      <td>16</td>\n",
       "    </tr>\n",
       "    <tr>\n",
       "      <th>17</th>\n",
       "      <td>DANNY  Oakland SWAT Sergeant Daniel Sakai, age...</td>\n",
       "      <td>Rounds in 20 min of: 24″ box jump, 30 reps 115...</td>\n",
       "      <td>Rounds completed</td>\n",
       "      <td>17</td>\n",
       "    </tr>\n",
       "    <tr>\n",
       "      <th>18</th>\n",
       "      <td>HANSEN  Marine Staff Sgt Daniel Hansen died Fe...</td>\n",
       "      <td>Five rounds: 30 reps, 2 pood Kettlebell swing ...</td>\n",
       "      <td>For time</td>\n",
       "      <td>18</td>\n",
       "    </tr>\n",
       "    <tr>\n",
       "      <th>19</th>\n",
       "      <td>TYLER  1LT Tyler E. Parten, 24, of AR, died Se...</td>\n",
       "      <td>Five rounds: 7 Muscle-ups 21 reps 95 pound Sum...</td>\n",
       "      <td>For time</td>\n",
       "      <td>19</td>\n",
       "    </tr>\n",
       "    <tr>\n",
       "      <th>20</th>\n",
       "      <td>LUMBERJACK 20  On Nov. 5 2009 at 1:34 p.m., a ...</td>\n",
       "      <td>20 Deadlifts (275lbs)  Run 400m  20 KB swings ...</td>\n",
       "      <td>For time</td>\n",
       "      <td>20</td>\n",
       "    </tr>\n",
       "    <tr>\n",
       "      <th>21</th>\n",
       "      <td>STEPHEN  Third Battalion, Princess Patricia’s ...</td>\n",
       "      <td>30-25-20-15-10-5 rep rounds of: GHD sit-up Bac...</td>\n",
       "      <td>For time</td>\n",
       "      <td>21</td>\n",
       "    </tr>\n",
       "    <tr>\n",
       "      <th>22</th>\n",
       "      <td>GARRETT  Marine Capt. Garrett T. “Tubes” Lawto...</td>\n",
       "      <td>Three rounds of: 75 Squats 25 Ring handstand p...</td>\n",
       "      <td>For time</td>\n",
       "      <td>22</td>\n",
       "    </tr>\n",
       "    <tr>\n",
       "      <th>23</th>\n",
       "      <td>WAR FRANK  Captain Warren A. Frank, 26, of Cin...</td>\n",
       "      <td>Three rounds of: 25 Muscle-ups 100 Squats 35 G...</td>\n",
       "      <td>For time</td>\n",
       "      <td>23</td>\n",
       "    </tr>\n",
       "    <tr>\n",
       "      <th>24</th>\n",
       "      <td>MCGHEE  Corporal Ryan C. McGhee, 21, was kille...</td>\n",
       "      <td>275 pound Deadlift, 5 reps 13 Push-ups 9 Box j...</td>\n",
       "      <td>Rounds in 30 min</td>\n",
       "      <td>24</td>\n",
       "    </tr>\n",
       "    <tr>\n",
       "      <th>25</th>\n",
       "      <td>PAUL  Pittsburgh Police Officer Paul John Rizz...</td>\n",
       "      <td>Five rounds of: 50 Double unders 35 Knees to e...</td>\n",
       "      <td>For Time</td>\n",
       "      <td>25</td>\n",
       "    </tr>\n",
       "    <tr>\n",
       "      <th>26</th>\n",
       "      <td>JERRY  Sgt Major Jerry Dwayne Patton, 40, died...</td>\n",
       "      <td>Run 1 mile  Row 2K  Run 1 mile</td>\n",
       "      <td>For Time</td>\n",
       "      <td>26</td>\n",
       "    </tr>\n",
       "    <tr>\n",
       "      <th>27</th>\n",
       "      <td>NUTTS  Lieutenant Andrew Richard Nuttall, 30, ...</td>\n",
       "      <td>10 Handstand push-ups 250 pound Deadlift, 15 r...</td>\n",
       "      <td>For Time</td>\n",
       "      <td>27</td>\n",
       "    </tr>\n",
       "    <tr>\n",
       "      <th>28</th>\n",
       "      <td>ARNIE  Los Angeles County Fire Fighter Special...</td>\n",
       "      <td>With a single 2 pood kettlebell: 21 Turkish ge...</td>\n",
       "      <td>For Time</td>\n",
       "      <td>28</td>\n",
       "    </tr>\n",
       "    <tr>\n",
       "      <th>29</th>\n",
       "      <td>THE SEVEN  A suicide bomber killed seven CIA o...</td>\n",
       "      <td>“The Seven” Seven rounds of: 7 Handstand push-...</td>\n",
       "      <td>For Time</td>\n",
       "      <td>29</td>\n",
       "    </tr>\n",
       "    <tr>\n",
       "      <th>30</th>\n",
       "      <td>RJ  Veteran LAPD officer and United States Mar...</td>\n",
       "      <td>Five rounds of: Run 800 meters 15 ft Rope Clim...</td>\n",
       "      <td>For Time</td>\n",
       "      <td>30</td>\n",
       "    </tr>\n",
       "    <tr>\n",
       "      <th>...</th>\n",
       "      <td>...</td>\n",
       "      <td>...</td>\n",
       "      <td>...</td>\n",
       "      <td>...</td>\n",
       "    </tr>\n",
       "    <tr>\n",
       "      <th>103</th>\n",
       "      <td>BREHM  U.S. Army Sergeant Dale G. Brehm, 23, o...</td>\n",
       "      <td>15 foot Rope climb, 10 ascents 225 pound Back ...</td>\n",
       "      <td>For Time</td>\n",
       "      <td>103</td>\n",
       "    </tr>\n",
       "    <tr>\n",
       "      <th>104</th>\n",
       "      <td>OMAR  U.S. Army First Lieutenant Omar Vazquez,...</td>\n",
       "      <td>95 pound barbell Thrusters, 10 15 Bar-facing b...</td>\n",
       "      <td>For Time</td>\n",
       "      <td>104</td>\n",
       "    </tr>\n",
       "    <tr>\n",
       "      <th>105</th>\n",
       "      <td>GALLANT  U.S. Navy Petty Officer Second Class ...</td>\n",
       "      <td>Run 1 mile with a 20 pound medicine ball 60 Bu...</td>\n",
       "      <td>For Time</td>\n",
       "      <td>105</td>\n",
       "    </tr>\n",
       "    <tr>\n",
       "      <th>106</th>\n",
       "      <td>BRUCK  U.S. Coast Guard Petty Officer Third Cl...</td>\n",
       "      <td>Four rounds of: Run 400 meters 185 pound Back ...</td>\n",
       "      <td>For Time</td>\n",
       "      <td>106</td>\n",
       "    </tr>\n",
       "    <tr>\n",
       "      <th>107</th>\n",
       "      <td>SMYKOWSKI  U.S. Marine Corps Sergeant Mark T. ...</td>\n",
       "      <td>Run 6k 60 Burpee pull-ups If you’ve got body a...</td>\n",
       "      <td>For Time</td>\n",
       "      <td>107</td>\n",
       "    </tr>\n",
       "    <tr>\n",
       "      <th>108</th>\n",
       "      <td>FALKEL  U.S. Army Staff Sergeant Chris Falkel,...</td>\n",
       "      <td>8 Handstand push-ups 8 Box jump, 30 inch box 1...</td>\n",
       "      <td>Rounds in 25 Min</td>\n",
       "      <td>108</td>\n",
       "    </tr>\n",
       "    <tr>\n",
       "      <th>109</th>\n",
       "      <td>DONNY  U.S. Army Specialist Donald L. Nichols,...</td>\n",
       "      <td>21-15-9-9-15-21 reps of: 225 pound Deadlift Bu...</td>\n",
       "      <td>For Time</td>\n",
       "      <td>109</td>\n",
       "    </tr>\n",
       "    <tr>\n",
       "      <th>110</th>\n",
       "      <td>DOBOGAI  U.S. Army Captain Derek A. Dobogai, 2...</td>\n",
       "      <td>Seven rounds of: 8 Muscle-ups 22 yard Farmer c...</td>\n",
       "      <td>For Time</td>\n",
       "      <td>110</td>\n",
       "    </tr>\n",
       "    <tr>\n",
       "      <th>111</th>\n",
       "      <td>RONEY  Police Service of Northern Ireland Cons...</td>\n",
       "      <td>Four rounds of: Run 200 meters 135 pound Thrus...</td>\n",
       "      <td>For Time</td>\n",
       "      <td>111</td>\n",
       "    </tr>\n",
       "    <tr>\n",
       "      <th>112</th>\n",
       "      <td>DON  U.S. Marine Corporal Donald M. Marler, 22...</td>\n",
       "      <td>66 Deadlifts, 110 pounds 66 Box jump, 24 inch ...</td>\n",
       "      <td>For Time</td>\n",
       "      <td>112</td>\n",
       "    </tr>\n",
       "    <tr>\n",
       "      <th>113</th>\n",
       "      <td>DRAGON  U.S. Army Captain Nicholas Rozanski, 3...</td>\n",
       "      <td>Run 5k 4 minutes to find 4 rep max Deadlift Ru...</td>\n",
       "      <td>Post load and time.</td>\n",
       "      <td>113</td>\n",
       "    </tr>\n",
       "    <tr>\n",
       "      <th>114</th>\n",
       "      <td>WALSH  U.S. Army First Lieutenant Jonathan P. ...</td>\n",
       "      <td>Four rounds of: 22 Burpee pull-ups 185 pound B...</td>\n",
       "      <td>For Time</td>\n",
       "      <td>114</td>\n",
       "    </tr>\n",
       "    <tr>\n",
       "      <th>115</th>\n",
       "      <td>LEE  U.S. Army Staff Sergeant Dick Alson Lee J...</td>\n",
       "      <td>Five rounds of: Run 400 meters 345 pound Deadl...</td>\n",
       "      <td>For Time</td>\n",
       "      <td>115</td>\n",
       "    </tr>\n",
       "    <tr>\n",
       "      <th>116</th>\n",
       "      <td>Willy  U.S. Marine Corps Sergeant Wade D. Wils...</td>\n",
       "      <td>Three rounds of: Run 800 meters 225 pound Fron...</td>\n",
       "      <td>For Time</td>\n",
       "      <td>116</td>\n",
       "    </tr>\n",
       "    <tr>\n",
       "      <th>117</th>\n",
       "      <td>Coffey  U.S. Marine Corporal Keaton G. Coffey,...</td>\n",
       "      <td>Run 800 meters 135 pound Back squat, 50 reps 1...</td>\n",
       "      <td>For Time</td>\n",
       "      <td>117</td>\n",
       "    </tr>\n",
       "    <tr>\n",
       "      <th>118</th>\n",
       "      <td>DG  U.S. Air Force Major Walter David Gray, 38...</td>\n",
       "      <td>8 Toes to bar 35 pound Dumbbell thruster, 8 re...</td>\n",
       "      <td>Rounds in 10 minutes.</td>\n",
       "      <td>118</td>\n",
       "    </tr>\n",
       "    <tr>\n",
       "      <th>119</th>\n",
       "      <td>TK  U.S. Army Major Thomas E. Kennedy, 35, of ...</td>\n",
       "      <td>8 Strict Pull-ups 8 Box jumps, 36″ box 12 Kett...</td>\n",
       "      <td>Rounds in 20 min</td>\n",
       "      <td>119</td>\n",
       "    </tr>\n",
       "    <tr>\n",
       "      <th>120</th>\n",
       "      <td>JUSTIN  U.S. Marine Corps Sgt. Justin M. Hanse...</td>\n",
       "      <td>30-20-10 reps for time of: Justin Body-weight ...</td>\n",
       "      <td>For Time</td>\n",
       "      <td>120</td>\n",
       "    </tr>\n",
       "    <tr>\n",
       "      <th>121</th>\n",
       "      <td>NUKES  U.S. Marine Corps Capt. Matthew “Nukes”...</td>\n",
       "      <td>In 8 minutes. No rest between rounds. 1-mile r...</td>\n",
       "      <td>Post run times and reps completed for each exe...</td>\n",
       "      <td>121</td>\n",
       "    </tr>\n",
       "    <tr>\n",
       "      <th>122</th>\n",
       "      <td>ZEMBIEC  U.S. Marine Corps Major Douglas A. Ze...</td>\n",
       "      <td>5 rounds of: 11 back squats, 185 lb. 7 strict ...</td>\n",
       "      <td>For Time</td>\n",
       "      <td>122</td>\n",
       "    </tr>\n",
       "    <tr>\n",
       "      <th>123</th>\n",
       "      <td>ALEXANDER  Staff Sgt. Alexander G. Povilaitis,...</td>\n",
       "      <td>5 rounds of: 31 back squats, 135 lb. 12 power ...</td>\n",
       "      <td>For Time</td>\n",
       "      <td>123</td>\n",
       "    </tr>\n",
       "    <tr>\n",
       "      <th>124</th>\n",
       "      <td>BELL  Air Force Senior Airman Bryan R. Bell, 2...</td>\n",
       "      <td>3 rounds of: 185-lb. deadlifts, 21 reps 15 pul...</td>\n",
       "      <td>For Time</td>\n",
       "      <td>124</td>\n",
       "    </tr>\n",
       "    <tr>\n",
       "      <th>125</th>\n",
       "      <td>JBO  U.S. Army Staff Sgt. Jeremie “JBo” “Bubba...</td>\n",
       "      <td>115-lb. overhead squats, 9 reps 1 legless rope...</td>\n",
       "      <td>Rounds completed in 28 min.</td>\n",
       "      <td>125</td>\n",
       "    </tr>\n",
       "    <tr>\n",
       "      <th>126</th>\n",
       "      <td>KEVIN  Navy Special Warfare Operator 1st Class...</td>\n",
       "      <td>3 rounds of: 185-lb. deadlifts, 32 reps 32 han...</td>\n",
       "      <td>For Time</td>\n",
       "      <td>126</td>\n",
       "    </tr>\n",
       "    <tr>\n",
       "      <th>127</th>\n",
       "      <td>ROCKET  Army Sgt. 1st Class Aaron “Rocket” Hen...</td>\n",
       "      <td>50-yard swim 10 push-ups 15 squats</td>\n",
       "      <td>Rounds in 30 min.</td>\n",
       "      <td>127</td>\n",
       "    </tr>\n",
       "    <tr>\n",
       "      <th>128</th>\n",
       "      <td>RILEY  Army Sgt. 1st Class Riley G. Stephens, ...</td>\n",
       "      <td>If you’ve got a weight vest or body armor, wea...</td>\n",
       "      <td>For Time</td>\n",
       "      <td>128</td>\n",
       "    </tr>\n",
       "    <tr>\n",
       "      <th>129</th>\n",
       "      <td>FEEKS  Special Warfare Operator Petty Officer ...</td>\n",
       "      <td>Post time to comments. 2 x 100-meter shuttle s...</td>\n",
       "      <td>For Time</td>\n",
       "      <td>129</td>\n",
       "    </tr>\n",
       "    <tr>\n",
       "      <th>130</th>\n",
       "      <td>NED  Special Agent Nathan “Ned” Schuldheiss, 2...</td>\n",
       "      <td>7 rounds of: 11 body-weight back squats 1,000-...</td>\n",
       "      <td>For Time</td>\n",
       "      <td>130</td>\n",
       "    </tr>\n",
       "    <tr>\n",
       "      <th>131</th>\n",
       "      <td>SHAM  Air Force Staff Sgt. David “Sham” Wieger...</td>\n",
       "      <td>7 rounds of: Sham 11 body-weight deadlifts 100...</td>\n",
       "      <td>For Time</td>\n",
       "      <td>131</td>\n",
       "    </tr>\n",
       "    <tr>\n",
       "      <th>132</th>\n",
       "      <td>OZZY  U.S. Air Force Master Sgt. Thomas “Ozzy”...</td>\n",
       "      <td>7 rounds of: 11 deficit handstand push-ups 1,0...</td>\n",
       "      <td>For Time</td>\n",
       "      <td>132</td>\n",
       "    </tr>\n",
       "  </tbody>\n",
       "</table>\n",
       "<p>132 rows × 4 columns</p>\n",
       "</div>"
      ],
      "text/plain": [
       "                                            The Hero's  \\\n",
       "1    JT  In honor of Petty Officer 1st Class Jeff T...   \n",
       "2    MICHAEL  In honor of Navy Lieutenant Michael M...   \n",
       "3    MURPH   In memory of Navy Lieutenant Michael M...   \n",
       "4    DANIEL  Dedicated to Army Sgt 1st Class Daniel...   \n",
       "5    JOSH  SSG Joshua Hager, United States Army, wa...   \n",
       "6    JASON  S01 (SEAL) Jason Dale Lewis was killed ...   \n",
       "7    BADGER  In honor of Navy Chief Petty Officer M...   \n",
       "8    JOSHIE  In honor of Army Staff Sergeant Joshua...   \n",
       "9    NATE  In honor of Chief Petty Officer Nate Har...   \n",
       "10   RANDY  In honor of Randy Simmons, 51, a 27 yea...   \n",
       "11   TOMMY V  In honor of Senior Chief Petty Office...   \n",
       "12   GRIFF  In honor of USAF SSgt Travis L. Griffin...   \n",
       "13   RYAN  Maplewood, MO Firefighter, Ryan Hummert,...   \n",
       "14   ERIN  Canadian Army Master Corporal Erin Doyle...   \n",
       "15   MR. JOSHUA  SO1 Joshua Thomas Harris, 36, drow...   \n",
       "16   DT  In honor of USAF SSgt Timothy P. Davis, 28...   \n",
       "17   DANNY  Oakland SWAT Sergeant Daniel Sakai, age...   \n",
       "18   HANSEN  Marine Staff Sgt Daniel Hansen died Fe...   \n",
       "19   TYLER  1LT Tyler E. Parten, 24, of AR, died Se...   \n",
       "20   LUMBERJACK 20  On Nov. 5 2009 at 1:34 p.m., a ...   \n",
       "21   STEPHEN  Third Battalion, Princess Patricia’s ...   \n",
       "22   GARRETT  Marine Capt. Garrett T. “Tubes” Lawto...   \n",
       "23   WAR FRANK  Captain Warren A. Frank, 26, of Cin...   \n",
       "24   MCGHEE  Corporal Ryan C. McGhee, 21, was kille...   \n",
       "25   PAUL  Pittsburgh Police Officer Paul John Rizz...   \n",
       "26   JERRY  Sgt Major Jerry Dwayne Patton, 40, died...   \n",
       "27   NUTTS  Lieutenant Andrew Richard Nuttall, 30, ...   \n",
       "28   ARNIE  Los Angeles County Fire Fighter Special...   \n",
       "29   THE SEVEN  A suicide bomber killed seven CIA o...   \n",
       "30   RJ  Veteran LAPD officer and United States Mar...   \n",
       "..                                                 ...   \n",
       "103  BREHM  U.S. Army Sergeant Dale G. Brehm, 23, o...   \n",
       "104  OMAR  U.S. Army First Lieutenant Omar Vazquez,...   \n",
       "105  GALLANT  U.S. Navy Petty Officer Second Class ...   \n",
       "106  BRUCK  U.S. Coast Guard Petty Officer Third Cl...   \n",
       "107  SMYKOWSKI  U.S. Marine Corps Sergeant Mark T. ...   \n",
       "108  FALKEL  U.S. Army Staff Sergeant Chris Falkel,...   \n",
       "109  DONNY  U.S. Army Specialist Donald L. Nichols,...   \n",
       "110  DOBOGAI  U.S. Army Captain Derek A. Dobogai, 2...   \n",
       "111  RONEY  Police Service of Northern Ireland Cons...   \n",
       "112  DON  U.S. Marine Corporal Donald M. Marler, 22...   \n",
       "113  DRAGON  U.S. Army Captain Nicholas Rozanski, 3...   \n",
       "114  WALSH  U.S. Army First Lieutenant Jonathan P. ...   \n",
       "115  LEE  U.S. Army Staff Sergeant Dick Alson Lee J...   \n",
       "116  Willy  U.S. Marine Corps Sergeant Wade D. Wils...   \n",
       "117  Coffey  U.S. Marine Corporal Keaton G. Coffey,...   \n",
       "118  DG  U.S. Air Force Major Walter David Gray, 38...   \n",
       "119  TK  U.S. Army Major Thomas E. Kennedy, 35, of ...   \n",
       "120  JUSTIN  U.S. Marine Corps Sgt. Justin M. Hanse...   \n",
       "121  NUKES  U.S. Marine Corps Capt. Matthew “Nukes”...   \n",
       "122  ZEMBIEC  U.S. Marine Corps Major Douglas A. Ze...   \n",
       "123  ALEXANDER  Staff Sgt. Alexander G. Povilaitis,...   \n",
       "124  BELL  Air Force Senior Airman Bryan R. Bell, 2...   \n",
       "125  JBO  U.S. Army Staff Sgt. Jeremie “JBo” “Bubba...   \n",
       "126  KEVIN  Navy Special Warfare Operator 1st Class...   \n",
       "127  ROCKET  Army Sgt. 1st Class Aaron “Rocket” Hen...   \n",
       "128  RILEY  Army Sgt. 1st Class Riley G. Stephens, ...   \n",
       "129  FEEKS  Special Warfare Operator Petty Officer ...   \n",
       "130  NED  Special Agent Nathan “Ned” Schuldheiss, 2...   \n",
       "131  SHAM  Air Force Staff Sgt. David “Sham” Wieger...   \n",
       "132  OZZY  U.S. Air Force Master Sgt. Thomas “Ozzy”...   \n",
       "\n",
       "                                         The Movements  \\\n",
       "1                Handstand push-ups Ring dips Push-ups   \n",
       "2         Run 800 meters 50 Back Extensions 50 Sit-ups   \n",
       "3    1 mile Run 100 Pull-ups 200 Push-ups 300 Squat...   \n",
       "4    50 Pull-ups 400 meter run 95 pound Thruster, 2...   \n",
       "5    95 pound Overhead squat, 21 reps 42 Pull-ups 9...   \n",
       "6    100 Squats 5 Muscle-ups 75 Squats 10 Muscle-up...   \n",
       "7    95 pound Squat clean, 30 reps 30 Pull-ups Run ...   \n",
       "8    40 pound Dumbbell snatch, 21 reps, right arm 2...   \n",
       "9    2 Muscle-ups 4 Handstand Push-ups 8 2-Pood Ket...   \n",
       "10                           75# power snatch, 75 reps   \n",
       "11   115 pound Thruster, 21 reps 15 ft Rope Climb, ...   \n",
       "12   Run 800 meters Run 400 meters backwards Run 80...   \n",
       "13   Five rounds of: 7 Muscle-ups 21 Burpees Each b...   \n",
       "14   Five rounds of: 40 pound Dumbbells split clean...   \n",
       "15   Five rounds of: Run 400 meters 30 Glute-ham si...   \n",
       "16   Five rounds of: 155 pound Deadlift, 12 reps 15...   \n",
       "17   Rounds in 20 min of: 24″ box jump, 30 reps 115...   \n",
       "18   Five rounds: 30 reps, 2 pood Kettlebell swing ...   \n",
       "19   Five rounds: 7 Muscle-ups 21 reps 95 pound Sum...   \n",
       "20   20 Deadlifts (275lbs)  Run 400m  20 KB swings ...   \n",
       "21   30-25-20-15-10-5 rep rounds of: GHD sit-up Bac...   \n",
       "22   Three rounds of: 75 Squats 25 Ring handstand p...   \n",
       "23   Three rounds of: 25 Muscle-ups 100 Squats 35 G...   \n",
       "24   275 pound Deadlift, 5 reps 13 Push-ups 9 Box j...   \n",
       "25   Five rounds of: 50 Double unders 35 Knees to e...   \n",
       "26                      Run 1 mile  Row 2K  Run 1 mile   \n",
       "27   10 Handstand push-ups 250 pound Deadlift, 15 r...   \n",
       "28   With a single 2 pood kettlebell: 21 Turkish ge...   \n",
       "29   “The Seven” Seven rounds of: 7 Handstand push-...   \n",
       "30   Five rounds of: Run 800 meters 15 ft Rope Clim...   \n",
       "..                                                 ...   \n",
       "103  15 foot Rope climb, 10 ascents 225 pound Back ...   \n",
       "104  95 pound barbell Thrusters, 10 15 Bar-facing b...   \n",
       "105  Run 1 mile with a 20 pound medicine ball 60 Bu...   \n",
       "106  Four rounds of: Run 400 meters 185 pound Back ...   \n",
       "107  Run 6k 60 Burpee pull-ups If you’ve got body a...   \n",
       "108  8 Handstand push-ups 8 Box jump, 30 inch box 1...   \n",
       "109  21-15-9-9-15-21 reps of: 225 pound Deadlift Bu...   \n",
       "110  Seven rounds of: 8 Muscle-ups 22 yard Farmer c...   \n",
       "111  Four rounds of: Run 200 meters 135 pound Thrus...   \n",
       "112  66 Deadlifts, 110 pounds 66 Box jump, 24 inch ...   \n",
       "113  Run 5k 4 minutes to find 4 rep max Deadlift Ru...   \n",
       "114  Four rounds of: 22 Burpee pull-ups 185 pound B...   \n",
       "115  Five rounds of: Run 400 meters 345 pound Deadl...   \n",
       "116  Three rounds of: Run 800 meters 225 pound Fron...   \n",
       "117  Run 800 meters 135 pound Back squat, 50 reps 1...   \n",
       "118  8 Toes to bar 35 pound Dumbbell thruster, 8 re...   \n",
       "119  8 Strict Pull-ups 8 Box jumps, 36″ box 12 Kett...   \n",
       "120  30-20-10 reps for time of: Justin Body-weight ...   \n",
       "121  In 8 minutes. No rest between rounds. 1-mile r...   \n",
       "122  5 rounds of: 11 back squats, 185 lb. 7 strict ...   \n",
       "123  5 rounds of: 31 back squats, 135 lb. 12 power ...   \n",
       "124  3 rounds of: 185-lb. deadlifts, 21 reps 15 pul...   \n",
       "125  115-lb. overhead squats, 9 reps 1 legless rope...   \n",
       "126  3 rounds of: 185-lb. deadlifts, 32 reps 32 han...   \n",
       "127                 50-yard swim 10 push-ups 15 squats   \n",
       "128  If you’ve got a weight vest or body armor, wea...   \n",
       "129  Post time to comments. 2 x 100-meter shuttle s...   \n",
       "130  7 rounds of: 11 body-weight back squats 1,000-...   \n",
       "131  7 rounds of: Sham 11 body-weight deadlifts 100...   \n",
       "132  7 rounds of: 11 deficit handstand push-ups 1,0...   \n",
       "\n",
       "                                        The Rep Scheme  Hero #  \n",
       "1                               21-15-9 reps, for time       1  \n",
       "2                                    3 rounds for time       2  \n",
       "3    For time.  Partition the pull-ups, push-ups, a...       3  \n",
       "4                                            For time.       4  \n",
       "5                                            For time.       5  \n",
       "6                                            For time.       6  \n",
       "7                                   3 rounds for time.       7  \n",
       "8                                   3 rounds for time.       8  \n",
       "9             As many rounds as possible in 20 minutes       9  \n",
       "10                                            For time      10  \n",
       "11                                            For time      11  \n",
       "12                                            For time      12  \n",
       "13                                            For time      13  \n",
       "14                                            For time      14  \n",
       "15                                            For time      15  \n",
       "16                                            For time      16  \n",
       "17                                    Rounds completed      17  \n",
       "18                                            For time      18  \n",
       "19                                            For time      19  \n",
       "20                                            For time      20  \n",
       "21                                            For time      21  \n",
       "22                                            For time      22  \n",
       "23                                            For time      23  \n",
       "24                                    Rounds in 30 min      24  \n",
       "25                                            For Time      25  \n",
       "26                                            For Time      26  \n",
       "27                                            For Time      27  \n",
       "28                                            For Time      28  \n",
       "29                                            For Time      29  \n",
       "30                                            For Time      30  \n",
       "..                                                 ...     ...  \n",
       "103                                           For Time     103  \n",
       "104                                           For Time     104  \n",
       "105                                           For Time     105  \n",
       "106                                           For Time     106  \n",
       "107                                           For Time     107  \n",
       "108                                   Rounds in 25 Min     108  \n",
       "109                                           For Time     109  \n",
       "110                                           For Time     110  \n",
       "111                                           For Time     111  \n",
       "112                                           For Time     112  \n",
       "113                                Post load and time.     113  \n",
       "114                                           For Time     114  \n",
       "115                                           For Time     115  \n",
       "116                                           For Time     116  \n",
       "117                                           For Time     117  \n",
       "118                              Rounds in 10 minutes.     118  \n",
       "119                                   Rounds in 20 min     119  \n",
       "120                                           For Time     120  \n",
       "121  Post run times and reps completed for each exe...     121  \n",
       "122                                           For Time     122  \n",
       "123                                           For Time     123  \n",
       "124                                           For Time     124  \n",
       "125                        Rounds completed in 28 min.     125  \n",
       "126                                           For Time     126  \n",
       "127                                  Rounds in 30 min.     127  \n",
       "128                                           For Time     128  \n",
       "129                                           For Time     129  \n",
       "130                                           For Time     130  \n",
       "131                                           For Time     131  \n",
       "132                                           For Time     132  \n",
       "\n",
       "[132 rows x 4 columns]"
      ]
     },
     "execution_count": 8,
     "metadata": {},
     "output_type": "execute_result"
    }
   ],
   "source": [
    "#dframe_list = pd.io.html.read_html(url)\n",
    "#dframe_list\n",
    "heroxl=pd.ExcelFile('Hero WOD.xlsx')\n",
    "hero_df = heroxl.parse('Sheet1')\n",
    "hero_df.rename(inplace=True, columns={0:\"The Hero's\",\n",
    "                                      1:\"The Movements\",\n",
    "                                      2:\"The Rep Scheme\"})\n",
    "hero_df.dropna(inplace=True)\n",
    "a= [x for x in hero_df.index]\n",
    "hero_df['Hero #']= a\n",
    "hero_df"
   ]
  },
  {
   "cell_type": "code",
   "execution_count": 9,
   "metadata": {
    "collapsed": false
   },
   "outputs": [
    {
     "data": {
      "text/html": [
       "<div>\n",
       "<table border=\"1\" class=\"dataframe\">\n",
       "  <thead>\n",
       "    <tr style=\"text-align: right;\">\n",
       "      <th></th>\n",
       "      <th>The Hero's</th>\n",
       "      <th>The Movements</th>\n",
       "      <th>The Rep Scheme</th>\n",
       "      <th>Hero #</th>\n",
       "    </tr>\n",
       "  </thead>\n",
       "  <tbody>\n",
       "    <tr>\n",
       "      <th>51</th>\n",
       "      <td>MCCLUSKEY  U.S. Army Sergeant Jason “Mick” McC...</td>\n",
       "      <td>Three rounds of: 9 Muscle-ups 15 Burpee pull-u...</td>\n",
       "      <td>For Time</td>\n",
       "      <td>51</td>\n",
       "    </tr>\n",
       "  </tbody>\n",
       "</table>\n",
       "</div>"
      ],
      "text/plain": [
       "                                           The Hero's  \\\n",
       "51  MCCLUSKEY  U.S. Army Sergeant Jason “Mick” McC...   \n",
       "\n",
       "                                        The Movements The Rep Scheme  Hero #  \n",
       "51  Three rounds of: 9 Muscle-ups 15 Burpee pull-u...       For Time      51  "
      ]
     },
     "execution_count": 9,
     "metadata": {},
     "output_type": "execute_result"
    }
   ],
   "source": [
    "hero_box = np.array(hero_df[\"Hero #\"])\n",
    "hero_shaker = np.random.randint(0,len(hero_df),size=1)\n",
    "random_hero = hero_box.take(hero_shaker)\n",
    "random_h = random_hero[::]\n",
    "hero_df.loc[random_h]"
   ]
  },
  {
   "cell_type": "code",
   "execution_count": null,
   "metadata": {
    "collapsed": false
   },
   "outputs": [],
   "source": [
    "#rep scheme needs to be tied to the number of movements, So find a way to group the num of movements together and tie\n",
    "#specific rep schemes to specific groups \n",
    "num_mov_bins = [1,3,5,7]\n",
    "num_of_movements_list=[1,2,3,4,5,6]\n",
    "#Now we'll use cut to get somethign called a Category object\n",
    "#num_mov_cat cat for category then use the cut method pd.cut(object,bins)\n",
    "\n",
    "num_mov_cat=pd.cut(num_of_movements_list,num_mov_bins)\n",
    "num_mov_cat.categories\n",
    "pd.value_counts(num_mov_cat)\n",
    "num_mov_cat.dropna()\n",
    "num_mov_cat[1],num_mov_cat[5]"
   ]
  },
  {
   "cell_type": "code",
   "execution_count": null,
   "metadata": {
    "collapsed": false
   },
   "outputs": [],
   "source": []
  },
  {
   "cell_type": "code",
   "execution_count": null,
   "metadata": {
    "collapsed": false
   },
   "outputs": [],
   "source": []
  },
  {
   "cell_type": "code",
   "execution_count": 154,
   "metadata": {
    "collapsed": true
   },
   "outputs": [],
   "source": [
    "#hero_df.to_excel('Hero WOD.xlsx')"
   ]
  },
  {
   "cell_type": "code",
   "execution_count": null,
   "metadata": {
    "collapsed": true
   },
   "outputs": [],
   "source": [
    "#use this as an example of how to build out the lists for pulling the rep schemes and movements etc... \n",
    "\n",
    "#imagine you have abox with 3 marbles in it labled 1,2,3\n",
    "box= np.array([1,2,3])\n",
    "#just like blender create an object called shaker accept this time it is \n",
    "#not a permutation since it is a permutation with replacement using \n",
    "#randint(low,high,size=number of times you will draw from the box)\n",
    "shaker=np.random.randint(0,len(box),size=10)\n",
    "shaker\n",
    "hand_grabs= box.take(shaker)\n",
    "hand_grabs\n",
    "print hand_grabs[0]\n",
    "print hand_grabs"
   ]
  },
  {
   "cell_type": "code",
   "execution_count": 3,
   "metadata": {
    "collapsed": true
   },
   "outputs": [],
   "source": [
    "#url = \"http://www.elementcrossfit.com/benchmark-workouts/\""
   ]
  },
  {
   "cell_type": "code",
   "execution_count": 5,
   "metadata": {
    "collapsed": true
   },
   "outputs": [],
   "source": [
    "#dframe_list = pd.io.html.read_html(url)"
   ]
  },
  {
   "cell_type": "code",
   "execution_count": 62,
   "metadata": {
    "collapsed": false
   },
   "outputs": [],
   "source": [
    "#dframe_list"
   ]
  },
  {
   "cell_type": "code",
   "execution_count": 63,
   "metadata": {
    "collapsed": false
   },
   "outputs": [
    {
     "ename": "NameError",
     "evalue": "name 'dframe_list' is not defined",
     "output_type": "error",
     "traceback": [
      "\u001b[1;31m---------------------------------------------------------------------------\u001b[0m",
      "\u001b[1;31mNameError\u001b[0m                                 Traceback (most recent call last)",
      "\u001b[1;32m<ipython-input-63-bfb4d2ec0433>\u001b[0m in \u001b[0;36m<module>\u001b[1;34m()\u001b[0m\n\u001b[1;32m----> 1\u001b[1;33m \u001b[0mdframe\u001b[0m\u001b[1;33m=\u001b[0m\u001b[0mdframe_list\u001b[0m\u001b[1;33m[\u001b[0m\u001b[1;36m0\u001b[0m\u001b[1;33m]\u001b[0m\u001b[1;33m\u001b[0m\u001b[0m\n\u001b[0m\u001b[0;32m      2\u001b[0m dframe.rename(inplace=True, columns={0:'The Girls',\n\u001b[0;32m      3\u001b[0m                        \u001b[1;36m1\u001b[0m\u001b[1;33m:\u001b[0m\u001b[1;34m'Movements'\u001b[0m\u001b[1;33m,\u001b[0m\u001b[1;33m\u001b[0m\u001b[0m\n\u001b[0;32m      4\u001b[0m                        2:'Rep Scheme'})\n\u001b[0;32m      5\u001b[0m \u001b[0mdframe2\u001b[0m\u001b[1;33m=\u001b[0m\u001b[0mdframe\u001b[0m\u001b[1;33m.\u001b[0m\u001b[0mdropna\u001b[0m\u001b[1;33m(\u001b[0m\u001b[1;33m)\u001b[0m\u001b[1;33m\u001b[0m\u001b[0m\n",
      "\u001b[1;31mNameError\u001b[0m: name 'dframe_list' is not defined"
     ]
    }
   ],
   "source": [
    "dframe=dframe_list[0]\n",
    "dframe.rename(inplace=True, columns={0:'The Girls',\n",
    "                       1:'Movements',\n",
    "                       2:'Rep Scheme'})\n",
    "dframe2=dframe.dropna()\n",
    "dframe2"
   ]
  },
  {
   "cell_type": "code",
   "execution_count": 10,
   "metadata": {
    "collapsed": true
   },
   "outputs": [],
   "source": [
    "rep_schemes = {1:[21,15,9],\n",
    "               2:[50,40,30,20,10],\n",
    "               3:[9,12,15],\n",
    "               4:[3,6,9],\n",
    "               5:[21,18,15,12,9,6,3],\n",
    "               6:[50,50,50],\n",
    "               7:[5,10,15],\n",
    "               8:[5,10,15,20],\n",
    "               9:[1,1,1,1,1,1,1],\n",
    "              10:[2,2,2,2,2,2,2],\n",
    "              11:[3,3,3,3,3,3,3]}"
   ]
  },
  {
   "cell_type": "code",
   "execution_count": 11,
   "metadata": {
    "collapsed": true
   },
   "outputs": [],
   "source": [
    "rounds_or_reps = ['AMRAP','For Time','For Reps','Chipper']"
   ]
  },
  {
   "cell_type": "code",
   "execution_count": 12,
   "metadata": {
    "collapsed": true
   },
   "outputs": [],
   "source": [
    "rounds_list = [1,2,3,4,5,6,7,10]\n",
    "for_time_list = [10,12,15,20,25,30,40]"
   ]
  },
  {
   "cell_type": "code",
   "execution_count": 13,
   "metadata": {
    "collapsed": true
   },
   "outputs": [],
   "source": [
    "movements = {1:'Pull-up',\n",
    "             2:'Push-up',\n",
    "             3:'HSPU',\n",
    "             4:'Power Cleans 40kg',\n",
    "             5:'Snatch 40',\n",
    "             6:'KBS',\n",
    "             7:'Squat Cleans',\n",
    "             8:'Squat Snatch',\n",
    "             9:'Power Snatch',\n",
    "             10:'Burpees',\n",
    "             11:'Squats',\n",
    "             12:'Clean & Jerk',\n",
    "             13:'200m Run',\n",
    "             14:'Sit-ups',\n",
    "             15:'Assalt Bike For Calories',\n",
    "             16:'Calorie Row',\n",
    "             17:'Ski-erg For Calories',\n",
    "             18:'Wall Balls',\n",
    "             19:'Med Ball Cleans',\n",
    "             20:'Kettle Bell Snatch',\n",
    "             21:'Muscle Ups',\n",
    "             22:'Ring Rows',\n",
    "             23:'Ring Push ups',\n",
    "             24:'Ring Dips',\n",
    "             25:'TTB',\n",
    "             26:'C2B',\n",
    "             27:'Thrusters 95lbs',\n",
    "             28:'400m Run',\n",
    "             29:'600m Run',\n",
    "             30:'800m Run',\n",
    "             31:'1000m Run',\n",
    "             32:'1mi Run',\n",
    "             33:'Power Cleans 60kg',\n",
    "             34:'Power Cleans 80kg',\n",
    "             35:'Snatch 60kg',\n",
    "             36:'Snatch 70kg',\n",
    "             37:'DL 80kg',\n",
    "             38:'DL 100kg'\n",
    "             \n",
    "            }"
   ]
  },
  {
   "cell_type": "code",
   "execution_count": 15,
   "metadata": {
    "collapsed": false
   },
   "outputs": [
    {
     "name": "stdout",
     "output_type": "stream",
     "text": [
      "2\n",
      "2\n",
      "2\n",
      "2\n",
      "2\n",
      "2\n",
      "2\n"
     ]
    }
   ],
   "source": [
    "rep_scheme_box = np.array(rep_schemes.keys())\n",
    "rep_scheme_shaker = np.random.randint(1,len(rep_scheme_box),size=1)\n",
    "hand_grab_rep_scheme=rep_scheme_box.take(rep_scheme_shaker)\n",
    "rep_sch = rep_schemes[hand_grab_rep_scheme[0]]\n",
    "\n",
    "for x in rep_sch:\n",
    "    print x"
   ]
  },
  {
   "cell_type": "code",
   "execution_count": null,
   "metadata": {
    "collapsed": false
   },
   "outputs": [],
   "source": []
  },
  {
   "cell_type": "code",
   "execution_count": 16,
   "metadata": {
    "collapsed": false
   },
   "outputs": [
    {
     "name": "stdout",
     "output_type": "stream",
     "text": [
      "Chipper\n"
     ]
    }
   ],
   "source": [
    "rounds_or_reps_box = np.array(rounds_or_reps)\n",
    "rounds_or_reps_shaker = np.random.randint(0,len(rounds_or_reps),size=1)\n",
    "rounds_reps = rounds_or_reps_box.take(rounds_or_reps_shaker)\n",
    "print rounds_reps[0]\n"
   ]
  },
  {
   "cell_type": "code",
   "execution_count": 36,
   "metadata": {
    "collapsed": false
   },
   "outputs": [],
   "source": [
    "#random number of movements gen\n",
    "rand_mov= np.array([1,2,3,4,5,6])\n",
    "num_of_movements = np.random.randint(0,len(rand_mov),size=1)\n",
    "num_of_mov=rand_mov.take(num_of_movements)\n",
    "num_of_mov[::]\n",
    "\n",
    "movements_box = np.array(movements.keys())\n",
    "movements_shaker = np.random.randint(1,len(movements.keys()),size=num_of_mov)\n",
    "movements_selected=movements_box.take(movements_shaker)"
   ]
  },
  {
   "cell_type": "code",
   "execution_count": null,
   "metadata": {
    "collapsed": false
   },
   "outputs": [],
   "source": [
    "for_time_box=np.array(time_list)\n",
    "for_time_shaker=np.random.randint(0,len(time_list),size=1)\n",
    "for_time=for_time_box.take(for_time_shaker)\n",
    "\n",
    "for_time[0]"
   ]
  },
  {
   "cell_type": "code",
   "execution_count": 37,
   "metadata": {
    "collapsed": false
   },
   "outputs": [
    {
     "data": {
      "text/plain": [
       "array([25, 28,  9, 14])"
      ]
     },
     "execution_count": 37,
     "metadata": {},
     "output_type": "execute_result"
    }
   ],
   "source": [
    "movements_selected[::]"
   ]
  },
  {
   "cell_type": "code",
   "execution_count": 38,
   "metadata": {
    "collapsed": false
   },
   "outputs": [
    {
     "data": {
      "text/plain": [
       "array([4])"
      ]
     },
     "execution_count": 38,
     "metadata": {},
     "output_type": "execute_result"
    }
   ],
   "source": [
    "num_of_mov"
   ]
  },
  {
   "cell_type": "code",
   "execution_count": 39,
   "metadata": {
    "collapsed": false
   },
   "outputs": [
    {
     "data": {
      "text/plain": [
       "3"
      ]
     },
     "execution_count": 39,
     "metadata": {},
     "output_type": "execute_result"
    }
   ],
   "source": [
    "num_of_movements[0]\n"
   ]
  },
  {
   "cell_type": "raw",
   "metadata": {
    "collapsed": false
   },
   "source": [
    "def rounds_or_reps():\n",
    "    rounds_or_reps = ['AMRAP','For Time','For Reps','Chipper']\n",
    "    rounds_or_reps_box = np.array(rounds_or_reps)\n",
    "    rounds_or_reps_shaker = np.random.randint(1,len(rounds_or_reps),size=1)\n",
    "    rounds_reps = rounds_or_reps_box.take(rounds_or_reps_shaker)\n",
    "    rnd_rep=rounds_reps\n",
    "    if rnd_rep== 'AMRAP':\n",
    "        time_box=np.array(time_list)\n",
    "        time_shaker=np.random.randint(0,len(time_list),size=1)\n",
    "        time=time_box.take(time_shaker)\n",
    "        print \"AMRAP: \",time[0]\n",
    "    elif rnd_rep=='For Time':\n",
    "        rounds_box=np.array(rounds_list)\n",
    "        rounds_shaker=np.random.randint(1,len(rounds_list),size=1)\n",
    "        rounds=rounds_box.take(rounds_shaker)\n",
    "        print rounds[0],\"RFT \"\n",
    "    elif rnd_rep=='For Reps':\n",
    "        time_box=np.array(time_list)\n",
    "        time_shaker=np.random.randint(0,len(time_list),size=1)\n",
    "        time=time_box.take(time_shaker)\n",
    "        print \"Complete as many reps as possible in: \",time[0]\n",
    "    elif rnd_rep=='Chipper':\n",
    "        print \"For this Chipper complete each movement before moving to the next movement\"\n",
    "    else:\n",
    "        print \"Please Draw Again\""
   ]
  },
  {
   "cell_type": "code",
   "execution_count": 48,
   "metadata": {
    "collapsed": false
   },
   "outputs": [],
   "source": [
    "def random_movements():\n",
    "    num_mov= np.array([1,2,3,4,5,6])\n",
    "    num_of_movements = np.random.randint(1,len(num_mov),size=1)\n",
    "    num_of_mov=num_mov.take(num_of_movements)\n",
    "    movements_box = np.array(movements.keys())\n",
    "    movements_shaker = np.random.randint(1,len(movements.keys()),size=num_of_mov)\n",
    "    movements_selected=movements_box.take(movements_shaker)\n",
    "    num_of_moves=num_of_mov[::]\n",
    "    if num_of_moves== 1:\n",
    "        x = movements[movements_selected[0]]\n",
    "        rounds_or_reps = ['AMRAP','For Time','For Reps']\n",
    "        rounds_or_reps_box = np.array(rounds_or_reps)\n",
    "        rounds_or_reps_shaker = np.random.randint(0,len(rounds_or_reps),size=1)\n",
    "        rounds_reps = rounds_or_reps_box.take(rounds_or_reps_shaker)\n",
    "        print rounds_reps[0]\n",
    "        print x\n",
    "    elif num_of_moves==2:\n",
    "        x=[movements[movements_selected[0]],movements[movements_selected[1]]]\n",
    "        rounds_or_reps = ['AMRAP','For Time','For Reps']\n",
    "        rounds_or_reps_box = np.array(rounds_or_reps)\n",
    "        rounds_or_reps_shaker = np.random.randint(0,len(rounds_or_reps),size=1)\n",
    "        rounds_reps = rounds_or_reps_box.take(rounds_or_reps_shaker)\n",
    "        print rounds_reps[0]\n",
    "        for x in x:\n",
    "            print x\n",
    "    elif num_of_moves==3:\n",
    "        x=[movements[movements_selected[0]],movements[movements_selected[1]],movements[movements_selected[2]]]\n",
    "        rounds_or_reps = ['AMRAP','For Time','For Reps']\n",
    "        rounds_or_reps_box = np.array(rounds_or_reps)\n",
    "        rounds_or_reps_shaker = np.random.randint(0,len(rounds_or_reps),size=1)\n",
    "        rounds_reps = rounds_or_reps_box.take(rounds_or_reps_shaker)\n",
    "        print rounds_reps[0]\n",
    "        for x in x:\n",
    "            print x \n",
    "    elif num_of_moves==4:\n",
    "        x=[movements[movements_selected[0]],movements[movements_selected[1]],movements[movements_selected[2]],movements[movements_selected[3]]]\n",
    "        rounds_or_reps = ['AMRAP','For Time','For Reps']\n",
    "        rounds_or_reps_box = np.array(rounds_or_reps)\n",
    "        rounds_or_reps_shaker = np.random.randint(0,len(rounds_or_reps),size=1)\n",
    "        rounds_reps = rounds_or_reps_box.take(rounds_or_reps_shaker)\n",
    "        print rounds_reps[0]\n",
    "        for x in x:\n",
    "            print x\n",
    "    elif num_of_moves==5:\n",
    "        x =[movements[movements_selected[0]],movements[movements_selected[1]],movements[movements_selected[2]],movements[movements_selected[3]],movements[movements_selected[4]]]\n",
    "        rounds_or_reps = ['AMRAP','For Time','Chipper']\n",
    "        rounds_or_reps_box = np.array(rounds_or_reps)\n",
    "        rounds_or_reps_shaker = np.random.randint(0,len(rounds_or_reps),size=1)\n",
    "        rounds_reps = rounds_or_reps_box.take(rounds_or_reps_shaker)\n",
    "        print rounds_reps[0]\n",
    "        for x in x:\n",
    "            print x\n",
    "    elif num_of_moves==6:\n",
    "        x = [movements[movements_selected[0]],movements[movements_selected[1]],movements[movements_selected[2]],movements[movements_selected[3]],movements[movements_selected[4]],movements[movements_selected[5]]]\n",
    "        rounds_or_reps = ['AMRAP','For Time','Chipper']\n",
    "        rounds_or_reps_box = np.array(rounds_or_reps)\n",
    "        rounds_or_reps_shaker = np.random.randint(0,len(rounds_or_reps),size=1)\n",
    "        rounds_reps = rounds_or_reps_box.take(rounds_or_reps_shaker)\n",
    "        print rounds_reps[0]\n",
    "        for x in x:\n",
    "            print x\n",
    "    else:\n",
    "        print \"Please try again\""
   ]
  },
  {
   "cell_type": "code",
   "execution_count": 49,
   "metadata": {
    "collapsed": false
   },
   "outputs": [
    {
     "name": "stdout",
     "output_type": "stream",
     "text": [
      "Chipper\n",
      "TTB\n",
      "Power Snatch\n",
      "Wall Balls\n",
      "600m Run\n",
      "Med Ball Cleans\n"
     ]
    }
   ],
   "source": [
    "random_movements()"
   ]
  },
  {
   "cell_type": "code",
   "execution_count": 24,
   "metadata": {
    "collapsed": false
   },
   "outputs": [
    {
     "data": {
      "text/plain": [
       "0"
      ]
     },
     "execution_count": 24,
     "metadata": {},
     "output_type": "execute_result"
    }
   ],
   "source": [
    "num_of_movements[0]"
   ]
  },
  {
   "cell_type": "code",
   "execution_count": 25,
   "metadata": {
    "collapsed": false
   },
   "outputs": [
    {
     "data": {
      "text/plain": [
       "25"
      ]
     },
     "execution_count": 25,
     "metadata": {},
     "output_type": "execute_result"
    }
   ],
   "source": [
    "for_time_box=np.array(for_time_list)\n",
    "for_time_shaker=np.random.randint(0,len(for_time_list),size=1)\n",
    "for_time=for_time_box.take(for_time_shaker)\n",
    "\n",
    "for_time[0]"
   ]
  },
  {
   "cell_type": "markdown",
   "metadata": {},
   "source": []
  },
  {
   "cell_type": "raw",
   "metadata": {},
   "source": [
    "mov_scheme_dict = {1:movements[movements_selected[0]],\n",
    "                  2:[movements[movements_selected[0]],movements[movements_selected[1]]],\n",
    "                  3:[movements[movements_selected[0]],movements[movements_selected[1]],movements[movements_selected[2]]],\n",
    "                  4:[movements[movements_selected[0]],movements[movements_selected[1]],movements[movements_selected[2]],movements[movements_selected[3]]],\n",
    "                  5:[movements[movements_selected[0]],movements[movements_selected[1]],movements[movements_selected[2]],movements[movements_selected[3]],movements[movements_selected[4]]],\n",
    "                  6:[movements[movements_selected[0]],movements[movements_selected[1]],movements[movements_selected[2]],movements[movements_selected[3]],movements[movements_selected[4]],movements[movements_selected[5]]]}\n",
    "\n"
   ]
  },
  {
   "cell_type": "raw",
   "metadata": {
    "collapsed": false
   },
   "source": [
    "#may use this scheme in the future. Keep for dict that is already built out\n",
    "movements_shaker1 = np.random.randint(1,len(movements.keys()),size=1)\n",
    "movements_scheme1 = {1:[movements[movements_shaker1[0]]]}\n",
    "\n",
    "movements_shaker2 = np.random.randint(1,len(movements.keys()),size=2)\n",
    "movements_scheme2 = {1:[movements[movements_shaker2[0]]],\n",
    "                    2:[movements[movements_shaker2[0]],movements[movements_shaker2[1]]]}\n",
    "\n",
    "movements_shaker3 = np.random.randint(1,len(movements.keys()),size=3)\n",
    "movements_scheme3 = {1:[movements[movements_shaker3[0]],\n",
    "                     2:[movements[movements_shaker3[0]],movements[movements_shaker3[1]]],\n",
    "                     3:[movements[movements_shaker3[0]],movements[movements_shaker3[1]],movements[movements_shaker3[2]]]}\n",
    "                    \n",
    "\n",
    "movements_shaker4 = np.random.randint(1,len(movements.keys()),size=4)\n",
    "movements_scheme4 = {1:[movements[movements_shaker4[0]]],\n",
    "                    2:[movements[movements_shaker4[0]],movements[movements_shaker4[1]]],\n",
    "                    3:[movements[movements_shaker4[0]],movements[movements_shaker4[1]],movements[movements_shaker4[2]]],\n",
    "                    4:[movements[movements_shaker4[0]],movements[movements_shaker4[1]],movements[movements_shaker4[2]],movements[movements_shaker4[3]]]}\n",
    "\n",
    "movements_shaker5 = np.random.randint(1,len(movements.keys()),size=5)\n",
    "movements_scheme5 = {1:[movements[movements_shaker5[0]]],\n",
    "                     2:[movements[movements_shaker5[0]],movements[movements_shaker5[1]]],\n",
    "                    3:[movements[movements_shaker5[0]],movements[movements_shaker5[1]],movements[movements_shaker5[2]]],\n",
    "                    4:[movements[movements_shaker5[0]],movements[movements_shaker5[1]],movements[movements_shaker5[2]],movements[movements_shaker5[3]]],\n",
    "                    5:[movements[movements_shaker5[0]],movements[movements_shaker5[1]],movements[movements_shaker5[2]],movements[movements_shaker5[3]],movements[movements_shaker5[4]]]}\n",
    "\n",
    "movements_shaker6 = np.random.randint(1,len(movements.keys()),size=6)\n",
    "movements_scheme6 = {1:[movements[movements_shaker6[0]]],\n",
    "                    2:[movements[movements_shaker6[0]],movements[movements_shaker6[1]]],\n",
    "                    3:[movements[movements_shaker6[0]],movements[movements_shaker6[1]],movements[movements_shaker6[2]]],\n",
    "                    4:[movements[movements_shaker6[0]],movements[movements_shaker6[1]],movements[movements_shaker6[2]],movements[movements_shaker6[3]]],\n",
    "                    5:[movements[movements_shaker6[0]],movements[movements_shaker6[1]],movements[movements_shaker6[2]],movements[movements_shaker6[3]],movements[movements_shaker6[4]]],\n",
    "\t\t\t\t\t6:[movements[movements_shaker6[0]],movements[movements_shaker6[1]],movements[movements_shaker6[2]],movements[movements_shaker6[3]],movements[movements_shaker6[4]],movements[movements_shaker6[5]]]}\n",
    "\n",
    "\n",
    "movements_scheme[len(movements_shaker)]"
   ]
  },
  {
   "cell_type": "raw",
   "metadata": {},
   "source": [
    "#didn't work the way I wanted it to.\n",
    "def num_of_moves(x):\n",
    "    if num_of_moves== 1:\n",
    "        print movements[movements_selected[0]]\n",
    "    elif num_of_moves==2:\n",
    "        print [movements[movements_selected[0]],movements[movements_selected[1]]]\n",
    "    elif num_of_moves==3:\n",
    "        print [movements[movements_selected[0]],movements[movements_selected[1]],movements[movements_selected[2]]]\n",
    "    elif num_of_moves==4:\n",
    "        print [movements[movements_selected[0]],movements[movements_selected[1]],movements[movements_selected[2]],movements[movements_selected[3]]]\n",
    "    elif num_of_moves==5:\n",
    "        print [movements[movements_selected[0]],movements[movements_selected[1]],movements[movements_selected[2]],movements[movements_selected[3]],movements[movements_selected[4]]]\n",
    "    elif num_of_moves==6:\n",
    "        print [movements[movements_selected[0]],movements[movements_selected[1]],movements[movements_selected[2]],movements[movements_selected[3]],movements[movements_selected[4]],movements[movements_selected[5]]]\n",
    "    else:\n",
    "        print \"Please try again\"\n",
    "\n",
    "\n",
    "#for movement in num_of_moves:\n",
    "#    print movement"
   ]
  },
  {
   "cell_type": "code",
   "execution_count": null,
   "metadata": {
    "collapsed": true
   },
   "outputs": [],
   "source": []
  }
 ],
 "metadata": {
  "kernelspec": {
   "display_name": "Python 2",
   "language": "python",
   "name": "python2"
  },
  "language_info": {
   "codemirror_mode": {
    "name": "ipython",
    "version": 2
   },
   "file_extension": ".py",
   "mimetype": "text/x-python",
   "name": "python",
   "nbconvert_exporter": "python",
   "pygments_lexer": "ipython2",
   "version": "2.7.12"
  }
 },
 "nbformat": 4,
 "nbformat_minor": 0
}
